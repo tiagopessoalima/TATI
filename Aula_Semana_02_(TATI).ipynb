{
  "nbformat": 4,
  "nbformat_minor": 0,
  "metadata": {
    "colab": {
      "provenance": [],
      "authorship_tag": "ABX9TyP+s/3bd+umZkCGNgb4HQXH",
      "include_colab_link": true
    },
    "kernelspec": {
      "name": "python3",
      "display_name": "Python 3"
    },
    "language_info": {
      "name": "python"
    }
  },
  "cells": [
    {
      "cell_type": "markdown",
      "metadata": {
        "id": "view-in-github",
        "colab_type": "text"
      },
      "source": [
        "<a href=\"https://colab.research.google.com/github/tiagopessoalima/TATI/blob/main/Aula_Semana_02_(TATI).ipynb\" target=\"_parent\"><img src=\"https://colab.research.google.com/assets/colab-badge.svg\" alt=\"Open In Colab\"/></a>"
      ]
    },
    {
      "cell_type": "markdown",
      "source": [
        "# **Programação para Ciência de Dados com Python**"
      ],
      "metadata": {
        "id": "pfJh9drHoVL2"
      }
    },
    {
      "cell_type": "markdown",
      "source": [
        "A linguagem de programação Python emergiu como uma ferramenta indispensável no campo da Ciência de Dados, impulsionada por sua sintaxe clara, vasta biblioteca e comunidade ativa. Este texto técnico visa fornecer uma visão concisa da sintaxe básica do Python e suas principais bibliotecas: NumPy e Pandas, essenciais para manipulação e análise de dados."
      ],
      "metadata": {
        "id": "5fqnToKfocDi"
      }
    },
    {
      "cell_type": "markdown",
      "source": [
        "## **Sintaxe Básica do Python**"
      ],
      "metadata": {
        "id": "syhRIy4FoeDK"
      }
    },
    {
      "cell_type": "markdown",
      "source": [
        "Se destaca por sua legibilidade e sintaxe concisa, facilitando o aprendizado e desenvolvimento. Alguns conceitos fundamentais incluem:"
      ],
      "metadata": {
        "id": "V7OPbpK-628M"
      }
    },
    {
      "cell_type": "markdown",
      "source": [
        "- **Tipos de Dados:** Python suporta int, float, str, bool; tipagem dinâmica permite trocar tipos em execução.\n",
        "\n",
        "\n",
        "\n",
        "\n",
        "\n",
        "\n",
        "\n"
      ],
      "metadata": {
        "id": "poeqOoAV67L2"
      }
    },
    {
      "cell_type": "code",
      "source": [
        "x = 10\n",
        "print(type(x))  # class 'int'"
      ],
      "metadata": {
        "colab": {
          "base_uri": "https://localhost:8080/"
        },
        "id": "01J1sYiDKG4s",
        "outputId": "d4518045-b7fe-468d-fc33-4df40580413f"
      },
      "execution_count": 1,
      "outputs": [
        {
          "output_type": "stream",
          "name": "stdout",
          "text": [
            "<class 'int'>\n"
          ]
        }
      ]
    },
    {
      "cell_type": "code",
      "source": [
        "x = 3.14\n",
        "print(type(x))  # class 'float'"
      ],
      "metadata": {
        "colab": {
          "base_uri": "https://localhost:8080/"
        },
        "id": "piQKNGPZKHa6",
        "outputId": "87425695-5db7-4e7e-d4e4-fd0f23c1f2fa"
      },
      "execution_count": 2,
      "outputs": [
        {
          "output_type": "stream",
          "name": "stdout",
          "text": [
            "<class 'float'>\n"
          ]
        }
      ]
    },
    {
      "cell_type": "code",
      "source": [
        "x = \"Olá\"\n",
        "print(type(x))  # class 'str'"
      ],
      "metadata": {
        "colab": {
          "base_uri": "https://localhost:8080/"
        },
        "id": "2c4O1L5mKJO8",
        "outputId": "61e45daf-b302-4483-8af1-f334dfcd0e4f"
      },
      "execution_count": 3,
      "outputs": [
        {
          "output_type": "stream",
          "name": "stdout",
          "text": [
            "<class 'str'>\n"
          ]
        }
      ]
    },
    {
      "cell_type": "code",
      "source": [
        "x = True\n",
        "print(type(x))  # class 'bool'"
      ],
      "metadata": {
        "colab": {
          "base_uri": "https://localhost:8080/"
        },
        "id": "keAdwLYE7Dlp",
        "outputId": "70682f21-4b05-4def-979a-a8c9e87e0dea"
      },
      "execution_count": 4,
      "outputs": [
        {
          "output_type": "stream",
          "name": "stdout",
          "text": [
            "<class 'bool'>\n"
          ]
        }
      ]
    },
    {
      "cell_type": "markdown",
      "source": [
        "- **Estruturas de Dados:** Listas, tuplas, dicionários e conjuntos trazem flexibilidade para armazenar e organizar dados.\n",
        "\n",
        "\n",
        "\n",
        "\n",
        "\n",
        "\n",
        "\n"
      ],
      "metadata": {
        "id": "IRXz-n9m7D6v"
      }
    },
    {
      "cell_type": "code",
      "source": [
        "# Lista\n",
        "frutas = [\"maçã\", \"banana\", \"laranja\"]\n",
        "frutas.append(\"uva\")\n",
        "print(frutas)  # [\"maçã\", \"banana\", \"laranja\", \"uva\"]"
      ],
      "metadata": {
        "colab": {
          "base_uri": "https://localhost:8080/"
        },
        "id": "7_63PMvaKMkH",
        "outputId": "3378e147-3533-4cd8-e88c-322637bc7865"
      },
      "execution_count": 5,
      "outputs": [
        {
          "output_type": "stream",
          "name": "stdout",
          "text": [
            "['maçã', 'banana', 'laranja', 'uva']\n"
          ]
        }
      ]
    },
    {
      "cell_type": "code",
      "source": [
        "# Tupla\n",
        "cores = (\"vermelho\", \"verde\", \"azul\")\n",
        "print(cores[0])  # \"vermelho\""
      ],
      "metadata": {
        "colab": {
          "base_uri": "https://localhost:8080/"
        },
        "id": "2IqtFMfKKNmk",
        "outputId": "c0a50265-80eb-473f-d5f9-3e66d738f5e7"
      },
      "execution_count": 6,
      "outputs": [
        {
          "output_type": "stream",
          "name": "stdout",
          "text": [
            "vermelho\n"
          ]
        }
      ]
    },
    {
      "cell_type": "code",
      "source": [
        "# Dicionário\n",
        "aluno = {\n",
        "    \"nome\": \"Ana\",\n",
        "    \"idade\": 22,\n",
        "    \"curso\": \"Engenharia\"\n",
        "}\n",
        "print(aluno[\"nome\"])  # \"Ana\""
      ],
      "metadata": {
        "colab": {
          "base_uri": "https://localhost:8080/"
        },
        "id": "7-BLSTOdKPFQ",
        "outputId": "bc397fc0-0bb6-45ec-b2d6-360aed74d937"
      },
      "execution_count": 7,
      "outputs": [
        {
          "output_type": "stream",
          "name": "stdout",
          "text": [
            "Ana\n"
          ]
        }
      ]
    },
    {
      "cell_type": "code",
      "source": [
        "# Conjunto\n",
        "numeros = {1, 2, 3, 2, 1}\n",
        "print(numeros)  # {1, 2, 3}"
      ],
      "metadata": {
        "colab": {
          "base_uri": "https://localhost:8080/"
        },
        "id": "EkpZkixy8Ac7",
        "outputId": "c850f0ab-3ed1-45f5-b0e2-ef3188dac3d7"
      },
      "execution_count": 8,
      "outputs": [
        {
          "output_type": "stream",
          "name": "stdout",
          "text": [
            "{1, 2, 3}\n"
          ]
        }
      ]
    },
    {
      "cell_type": "markdown",
      "source": [
        "- **Controle de Fluxo:** Declarações condicionais (if, elif, else) e loops (for, while) permitem controlar o fluxo de execução do programa."
      ],
      "metadata": {
        "id": "YKGro4F28Kss"
      }
    },
    {
      "cell_type": "code",
      "source": [
        "# if, elif, else\n",
        "idade = 18\n",
        "if idade < 18:\n",
        "    print(\"Menor de idade\")\n",
        "elif idade == 18:\n",
        "    print(\"Exatamente 18 anos\")\n",
        "else:\n",
        "    print(\"Maior de idade\")"
      ],
      "metadata": {
        "colab": {
          "base_uri": "https://localhost:8080/"
        },
        "id": "cbNxYGoNKR4N",
        "outputId": "beff0e5f-9a79-4b88-fde2-09ae1e22ad99"
      },
      "execution_count": 9,
      "outputs": [
        {
          "output_type": "stream",
          "name": "stdout",
          "text": [
            "Exatamente 18 anos\n"
          ]
        }
      ]
    },
    {
      "cell_type": "code",
      "source": [
        "# for\n",
        "for i in range(3):\n",
        "    print(i)  # 0, 1, 2"
      ],
      "metadata": {
        "colab": {
          "base_uri": "https://localhost:8080/"
        },
        "id": "EfTGliAaKTI1",
        "outputId": "29ad262b-ed5b-4512-cc2b-c2dbade768b8"
      },
      "execution_count": 10,
      "outputs": [
        {
          "output_type": "stream",
          "name": "stdout",
          "text": [
            "0\n",
            "1\n",
            "2\n"
          ]
        }
      ]
    },
    {
      "cell_type": "code",
      "source": [
        "# while\n",
        "contador = 0\n",
        "while contador < 3:\n",
        "    print(contador)  # 0, 1, 2\n",
        "    contador += 1"
      ],
      "metadata": {
        "colab": {
          "base_uri": "https://localhost:8080/"
        },
        "id": "Rz19Sbo78TGQ",
        "outputId": "ebdf4371-962b-439c-c4ff-c752ab32973c"
      },
      "execution_count": 11,
      "outputs": [
        {
          "output_type": "stream",
          "name": "stdout",
          "text": [
            "0\n",
            "1\n",
            "2\n"
          ]
        }
      ]
    },
    {
      "cell_type": "markdown",
      "source": [
        "- **Funções:** Funções permitem encapsular blocos de código para reutilização, promovendo modularidade e organização."
      ],
      "metadata": {
        "id": "6_qpdHj08bDN"
      }
    },
    {
      "cell_type": "code",
      "source": [
        "def saudar(nome):\n",
        "    print(f\"Olá, {nome}!\")\n",
        "\n",
        "saudar(\"Ana\")  # Chamada da função"
      ],
      "metadata": {
        "colab": {
          "base_uri": "https://localhost:8080/"
        },
        "id": "ZeCCSVL9KW0K",
        "outputId": "bf5f02d4-97a7-4800-fd13-9457655073ca"
      },
      "execution_count": 12,
      "outputs": [
        {
          "output_type": "stream",
          "name": "stdout",
          "text": [
            "Olá, Ana!\n"
          ]
        }
      ]
    },
    {
      "cell_type": "code",
      "source": [
        "def somar(a, b):\n",
        "    return a + b\n",
        "\n",
        "resultado = somar(3, 4)\n",
        "print(\"Resultado da soma:\", resultado)"
      ],
      "metadata": {
        "colab": {
          "base_uri": "https://localhost:8080/"
        },
        "id": "ncu0tQP-8fBp",
        "outputId": "d49685c0-6df8-42ef-f398-bf562dee4f14"
      },
      "execution_count": 13,
      "outputs": [
        {
          "output_type": "stream",
          "name": "stdout",
          "text": [
            "Resultado da soma: 7\n"
          ]
        }
      ]
    },
    {
      "cell_type": "markdown",
      "source": [
        "## **[NumPy]((https://numpy.org/)) (Numerical Python)**"
      ],
      "metadata": {
        "id": "XftJ3Wx_oom5"
      }
    },
    {
      "cell_type": "markdown",
      "source": [
        "É uma biblioteca fundamental para computação científica em Python. Ela fornece suporte para arrays multidimensionais, além de diversas funções matemáticas otimizadas para trabalhar com esses arrays de forma eficiente.\n",
        "\n"
      ],
      "metadata": {
        "id": "sbTMHQ9E9Qug"
      }
    },
    {
      "cell_type": "markdown",
      "source": [
        "### **O que são Arrays NumPy?**\n"
      ],
      "metadata": {
        "id": "iCNMgjAr9fGH"
      }
    },
    {
      "cell_type": "markdown",
      "source": [
        "Arrays NumPy, ou ndarrays, são estruturas de dados homogêneas que armazenam elementos do mesmo tipo. Eles oferecem vantagens significativas em relação às listas Python tradicionais, como:\n",
        "\n",
        "- Desempenho superior: Operações matemáticas em arrays NumPy são realizadas de forma mais rápida e eficiente.\n",
        "- Menor consumo de memória: Arrays NumPy armazenam os dados de forma mais compacta.\n",
        "- Facilidade de uso: NumPy oferece diversas funções para manipulação e cálculo com arrays."
      ],
      "metadata": {
        "id": "i8mw-njF9kQ9"
      }
    },
    {
      "cell_type": "markdown",
      "source": [
        "### **Criando Arrays NumPy**"
      ],
      "metadata": {
        "id": "QYdfA-y59v5o"
      }
    },
    {
      "cell_type": "markdown",
      "source": [
        "Existem diversas maneiras de criar arrays NumPy:"
      ],
      "metadata": {
        "id": "d2liOSlW9yKs"
      }
    },
    {
      "cell_type": "markdown",
      "source": [
        "- **A partir de listas Python:** Converta listas comuns em arrays NumPy usando `np.array()`. Isso permite aproveitar a eficiência e a flexibilidade de processamento oferecidas pelos arrays NumPy.\n"
      ],
      "metadata": {
        "id": "Wcl0l1kI90Gl"
      }
    },
    {
      "cell_type": "code",
      "source": [
        "import numpy as np\n",
        "\n",
        "lista = [1, 2, 3, 4, 5]\n",
        "array = np.array(lista)\n",
        "print(array)  # Output: [1 2 3 4 5]"
      ],
      "metadata": {
        "colab": {
          "base_uri": "https://localhost:8080/"
        },
        "id": "PfaaVJ9y9_0o",
        "outputId": "8e3cf406-b1b5-411f-ba74-da9b80bfacaf"
      },
      "execution_count": 14,
      "outputs": [
        {
          "output_type": "stream",
          "name": "stdout",
          "text": [
            "[1 2 3 4 5]\n"
          ]
        }
      ]
    },
    {
      "cell_type": "markdown",
      "source": [
        "- **Com valores iniciais:** Inicialize arrays já preenchidos com zeros, uns ou valores aleatórios. Útil para criar vetores ou matrizes iniciais antes de aplicar transformações ou cálculos."
      ],
      "metadata": {
        "id": "Oeh48B9q-CQf"
      }
    },
    {
      "cell_type": "code",
      "source": [
        "# Array com 5 zeros\n",
        "array_zeros = np.zeros(5)\n",
        "print(\"array_zeros:\", array_zeros)"
      ],
      "metadata": {
        "colab": {
          "base_uri": "https://localhost:8080/"
        },
        "id": "HK2SGkhIKa9n",
        "outputId": "42768be8-7823-455f-f136-ed130e236683"
      },
      "execution_count": 15,
      "outputs": [
        {
          "output_type": "stream",
          "name": "stdout",
          "text": [
            "array_zeros: [0. 0. 0. 0. 0.]\n"
          ]
        }
      ]
    },
    {
      "cell_type": "code",
      "source": [
        "# Array 2x3 com uns\n",
        "array_ones = np.ones((2, 3))\n",
        "print(\"array_ones:\\n\", array_ones)"
      ],
      "metadata": {
        "colab": {
          "base_uri": "https://localhost:8080/"
        },
        "id": "q4d_zXT3KcHy",
        "outputId": "e578c7c1-4fb0-4a25-95b7-474a5dbff117"
      },
      "execution_count": 16,
      "outputs": [
        {
          "output_type": "stream",
          "name": "stdout",
          "text": [
            "array_ones:\n",
            " [[1. 1. 1.]\n",
            " [1. 1. 1.]]\n"
          ]
        }
      ]
    },
    {
      "cell_type": "code",
      "source": [
        "# Array com 4 números aleatórios entre 0 e 1\n",
        "array_random = np.random.rand(4)\n",
        "print(\"array_random:\", array_random)"
      ],
      "metadata": {
        "colab": {
          "base_uri": "https://localhost:8080/"
        },
        "id": "eAtYFPh5-FHN",
        "outputId": "9086405c-990f-4d1b-c2ca-847f2cb98246"
      },
      "execution_count": 17,
      "outputs": [
        {
          "output_type": "stream",
          "name": "stdout",
          "text": [
            "array_random: [0.76966036 0.97002425 0.1631964  0.7832303 ]\n"
          ]
        }
      ]
    },
    {
      "cell_type": "markdown",
      "source": [
        "- **Com sequências numéricas:** Utilize funções como `np.arange()` e `np.linspace()` para gerar sequências de números com intervalos ou espaços definidos, facilitando a criação de séries matemáticas e varreduras de parâmetros."
      ],
      "metadata": {
        "id": "eh6WEwLA-I6f"
      }
    },
    {
      "cell_type": "code",
      "source": [
        "# Array com valores de 0 a 9, pulando de 2 em 2\n",
        "array_arange = np.arange(0, 10, 2)\n",
        "print(\"array_arange:\", array_arange)"
      ],
      "metadata": {
        "colab": {
          "base_uri": "https://localhost:8080/"
        },
        "id": "4pu_2AacKegJ",
        "outputId": "45642001-f844-4fac-8cd2-7d306ef6b28c"
      },
      "execution_count": 18,
      "outputs": [
        {
          "output_type": "stream",
          "name": "stdout",
          "text": [
            "array_arange: [0 2 4 6 8]\n"
          ]
        }
      ]
    },
    {
      "cell_type": "code",
      "source": [
        "# Array com 5 valores igualmente espaçados entre 0 e 1\n",
        "array_linspace = np.linspace(0, 1, 5)\n",
        "print(\"array_linspace:\", array_linspace)"
      ],
      "metadata": {
        "colab": {
          "base_uri": "https://localhost:8080/"
        },
        "id": "qVZZVz7g-MPr",
        "outputId": "92af9809-20d6-4b61-cd0a-9b66ceece84c"
      },
      "execution_count": 19,
      "outputs": [
        {
          "output_type": "stream",
          "name": "stdout",
          "text": [
            "array_linspace: [0.   0.25 0.5  0.75 1.  ]\n"
          ]
        }
      ]
    },
    {
      "cell_type": "markdown",
      "source": [
        "### **Atributos de Arrays NumPy**"
      ],
      "metadata": {
        "id": "I747kkh5-Oq2"
      }
    },
    {
      "cell_type": "markdown",
      "source": [
        "Arrays NumPy possuem diversos atributos que fornecem informações sobre sua estrutura e conteúdo:\n",
        "\n",
        "- `ndim`: Número de dimensões do array.\n",
        "- `shape`: Dimensões do array (tupla com o tamanho de cada dimensão).\n",
        "- `size`: Número total de elementos do array.\n",
        "- `dtype`: Tipo de dados dos elementos do array."
      ],
      "metadata": {
        "id": "0HvQGbtC-sIv"
      }
    },
    {
      "cell_type": "code",
      "source": [
        "# Cria um array 2D (matriz) com 2 linhas e 3 colunas\n",
        "matriz = np.array([[1, 2, 3],\n",
        "                   [4, 5, 6]])\n",
        "\n",
        "print(\"ndim:\", matriz.ndim)    # Número de dimensões do array (2)\n",
        "print(\"shape:\", matriz.shape)  # Tupla com as dimensões (2, 3)\n",
        "print(\"size:\", matriz.size)    # Número total de elementos (6)\n",
        "print(\"dtype:\", matriz.dtype)  # Tipo dos elementos (int32, int64, etc.)"
      ],
      "metadata": {
        "colab": {
          "base_uri": "https://localhost:8080/"
        },
        "id": "cKazKWdH-3fk",
        "outputId": "d7ade3e1-b43d-4ceb-a5a5-c0d255ca0747"
      },
      "execution_count": 20,
      "outputs": [
        {
          "output_type": "stream",
          "name": "stdout",
          "text": [
            "ndim: 2\n",
            "shape: (2, 3)\n",
            "size: 6\n",
            "dtype: int64\n"
          ]
        }
      ]
    },
    {
      "cell_type": "markdown",
      "source": [
        "### **Indexação e Slicing de Arrays NumPy**\n"
      ],
      "metadata": {
        "id": "oaUwTtfo_imx"
      }
    },
    {
      "cell_type": "markdown",
      "source": [
        "A indexação e o slicing de arrays NumPy são semelhantes aos de listas Python, com algumas extensões para arrays multidimensionais:"
      ],
      "metadata": {
        "id": "jFL0dHr2_nmA"
      }
    },
    {
      "cell_type": "code",
      "source": [
        "array = np.array([[1, 2, 3], [4, 5, 6], [7, 8, 9]])\n",
        "\n",
        "print(array[0, 1])  # Output: 2 (elemento na linha 0, coluna 1)\n",
        "print(array[:, 2])  # Output: [3 6 9] (todos os elementos da coluna 2)\n",
        "print(array[1:, 1:])  # Output: [[5 6], [8 9]] (submatriz a partir da linha 1, coluna 1)"
      ],
      "metadata": {
        "colab": {
          "base_uri": "https://localhost:8080/"
        },
        "id": "OZdC0Elx_rvH",
        "outputId": "163db3de-5535-4eae-b5b1-3c564d4402d1"
      },
      "execution_count": 21,
      "outputs": [
        {
          "output_type": "stream",
          "name": "stdout",
          "text": [
            "2\n",
            "[3 6 9]\n",
            "[[5 6]\n",
            " [8 9]]\n"
          ]
        }
      ]
    },
    {
      "cell_type": "markdown",
      "source": [
        "### **Operações Matemáticas com Arrays NumPy**"
      ],
      "metadata": {
        "id": "lvENnjJqAEYL"
      }
    },
    {
      "cell_type": "markdown",
      "source": [
        "NumPy permite realizar operações matemáticas em arrays de forma eficiente:"
      ],
      "metadata": {
        "id": "M4x7p_fqAGrn"
      }
    },
    {
      "cell_type": "markdown",
      "source": [
        "- **Operações elemento a elemento:** Arrays NumPy permitem realizar operações diretamente em cada posição, como soma e multiplicação, sem a necessidade de loops explícitos."
      ],
      "metadata": {
        "id": "F1Vyh5KEAK2s"
      }
    },
    {
      "cell_type": "code",
      "source": [
        "array1 = np.array([1, 2, 3])\n",
        "array2 = np.array([4, 5, 6])\n",
        "\n",
        "print(array1 + array2)  # Output: [5 7 9]\n",
        "print(array1 * array2)  # Output: [4 10 18]"
      ],
      "metadata": {
        "colab": {
          "base_uri": "https://localhost:8080/"
        },
        "id": "quLmbmH4ALvD",
        "outputId": "dec882e4-266a-4ffe-f127-2b36ffc4ab11"
      },
      "execution_count": 22,
      "outputs": [
        {
          "output_type": "stream",
          "name": "stdout",
          "text": [
            "[5 7 9]\n",
            "[ 4 10 18]\n"
          ]
        }
      ]
    },
    {
      "cell_type": "markdown",
      "source": [
        "- **Funções matemáticas:** NumPy oferece funções prontas, como sum, mean e max, para operações comuns de estatística e agregação sobre os elementos do array."
      ],
      "metadata": {
        "id": "NymbRErSAeF6"
      }
    },
    {
      "cell_type": "code",
      "source": [
        "array = np.array([1, 2, 3, 4, 5])\n",
        "\n",
        "print(np.sum(array))   # 15  (soma dos elementos)\n",
        "print(np.mean(array))  # 3.0 (média dos elementos)\n",
        "print(np.max(array))   # 5   (valor máximo)"
      ],
      "metadata": {
        "colab": {
          "base_uri": "https://localhost:8080/"
        },
        "id": "4sT9IRovAl-U",
        "outputId": "296fc764-8e8b-4493-981c-abac5e4b6594"
      },
      "execution_count": 23,
      "outputs": [
        {
          "output_type": "stream",
          "name": "stdout",
          "text": [
            "15\n",
            "3.0\n",
            "5\n"
          ]
        }
      ]
    },
    {
      "cell_type": "markdown",
      "source": [
        "### **Funções Úteis do NumPy**"
      ],
      "metadata": {
        "id": "Z-vJtqVvAwxC"
      }
    },
    {
      "cell_type": "markdown",
      "source": [
        "- `reshape()`: Altera o formato de um array, mantendo a mesma quantidade de elementos. É especialmente útil para reestruturar dados sem precisar criar um novo array.\n"
      ],
      "metadata": {
        "id": "9noIIrHtA7yx"
      }
    },
    {
      "cell_type": "code",
      "source": [
        "# Criando um array 1D com 6 elementos\n",
        "array = np.array([1, 2, 3, 4, 5, 6])\n",
        "print(\"Array original:\", array)"
      ],
      "metadata": {
        "colab": {
          "base_uri": "https://localhost:8080/"
        },
        "id": "YFKMKEqBKqAk",
        "outputId": "18cb98d9-fbca-4330-925f-fef71d92c2d9"
      },
      "execution_count": 24,
      "outputs": [
        {
          "output_type": "stream",
          "name": "stdout",
          "text": [
            "Array original: [1 2 3 4 5 6]\n"
          ]
        }
      ]
    },
    {
      "cell_type": "code",
      "source": [
        "# Transformando em um array 2D de formato (2, 3)\n",
        "array_reshaped = array.reshape(2, 3)\n",
        "print(\"Array reshape(2, 3):\\n\", array_reshaped)"
      ],
      "metadata": {
        "colab": {
          "base_uri": "https://localhost:8080/"
        },
        "id": "9GibEutSA9Uo",
        "outputId": "758b0f56-985f-4659-d442-a3415c97f8ae"
      },
      "execution_count": 25,
      "outputs": [
        {
          "output_type": "stream",
          "name": "stdout",
          "text": [
            "Array reshape(2, 3):\n",
            " [[1 2 3]\n",
            " [4 5 6]]\n"
          ]
        }
      ]
    },
    {
      "cell_type": "markdown",
      "source": [
        "- `transpose()`: Transpõe um array, invertendo linhas e colunas em arrays 2D. Para arrays de mais dimensões, retorna uma nova vista com os eixos invertidos."
      ],
      "metadata": {
        "id": "4tDUhG7tBIFt"
      }
    },
    {
      "cell_type": "code",
      "source": [
        "# Matriz 2D (2 linhas, 3 colunas)\n",
        "matriz = np.array([[1, 2, 3],\n",
        "                   [4, 5, 6]])\n",
        "print(\"Matriz original:\\n\", matriz)"
      ],
      "metadata": {
        "colab": {
          "base_uri": "https://localhost:8080/"
        },
        "id": "aOReeAyfKsne",
        "outputId": "f30d5054-95cc-4084-c4d9-eb43851facf0"
      },
      "execution_count": 26,
      "outputs": [
        {
          "output_type": "stream",
          "name": "stdout",
          "text": [
            "Matriz original:\n",
            " [[1 2 3]\n",
            " [4 5 6]]\n"
          ]
        }
      ]
    },
    {
      "cell_type": "code",
      "source": [
        "# Transpondo a matriz (3 linhas, 2 colunas)\n",
        "matriz_transposta = matriz.transpose()\n",
        "# Equivalente: matriz.T\n",
        "print(\"Matriz transposta:\\n\", matriz_transposta)"
      ],
      "metadata": {
        "colab": {
          "base_uri": "https://localhost:8080/"
        },
        "id": "3OhCRA3gBQ_h",
        "outputId": "9d1eafa8-349d-40a7-ed15-0ee464e0263e"
      },
      "execution_count": 27,
      "outputs": [
        {
          "output_type": "stream",
          "name": "stdout",
          "text": [
            "Matriz transposta:\n",
            " [[1 4]\n",
            " [2 5]\n",
            " [3 6]]\n"
          ]
        }
      ]
    },
    {
      "cell_type": "markdown",
      "source": [
        "- `concatenate()`: Concatena (une) dois ou mais arrays ao longo de um eixo. Por padrão, une ao longo do eixo 0 (linhas)."
      ],
      "metadata": {
        "id": "HZR4nOonB4Ht"
      }
    },
    {
      "cell_type": "code",
      "source": [
        "# Arrays 1D\n",
        "a = np.array([1, 2, 3])\n",
        "b = np.array([4, 5, 6])\n",
        "concatenado_1d = np.concatenate((a, b))\n",
        "print(\"Concatenação 1D:\", concatenado_1d)"
      ],
      "metadata": {
        "colab": {
          "base_uri": "https://localhost:8080/"
        },
        "id": "yjKsC2PgKwIl",
        "outputId": "273c239c-dbab-44a0-b89f-e9eb147b44a5"
      },
      "execution_count": 28,
      "outputs": [
        {
          "output_type": "stream",
          "name": "stdout",
          "text": [
            "Concatenação 1D: [1 2 3 4 5 6]\n"
          ]
        }
      ]
    },
    {
      "cell_type": "code",
      "source": [
        "# Arrays 2D\n",
        "matriz1 = np.array([[1, 2],\n",
        "                    [3, 4]])\n",
        "matriz2 = np.array([[5, 6],\n",
        "                    [7, 8]])\n",
        "\n",
        "# Concatena verticalmente (eixo 0)\n",
        "concatenado_2d = np.concatenate((matriz1, matriz2), axis=0)\n",
        "print(\"Concatenação 2D ao longo do eixo 0:\\n\", concatenado_2d)"
      ],
      "metadata": {
        "colab": {
          "base_uri": "https://localhost:8080/"
        },
        "id": "QDDivED3B-z8",
        "outputId": "47b184da-cd55-42c6-fbb0-e007c9e5915f"
      },
      "execution_count": 29,
      "outputs": [
        {
          "output_type": "stream",
          "name": "stdout",
          "text": [
            "Concatenação 2D ao longo do eixo 0:\n",
            " [[1 2]\n",
            " [3 4]\n",
            " [5 6]\n",
            " [7 8]]\n"
          ]
        }
      ]
    },
    {
      "cell_type": "markdown",
      "source": [
        "- `split()`: Divide um array em subarrays. O parâmetro indica em quantas partes dividir (ou quais índices de corte) e o eixo ao longo do qual a divisão será feita (por padrão, eixo 0)."
      ],
      "metadata": {
        "id": "gX8eCJqsCACm"
      }
    },
    {
      "cell_type": "code",
      "source": [
        "matriz_2d = np.array([[1, 2, 3],\n",
        "                      [4, 5, 6],\n",
        "                      [7, 8, 9]])\n",
        "\n",
        "# Dividir em 3 partes iguais ao longo do eixo 0\n",
        "parte1, parte2, parte3 = np.split(matriz_2d, 3, axis=0)\n",
        "print(\"Parte 1:\\n\", parte1)\n",
        "print(\"Parte 2:\\n\", parte2)\n",
        "print(\"Parte 3:\\n\", parte3)"
      ],
      "metadata": {
        "colab": {
          "base_uri": "https://localhost:8080/"
        },
        "id": "OYux_X4QCLEb",
        "outputId": "e03ac849-1e7a-4925-a0b0-1c06a172114c"
      },
      "execution_count": 30,
      "outputs": [
        {
          "output_type": "stream",
          "name": "stdout",
          "text": [
            "Parte 1:\n",
            " [[1 2 3]]\n",
            "Parte 2:\n",
            " [[4 5 6]]\n",
            "Parte 3:\n",
            " [[7 8 9]]\n"
          ]
        }
      ]
    },
    {
      "cell_type": "markdown",
      "source": [
        "## **[Pandas](https://pandas.pydata.org/)**"
      ],
      "metadata": {
        "id": "E0nDH13hpNlY"
      }
    },
    {
      "cell_type": "markdown",
      "source": [
        "É uma biblioteca Python essencial para análise e manipulação de dados. Ela oferece estruturas de dados flexíveis e de alto desempenho, projetadas para tornar o trabalho com dados \"relacionais\" ou \"rotulados\" intuitivo e eficiente.\n",
        "\n"
      ],
      "metadata": {
        "id": "LfQofOwuFzpQ"
      }
    },
    {
      "cell_type": "markdown",
      "source": [
        "### **O que são Series e DataFrames Pandas?**"
      ],
      "metadata": {
        "id": "91LHGRo0GBRx"
      }
    },
    {
      "cell_type": "markdown",
      "source": [
        "Pandas introduz duas estruturas de dados principais:"
      ],
      "metadata": {
        "id": "IO8hT3jbGHp1"
      }
    },
    {
      "cell_type": "markdown",
      "source": [
        "- **Series**: Arrays unidimensionais rotulados, capazes de armazenar qualquer tipo de dado (inteiros, strings, floats, objetos Python, etc.). Pense nelas como colunas de uma tabela."
      ],
      "metadata": {
        "id": "Zd7EwEHNGLDH"
      }
    },
    {
      "cell_type": "code",
      "source": [
        "import pandas as pd\n",
        "\n",
        "# Criando uma Series a partir de uma lista\n",
        "s = pd.Series([10, 20, 30, 40, 50])\n",
        "print(s)"
      ],
      "metadata": {
        "colab": {
          "base_uri": "https://localhost:8080/"
        },
        "id": "CEPQUoYpK6NC",
        "outputId": "b189cdf5-55e1-4fbb-cfe6-89dfba59d12e"
      },
      "execution_count": 31,
      "outputs": [
        {
          "output_type": "stream",
          "name": "stdout",
          "text": [
            "0    10\n",
            "1    20\n",
            "2    30\n",
            "3    40\n",
            "4    50\n",
            "dtype: int64\n"
          ]
        }
      ]
    },
    {
      "cell_type": "code",
      "source": [
        "# Criando uma Series com índices personalizados\n",
        "s = pd.Series([10, 20, 30, 40, 50], index=['a', 'b', 'c', 'd', 'e'])\n",
        "print(s)"
      ],
      "metadata": {
        "colab": {
          "base_uri": "https://localhost:8080/"
        },
        "id": "8Ht20G-hGP5F",
        "outputId": "b6937e36-c44a-4736-eba2-92dc199c15f1"
      },
      "execution_count": 32,
      "outputs": [
        {
          "output_type": "stream",
          "name": "stdout",
          "text": [
            "a    10\n",
            "b    20\n",
            "c    30\n",
            "d    40\n",
            "e    50\n",
            "dtype: int64\n"
          ]
        }
      ]
    },
    {
      "cell_type": "markdown",
      "source": [
        "- **DataFrames**: Estruturas de dados tabulares bidimensionais, semelhantes a planilhas ou tabelas SQL. DataFrames são coleções de Series, compartilhando o mesmo índice. Eles são incrivelmente versáteis para representar e manipular dados tabulares.\n"
      ],
      "metadata": {
        "id": "wSSA7wnRGRGM"
      }
    },
    {
      "cell_type": "code",
      "source": [
        "# Criando um DataFrame a partir de um dicionário\n",
        "data = {'coluna1': [1, 2, 3, 4],\n",
        "        'coluna2': ['A', 'B', 'C', 'D'],\n",
        "        'coluna3': [True, False, True, False]}\n",
        "df = pd.DataFrame(data)\n",
        "print(df)"
      ],
      "metadata": {
        "colab": {
          "base_uri": "https://localhost:8080/"
        },
        "id": "Ea8Z-7v9K9M4",
        "outputId": "19e98adf-13f4-49ad-9266-8500cbffef04"
      },
      "execution_count": 33,
      "outputs": [
        {
          "output_type": "stream",
          "name": "stdout",
          "text": [
            "   coluna1 coluna2  coluna3\n",
            "0        1       A     True\n",
            "1        2       B    False\n",
            "2        3       C     True\n",
            "3        4       D    False\n"
          ]
        }
      ]
    },
    {
      "cell_type": "code",
      "source": [
        "# Criando um DataFrame a partir de uma lista de dicionários\n",
        "data = [{'coluna1': 1, 'coluna2': 'A', 'coluna3': True},\n",
        "        {'coluna1': 2, 'coluna2': 'B', 'coluna3': False},\n",
        "        {'coluna1': 3, 'coluna2': 'C', 'coluna3': True},\n",
        "        {'coluna1': 4, 'coluna2': 'D', 'coluna3': False}]\n",
        "df = pd.DataFrame(data)\n",
        "print(df)"
      ],
      "metadata": {
        "colab": {
          "base_uri": "https://localhost:8080/"
        },
        "id": "xahzKC5JGXS5",
        "outputId": "d113ca8e-8f76-42bb-ea09-c8c967ad75f7"
      },
      "execution_count": 34,
      "outputs": [
        {
          "output_type": "stream",
          "name": "stdout",
          "text": [
            "   coluna1 coluna2  coluna3\n",
            "0        1       A     True\n",
            "1        2       B    False\n",
            "2        3       C     True\n",
            "3        4       D    False\n"
          ]
        }
      ]
    },
    {
      "cell_type": "code",
      "source": [
        "# Criando um DataFrame a partir de um arquivo CSV\n",
        "# df = pd.read_csv('arquivo.csv')"
      ],
      "metadata": {
        "id": "pDzR4MVRK_Ta"
      },
      "execution_count": 35,
      "outputs": []
    },
    {
      "cell_type": "markdown",
      "source": [
        "### **Manipulando DataFrames Pandas**"
      ],
      "metadata": {
        "id": "NIPdPNaBGkI6"
      }
    },
    {
      "cell_type": "markdown",
      "source": [
        "A seguir, confira as operações básicas para manipulação e análise de dados:"
      ],
      "metadata": {
        "id": "fSzCRCjfHA2e"
      }
    },
    {
      "cell_type": "markdown",
      "source": [
        "- **Selecionando Colunas:** Podemos selecionar uma única coluna de um DataFrame acessando-a como se fosse uma chave de dicionário. Para selecionar múltiplas colunas, passamos uma lista de nomes de colunas."
      ],
      "metadata": {
        "id": "k500v2AHHGao"
      }
    },
    {
      "cell_type": "code",
      "source": [
        "# Selecionando uma única coluna\n",
        "coluna1 = df['coluna1']\n",
        "print(\"Coluna 1:\\n\", coluna1)"
      ],
      "metadata": {
        "colab": {
          "base_uri": "https://localhost:8080/"
        },
        "id": "FbjnW7RALCeK",
        "outputId": "0b2abcbe-2aa8-4a17-c8b3-2354247c1870"
      },
      "execution_count": 36,
      "outputs": [
        {
          "output_type": "stream",
          "name": "stdout",
          "text": [
            "Coluna 1:\n",
            " 0    1\n",
            "1    2\n",
            "2    3\n",
            "3    4\n",
            "Name: coluna1, dtype: int64\n"
          ]
        }
      ]
    },
    {
      "cell_type": "code",
      "source": [
        "# Selecionando múltiplas colunas\n",
        "colunas_selecionadas = df[['coluna1', 'coluna2']]\n",
        "print(\"\\nColunas 1 e 2:\\n\", colunas_selecionadas)"
      ],
      "metadata": {
        "colab": {
          "base_uri": "https://localhost:8080/"
        },
        "id": "E3lj7xrBHVkw",
        "outputId": "f3609f12-5c1d-4f61-a9b9-1b9fd36c650c"
      },
      "execution_count": 37,
      "outputs": [
        {
          "output_type": "stream",
          "name": "stdout",
          "text": [
            "\n",
            "Colunas 1 e 2:\n",
            "    coluna1 coluna2\n",
            "0        1       A\n",
            "1        2       B\n",
            "2        3       C\n",
            "3        4       D\n"
          ]
        }
      ]
    },
    {
      "cell_type": "markdown",
      "source": [
        "- **Selecionando Linhas (Indexação e Slicing):** Existem várias formas de selecionar linhas de um DataFrame:\n",
        " - `loc`: Seleciona linhas baseadas nos rótulos do índice.\n",
        "\n",
        " - `iloc`: Seleciona linhas baseadas na posição (índices inteiros).\n",
        "\n",
        " - **Slicing**: Funciona de forma semelhante às listas em Python.\n",
        "\n",
        "\n"
      ],
      "metadata": {
        "id": "ecrOhKCaHVut"
      }
    },
    {
      "cell_type": "code",
      "source": [
        "# Selecionando linhas com base no índice (rótulos) usando loc\n",
        "linha_0 = df.loc[0]\n",
        "print(\"Linha 0:\\n\", linha_0)\n",
        "\n",
        "linhas_0_e_2 = df.loc[[0, 2]]\n",
        "print(\"\\nLinhas 0 e 2:\\n\", linhas_0_e_2)"
      ],
      "metadata": {
        "colab": {
          "base_uri": "https://localhost:8080/"
        },
        "id": "MrizPIRYLFrX",
        "outputId": "e64e89e3-9f16-497b-9200-72aef9a51b89"
      },
      "execution_count": 38,
      "outputs": [
        {
          "output_type": "stream",
          "name": "stdout",
          "text": [
            "Linha 0:\n",
            " coluna1       1\n",
            "coluna2       A\n",
            "coluna3    True\n",
            "Name: 0, dtype: object\n",
            "\n",
            "Linhas 0 e 2:\n",
            "    coluna1 coluna2  coluna3\n",
            "0        1       A     True\n",
            "2        3       C     True\n"
          ]
        }
      ]
    },
    {
      "cell_type": "code",
      "source": [
        "# Selecionando linhas com base na posição (índices inteiros) usando iloc\n",
        "linha_1 = df.iloc[1]\n",
        "print(\"\\nLinha 1:\\n\", linha_1)\n",
        "\n",
        "linhas_1_e_3 = df.iloc[[1, 3]]\n",
        "print(\"\\nLinhas 1 e 3:\\n\", linhas_1_e_3)"
      ],
      "metadata": {
        "colab": {
          "base_uri": "https://localhost:8080/"
        },
        "id": "RCp3hx1MLHN1",
        "outputId": "35b2412b-a924-41ee-a4b2-423ac6552a9c"
      },
      "execution_count": 39,
      "outputs": [
        {
          "output_type": "stream",
          "name": "stdout",
          "text": [
            "\n",
            "Linha 1:\n",
            " coluna1        2\n",
            "coluna2        B\n",
            "coluna3    False\n",
            "Name: 1, dtype: object\n",
            "\n",
            "Linhas 1 e 3:\n",
            "    coluna1 coluna2  coluna3\n",
            "1        2       B    False\n",
            "3        4       D    False\n"
          ]
        }
      ]
    },
    {
      "cell_type": "code",
      "source": [
        "# Selecionando linhas usando slicing\n",
        "linhas_0_a_2 = df[0:3]  # Seleciona linhas de 0 a 2 (exclusivo)\n",
        "print(\"\\nLinhas de 0 a 2:\\n\", linhas_0_a_2)"
      ],
      "metadata": {
        "colab": {
          "base_uri": "https://localhost:8080/"
        },
        "id": "i0yvionMHmIh",
        "outputId": "427e3221-257c-4082-ecb5-e2ed145b080d"
      },
      "execution_count": 40,
      "outputs": [
        {
          "output_type": "stream",
          "name": "stdout",
          "text": [
            "\n",
            "Linhas de 0 a 2:\n",
            "    coluna1 coluna2  coluna3\n",
            "0        1       A     True\n",
            "1        2       B    False\n",
            "2        3       C     True\n"
          ]
        }
      ]
    },
    {
      "cell_type": "markdown",
      "source": [
        "- **Filtrando dados:** Para filtrar os dados de acordo com uma condição, basta usar expressões lógicas dentro dos colchetes do DataFrame. O resultado será um subconjunto das linhas que satisfazem a condição."
      ],
      "metadata": {
        "id": "p1dY3bfDIzW0"
      }
    },
    {
      "cell_type": "code",
      "source": [
        "# Filtrando linhas onde a coluna 'coluna1' é maior que 2\n",
        "df_filtrado = df[df['coluna1'] > 2]\n",
        "print(\"\\nDataFrame filtrado (coluna1 > 2):\\n\", df_filtrado)"
      ],
      "metadata": {
        "colab": {
          "base_uri": "https://localhost:8080/"
        },
        "id": "Sba_AtsjLKxS",
        "outputId": "62d6d2b9-565a-4a5d-de47-6663a3c01169"
      },
      "execution_count": 41,
      "outputs": [
        {
          "output_type": "stream",
          "name": "stdout",
          "text": [
            "\n",
            "DataFrame filtrado (coluna1 > 2):\n",
            "    coluna1 coluna2  coluna3\n",
            "2        3       C     True\n",
            "3        4       D    False\n"
          ]
        }
      ]
    },
    {
      "cell_type": "code",
      "source": [
        "# Filtrando linhas onde a coluna 'coluna2' é igual a 'C'\n",
        "df_filtrado = df[df['coluna2'] == 'C']\n",
        "print(\"\\nDataFrame filtrado (coluna2 == 'C'):\\n\", df_filtrado)"
      ],
      "metadata": {
        "colab": {
          "base_uri": "https://localhost:8080/"
        },
        "id": "Sw0IRenILMCv",
        "outputId": "4194df12-a025-4f02-c787-ed6869b0e65d"
      },
      "execution_count": 42,
      "outputs": [
        {
          "output_type": "stream",
          "name": "stdout",
          "text": [
            "\n",
            "DataFrame filtrado (coluna2 == 'C'):\n",
            "    coluna1 coluna2  coluna3\n",
            "2        3       C     True\n"
          ]
        }
      ]
    },
    {
      "cell_type": "code",
      "source": [
        "# Filtrando linhas onde a coluna 'coluna3' é True\n",
        "df_filtrado = df[df['coluna3']]\n",
        "print(\"\\nDataFrame filtrado (coluna3 == True):\\n\", df_filtrado)"
      ],
      "metadata": {
        "colab": {
          "base_uri": "https://localhost:8080/"
        },
        "id": "4t058QIiI5CH",
        "outputId": "cc77c501-1c1c-43f8-ed69-52e737dd352a"
      },
      "execution_count": 43,
      "outputs": [
        {
          "output_type": "stream",
          "name": "stdout",
          "text": [
            "\n",
            "DataFrame filtrado (coluna3 == True):\n",
            "    coluna1 coluna2  coluna3\n",
            "0        1       A     True\n",
            "2        3       C     True\n"
          ]
        }
      ]
    },
    {
      "cell_type": "markdown",
      "source": [
        "- **Adicionando/Removendo Colunas:** É simples criar novas colunas, ou remover colunas existentes usando o método `drop()`."
      ],
      "metadata": {
        "id": "ayZtTFJ7JGSI"
      }
    },
    {
      "cell_type": "code",
      "source": [
        "# Criando uma nova coluna chamada 'coluna4' com valores de uma lista\n",
        "df['coluna4'] = [5, 6, 7, 8]\n",
        "print(\"\\nDataFrame com nova coluna:\\n\", df)"
      ],
      "metadata": {
        "colab": {
          "base_uri": "https://localhost:8080/"
        },
        "id": "maQqJtEJLRqL",
        "outputId": "e2029458-68d2-4529-ed99-1bc5821cfe26"
      },
      "execution_count": 44,
      "outputs": [
        {
          "output_type": "stream",
          "name": "stdout",
          "text": [
            "\n",
            "DataFrame com nova coluna:\n",
            "    coluna1 coluna2  coluna3  coluna4\n",
            "0        1       A     True        5\n",
            "1        2       B    False        6\n",
            "2        3       C     True        7\n",
            "3        4       D    False        8\n"
          ]
        }
      ]
    },
    {
      "cell_type": "code",
      "source": [
        "# Removendo a coluna 'coluna3'\n",
        "df = df.drop('coluna3', axis=1)\n",
        "print(\"\\nDataFrame com coluna removida:\\n\", df)"
      ],
      "metadata": {
        "colab": {
          "base_uri": "https://localhost:8080/"
        },
        "id": "EQ3SEMQ4JWwK",
        "outputId": "a00e6e0a-3bf4-407b-b56d-d4a4d731cf8b"
      },
      "execution_count": 45,
      "outputs": [
        {
          "output_type": "stream",
          "name": "stdout",
          "text": [
            "\n",
            "DataFrame com coluna removida:\n",
            "    coluna1 coluna2  coluna4\n",
            "0        1       A        5\n",
            "1        2       B        6\n",
            "2        3       C        7\n",
            "3        4       D        8\n"
          ]
        }
      ]
    },
    {
      "cell_type": "markdown",
      "source": [
        "- **Agrupando Dados:** A função `groupby()` permite agrupar os dados de acordo com uma ou mais colunas, possibilitando aplicar funções de agregação como `mean()`, `sum()`, entre outras."
      ],
      "metadata": {
        "id": "jhYpEMtpJo2n"
      }
    },
    {
      "cell_type": "code",
      "source": [
        "# Exemplo de DataFrame\n",
        "data = {'Nome': ['Ana', 'João', 'Maria', 'Pedro', 'Ana', 'João'],\n",
        "        'Cidade': ['São Paulo', 'Rio de Janeiro', 'São Paulo', 'Belo Horizonte', 'São Paulo', 'Rio de Janeiro'],\n",
        "        'Vendas': [100, 150, 200, 120, 180, 170]}\n",
        "df = pd.DataFrame(data)\n",
        "df"
      ],
      "metadata": {
        "colab": {
          "base_uri": "https://localhost:8080/",
          "height": 238
        },
        "id": "hFRYlo1SJ0cc",
        "outputId": "e1749414-45c5-4f41-cc58-268bdf73a307"
      },
      "execution_count": 46,
      "outputs": [
        {
          "output_type": "execute_result",
          "data": {
            "text/plain": [
              "    Nome          Cidade  Vendas\n",
              "0    Ana       São Paulo     100\n",
              "1   João  Rio de Janeiro     150\n",
              "2  Maria       São Paulo     200\n",
              "3  Pedro  Belo Horizonte     120\n",
              "4    Ana       São Paulo     180\n",
              "5   João  Rio de Janeiro     170"
            ],
            "text/html": [
              "\n",
              "  <div id=\"df-3c1aa83d-d485-409d-8978-ea0e8e9ebfbb\" class=\"colab-df-container\">\n",
              "    <div>\n",
              "<style scoped>\n",
              "    .dataframe tbody tr th:only-of-type {\n",
              "        vertical-align: middle;\n",
              "    }\n",
              "\n",
              "    .dataframe tbody tr th {\n",
              "        vertical-align: top;\n",
              "    }\n",
              "\n",
              "    .dataframe thead th {\n",
              "        text-align: right;\n",
              "    }\n",
              "</style>\n",
              "<table border=\"1\" class=\"dataframe\">\n",
              "  <thead>\n",
              "    <tr style=\"text-align: right;\">\n",
              "      <th></th>\n",
              "      <th>Nome</th>\n",
              "      <th>Cidade</th>\n",
              "      <th>Vendas</th>\n",
              "    </tr>\n",
              "  </thead>\n",
              "  <tbody>\n",
              "    <tr>\n",
              "      <th>0</th>\n",
              "      <td>Ana</td>\n",
              "      <td>São Paulo</td>\n",
              "      <td>100</td>\n",
              "    </tr>\n",
              "    <tr>\n",
              "      <th>1</th>\n",
              "      <td>João</td>\n",
              "      <td>Rio de Janeiro</td>\n",
              "      <td>150</td>\n",
              "    </tr>\n",
              "    <tr>\n",
              "      <th>2</th>\n",
              "      <td>Maria</td>\n",
              "      <td>São Paulo</td>\n",
              "      <td>200</td>\n",
              "    </tr>\n",
              "    <tr>\n",
              "      <th>3</th>\n",
              "      <td>Pedro</td>\n",
              "      <td>Belo Horizonte</td>\n",
              "      <td>120</td>\n",
              "    </tr>\n",
              "    <tr>\n",
              "      <th>4</th>\n",
              "      <td>Ana</td>\n",
              "      <td>São Paulo</td>\n",
              "      <td>180</td>\n",
              "    </tr>\n",
              "    <tr>\n",
              "      <th>5</th>\n",
              "      <td>João</td>\n",
              "      <td>Rio de Janeiro</td>\n",
              "      <td>170</td>\n",
              "    </tr>\n",
              "  </tbody>\n",
              "</table>\n",
              "</div>\n",
              "    <div class=\"colab-df-buttons\">\n",
              "\n",
              "  <div class=\"colab-df-container\">\n",
              "    <button class=\"colab-df-convert\" onclick=\"convertToInteractive('df-3c1aa83d-d485-409d-8978-ea0e8e9ebfbb')\"\n",
              "            title=\"Convert this dataframe to an interactive table.\"\n",
              "            style=\"display:none;\">\n",
              "\n",
              "  <svg xmlns=\"http://www.w3.org/2000/svg\" height=\"24px\" viewBox=\"0 -960 960 960\">\n",
              "    <path d=\"M120-120v-720h720v720H120Zm60-500h600v-160H180v160Zm220 220h160v-160H400v160Zm0 220h160v-160H400v160ZM180-400h160v-160H180v160Zm440 0h160v-160H620v160ZM180-180h160v-160H180v160Zm440 0h160v-160H620v160Z\"/>\n",
              "  </svg>\n",
              "    </button>\n",
              "\n",
              "  <style>\n",
              "    .colab-df-container {\n",
              "      display:flex;\n",
              "      gap: 12px;\n",
              "    }\n",
              "\n",
              "    .colab-df-convert {\n",
              "      background-color: #E8F0FE;\n",
              "      border: none;\n",
              "      border-radius: 50%;\n",
              "      cursor: pointer;\n",
              "      display: none;\n",
              "      fill: #1967D2;\n",
              "      height: 32px;\n",
              "      padding: 0 0 0 0;\n",
              "      width: 32px;\n",
              "    }\n",
              "\n",
              "    .colab-df-convert:hover {\n",
              "      background-color: #E2EBFA;\n",
              "      box-shadow: 0px 1px 2px rgba(60, 64, 67, 0.3), 0px 1px 3px 1px rgba(60, 64, 67, 0.15);\n",
              "      fill: #174EA6;\n",
              "    }\n",
              "\n",
              "    .colab-df-buttons div {\n",
              "      margin-bottom: 4px;\n",
              "    }\n",
              "\n",
              "    [theme=dark] .colab-df-convert {\n",
              "      background-color: #3B4455;\n",
              "      fill: #D2E3FC;\n",
              "    }\n",
              "\n",
              "    [theme=dark] .colab-df-convert:hover {\n",
              "      background-color: #434B5C;\n",
              "      box-shadow: 0px 1px 3px 1px rgba(0, 0, 0, 0.15);\n",
              "      filter: drop-shadow(0px 1px 2px rgba(0, 0, 0, 0.3));\n",
              "      fill: #FFFFFF;\n",
              "    }\n",
              "  </style>\n",
              "\n",
              "    <script>\n",
              "      const buttonEl =\n",
              "        document.querySelector('#df-3c1aa83d-d485-409d-8978-ea0e8e9ebfbb button.colab-df-convert');\n",
              "      buttonEl.style.display =\n",
              "        google.colab.kernel.accessAllowed ? 'block' : 'none';\n",
              "\n",
              "      async function convertToInteractive(key) {\n",
              "        const element = document.querySelector('#df-3c1aa83d-d485-409d-8978-ea0e8e9ebfbb');\n",
              "        const dataTable =\n",
              "          await google.colab.kernel.invokeFunction('convertToInteractive',\n",
              "                                                    [key], {});\n",
              "        if (!dataTable) return;\n",
              "\n",
              "        const docLinkHtml = 'Like what you see? Visit the ' +\n",
              "          '<a target=\"_blank\" href=https://colab.research.google.com/notebooks/data_table.ipynb>data table notebook</a>'\n",
              "          + ' to learn more about interactive tables.';\n",
              "        element.innerHTML = '';\n",
              "        dataTable['output_type'] = 'display_data';\n",
              "        await google.colab.output.renderOutput(dataTable, element);\n",
              "        const docLink = document.createElement('div');\n",
              "        docLink.innerHTML = docLinkHtml;\n",
              "        element.appendChild(docLink);\n",
              "      }\n",
              "    </script>\n",
              "  </div>\n",
              "\n",
              "\n",
              "<div id=\"df-9ee8fe40-a3eb-478b-a0bd-42c9106999b6\">\n",
              "  <button class=\"colab-df-quickchart\" onclick=\"quickchart('df-9ee8fe40-a3eb-478b-a0bd-42c9106999b6')\"\n",
              "            title=\"Suggest charts\"\n",
              "            style=\"display:none;\">\n",
              "\n",
              "<svg xmlns=\"http://www.w3.org/2000/svg\" height=\"24px\"viewBox=\"0 0 24 24\"\n",
              "     width=\"24px\">\n",
              "    <g>\n",
              "        <path d=\"M19 3H5c-1.1 0-2 .9-2 2v14c0 1.1.9 2 2 2h14c1.1 0 2-.9 2-2V5c0-1.1-.9-2-2-2zM9 17H7v-7h2v7zm4 0h-2V7h2v10zm4 0h-2v-4h2v4z\"/>\n",
              "    </g>\n",
              "</svg>\n",
              "  </button>\n",
              "\n",
              "<style>\n",
              "  .colab-df-quickchart {\n",
              "      --bg-color: #E8F0FE;\n",
              "      --fill-color: #1967D2;\n",
              "      --hover-bg-color: #E2EBFA;\n",
              "      --hover-fill-color: #174EA6;\n",
              "      --disabled-fill-color: #AAA;\n",
              "      --disabled-bg-color: #DDD;\n",
              "  }\n",
              "\n",
              "  [theme=dark] .colab-df-quickchart {\n",
              "      --bg-color: #3B4455;\n",
              "      --fill-color: #D2E3FC;\n",
              "      --hover-bg-color: #434B5C;\n",
              "      --hover-fill-color: #FFFFFF;\n",
              "      --disabled-bg-color: #3B4455;\n",
              "      --disabled-fill-color: #666;\n",
              "  }\n",
              "\n",
              "  .colab-df-quickchart {\n",
              "    background-color: var(--bg-color);\n",
              "    border: none;\n",
              "    border-radius: 50%;\n",
              "    cursor: pointer;\n",
              "    display: none;\n",
              "    fill: var(--fill-color);\n",
              "    height: 32px;\n",
              "    padding: 0;\n",
              "    width: 32px;\n",
              "  }\n",
              "\n",
              "  .colab-df-quickchart:hover {\n",
              "    background-color: var(--hover-bg-color);\n",
              "    box-shadow: 0 1px 2px rgba(60, 64, 67, 0.3), 0 1px 3px 1px rgba(60, 64, 67, 0.15);\n",
              "    fill: var(--button-hover-fill-color);\n",
              "  }\n",
              "\n",
              "  .colab-df-quickchart-complete:disabled,\n",
              "  .colab-df-quickchart-complete:disabled:hover {\n",
              "    background-color: var(--disabled-bg-color);\n",
              "    fill: var(--disabled-fill-color);\n",
              "    box-shadow: none;\n",
              "  }\n",
              "\n",
              "  .colab-df-spinner {\n",
              "    border: 2px solid var(--fill-color);\n",
              "    border-color: transparent;\n",
              "    border-bottom-color: var(--fill-color);\n",
              "    animation:\n",
              "      spin 1s steps(1) infinite;\n",
              "  }\n",
              "\n",
              "  @keyframes spin {\n",
              "    0% {\n",
              "      border-color: transparent;\n",
              "      border-bottom-color: var(--fill-color);\n",
              "      border-left-color: var(--fill-color);\n",
              "    }\n",
              "    20% {\n",
              "      border-color: transparent;\n",
              "      border-left-color: var(--fill-color);\n",
              "      border-top-color: var(--fill-color);\n",
              "    }\n",
              "    30% {\n",
              "      border-color: transparent;\n",
              "      border-left-color: var(--fill-color);\n",
              "      border-top-color: var(--fill-color);\n",
              "      border-right-color: var(--fill-color);\n",
              "    }\n",
              "    40% {\n",
              "      border-color: transparent;\n",
              "      border-right-color: var(--fill-color);\n",
              "      border-top-color: var(--fill-color);\n",
              "    }\n",
              "    60% {\n",
              "      border-color: transparent;\n",
              "      border-right-color: var(--fill-color);\n",
              "    }\n",
              "    80% {\n",
              "      border-color: transparent;\n",
              "      border-right-color: var(--fill-color);\n",
              "      border-bottom-color: var(--fill-color);\n",
              "    }\n",
              "    90% {\n",
              "      border-color: transparent;\n",
              "      border-bottom-color: var(--fill-color);\n",
              "    }\n",
              "  }\n",
              "</style>\n",
              "\n",
              "  <script>\n",
              "    async function quickchart(key) {\n",
              "      const quickchartButtonEl =\n",
              "        document.querySelector('#' + key + ' button');\n",
              "      quickchartButtonEl.disabled = true;  // To prevent multiple clicks.\n",
              "      quickchartButtonEl.classList.add('colab-df-spinner');\n",
              "      try {\n",
              "        const charts = await google.colab.kernel.invokeFunction(\n",
              "            'suggestCharts', [key], {});\n",
              "      } catch (error) {\n",
              "        console.error('Error during call to suggestCharts:', error);\n",
              "      }\n",
              "      quickchartButtonEl.classList.remove('colab-df-spinner');\n",
              "      quickchartButtonEl.classList.add('colab-df-quickchart-complete');\n",
              "    }\n",
              "    (() => {\n",
              "      let quickchartButtonEl =\n",
              "        document.querySelector('#df-9ee8fe40-a3eb-478b-a0bd-42c9106999b6 button');\n",
              "      quickchartButtonEl.style.display =\n",
              "        google.colab.kernel.accessAllowed ? 'block' : 'none';\n",
              "    })();\n",
              "  </script>\n",
              "</div>\n",
              "\n",
              "  <div id=\"id_54b490c1-2c8c-4e05-b19d-efbee0c46f63\">\n",
              "    <style>\n",
              "      .colab-df-generate {\n",
              "        background-color: #E8F0FE;\n",
              "        border: none;\n",
              "        border-radius: 50%;\n",
              "        cursor: pointer;\n",
              "        display: none;\n",
              "        fill: #1967D2;\n",
              "        height: 32px;\n",
              "        padding: 0 0 0 0;\n",
              "        width: 32px;\n",
              "      }\n",
              "\n",
              "      .colab-df-generate:hover {\n",
              "        background-color: #E2EBFA;\n",
              "        box-shadow: 0px 1px 2px rgba(60, 64, 67, 0.3), 0px 1px 3px 1px rgba(60, 64, 67, 0.15);\n",
              "        fill: #174EA6;\n",
              "      }\n",
              "\n",
              "      [theme=dark] .colab-df-generate {\n",
              "        background-color: #3B4455;\n",
              "        fill: #D2E3FC;\n",
              "      }\n",
              "\n",
              "      [theme=dark] .colab-df-generate:hover {\n",
              "        background-color: #434B5C;\n",
              "        box-shadow: 0px 1px 3px 1px rgba(0, 0, 0, 0.15);\n",
              "        filter: drop-shadow(0px 1px 2px rgba(0, 0, 0, 0.3));\n",
              "        fill: #FFFFFF;\n",
              "      }\n",
              "    </style>\n",
              "    <button class=\"colab-df-generate\" onclick=\"generateWithVariable('df')\"\n",
              "            title=\"Generate code using this dataframe.\"\n",
              "            style=\"display:none;\">\n",
              "\n",
              "  <svg xmlns=\"http://www.w3.org/2000/svg\" height=\"24px\"viewBox=\"0 0 24 24\"\n",
              "       width=\"24px\">\n",
              "    <path d=\"M7,19H8.4L18.45,9,17,7.55,7,17.6ZM5,21V16.75L18.45,3.32a2,2,0,0,1,2.83,0l1.4,1.43a1.91,1.91,0,0,1,.58,1.4,1.91,1.91,0,0,1-.58,1.4L9.25,21ZM18.45,9,17,7.55Zm-12,3A5.31,5.31,0,0,0,4.9,8.1,5.31,5.31,0,0,0,1,6.5,5.31,5.31,0,0,0,4.9,4.9,5.31,5.31,0,0,0,6.5,1,5.31,5.31,0,0,0,8.1,4.9,5.31,5.31,0,0,0,12,6.5,5.46,5.46,0,0,0,6.5,12Z\"/>\n",
              "  </svg>\n",
              "    </button>\n",
              "    <script>\n",
              "      (() => {\n",
              "      const buttonEl =\n",
              "        document.querySelector('#id_54b490c1-2c8c-4e05-b19d-efbee0c46f63 button.colab-df-generate');\n",
              "      buttonEl.style.display =\n",
              "        google.colab.kernel.accessAllowed ? 'block' : 'none';\n",
              "\n",
              "      buttonEl.onclick = () => {\n",
              "        google.colab.notebook.generateWithVariable('df');\n",
              "      }\n",
              "      })();\n",
              "    </script>\n",
              "  </div>\n",
              "\n",
              "    </div>\n",
              "  </div>\n"
            ],
            "application/vnd.google.colaboratory.intrinsic+json": {
              "type": "dataframe",
              "variable_name": "df",
              "summary": "{\n  \"name\": \"df\",\n  \"rows\": 6,\n  \"fields\": [\n    {\n      \"column\": \"Nome\",\n      \"properties\": {\n        \"dtype\": \"string\",\n        \"num_unique_values\": 4,\n        \"samples\": [\n          \"Jo\\u00e3o\",\n          \"Pedro\",\n          \"Ana\"\n        ],\n        \"semantic_type\": \"\",\n        \"description\": \"\"\n      }\n    },\n    {\n      \"column\": \"Cidade\",\n      \"properties\": {\n        \"dtype\": \"string\",\n        \"num_unique_values\": 3,\n        \"samples\": [\n          \"S\\u00e3o Paulo\",\n          \"Rio de Janeiro\",\n          \"Belo Horizonte\"\n        ],\n        \"semantic_type\": \"\",\n        \"description\": \"\"\n      }\n    },\n    {\n      \"column\": \"Vendas\",\n      \"properties\": {\n        \"dtype\": \"number\",\n        \"std\": 37,\n        \"min\": 100,\n        \"max\": 200,\n        \"num_unique_values\": 6,\n        \"samples\": [\n          100,\n          150,\n          170\n        ],\n        \"semantic_type\": \"\",\n        \"description\": \"\"\n      }\n    }\n  ]\n}"
            }
          },
          "metadata": {},
          "execution_count": 46
        }
      ]
    },
    {
      "cell_type": "code",
      "source": [
        "# Agrupando por 'Nome' e calculando a soma das vendas\n",
        "grouped_data = df.groupby('Nome')['Vendas'].sum()\n",
        "grouped_data"
      ],
      "metadata": {
        "colab": {
          "base_uri": "https://localhost:8080/",
          "height": 241
        },
        "id": "5rOm9dstLVnq",
        "outputId": "7c224cab-be05-46da-d95b-f3c722c02442"
      },
      "execution_count": 47,
      "outputs": [
        {
          "output_type": "execute_result",
          "data": {
            "text/plain": [
              "Nome\n",
              "Ana      280\n",
              "João     320\n",
              "Maria    200\n",
              "Pedro    120\n",
              "Name: Vendas, dtype: int64"
            ],
            "text/html": [
              "<div>\n",
              "<style scoped>\n",
              "    .dataframe tbody tr th:only-of-type {\n",
              "        vertical-align: middle;\n",
              "    }\n",
              "\n",
              "    .dataframe tbody tr th {\n",
              "        vertical-align: top;\n",
              "    }\n",
              "\n",
              "    .dataframe thead th {\n",
              "        text-align: right;\n",
              "    }\n",
              "</style>\n",
              "<table border=\"1\" class=\"dataframe\">\n",
              "  <thead>\n",
              "    <tr style=\"text-align: right;\">\n",
              "      <th></th>\n",
              "      <th>Vendas</th>\n",
              "    </tr>\n",
              "    <tr>\n",
              "      <th>Nome</th>\n",
              "      <th></th>\n",
              "    </tr>\n",
              "  </thead>\n",
              "  <tbody>\n",
              "    <tr>\n",
              "      <th>Ana</th>\n",
              "      <td>280</td>\n",
              "    </tr>\n",
              "    <tr>\n",
              "      <th>João</th>\n",
              "      <td>320</td>\n",
              "    </tr>\n",
              "    <tr>\n",
              "      <th>Maria</th>\n",
              "      <td>200</td>\n",
              "    </tr>\n",
              "    <tr>\n",
              "      <th>Pedro</th>\n",
              "      <td>120</td>\n",
              "    </tr>\n",
              "  </tbody>\n",
              "</table>\n",
              "</div><br><label><b>dtype:</b> int64</label>"
            ]
          },
          "metadata": {},
          "execution_count": 47
        }
      ]
    },
    {
      "cell_type": "code",
      "source": [
        "# Agrupando por 'Cidade' e calculando a média das vendas\n",
        "grouped_data = df.groupby('Cidade')['Vendas'].mean()\n",
        "grouped_data"
      ],
      "metadata": {
        "colab": {
          "base_uri": "https://localhost:8080/",
          "height": 210
        },
        "id": "jJ9Q4j_ZLXLC",
        "outputId": "849336be-36bb-430a-ffac-5de206a7419b"
      },
      "execution_count": 48,
      "outputs": [
        {
          "output_type": "execute_result",
          "data": {
            "text/plain": [
              "Cidade\n",
              "Belo Horizonte    120.0\n",
              "Rio de Janeiro    160.0\n",
              "São Paulo         160.0\n",
              "Name: Vendas, dtype: float64"
            ],
            "text/html": [
              "<div>\n",
              "<style scoped>\n",
              "    .dataframe tbody tr th:only-of-type {\n",
              "        vertical-align: middle;\n",
              "    }\n",
              "\n",
              "    .dataframe tbody tr th {\n",
              "        vertical-align: top;\n",
              "    }\n",
              "\n",
              "    .dataframe thead th {\n",
              "        text-align: right;\n",
              "    }\n",
              "</style>\n",
              "<table border=\"1\" class=\"dataframe\">\n",
              "  <thead>\n",
              "    <tr style=\"text-align: right;\">\n",
              "      <th></th>\n",
              "      <th>Vendas</th>\n",
              "    </tr>\n",
              "    <tr>\n",
              "      <th>Cidade</th>\n",
              "      <th></th>\n",
              "    </tr>\n",
              "  </thead>\n",
              "  <tbody>\n",
              "    <tr>\n",
              "      <th>Belo Horizonte</th>\n",
              "      <td>120.0</td>\n",
              "    </tr>\n",
              "    <tr>\n",
              "      <th>Rio de Janeiro</th>\n",
              "      <td>160.0</td>\n",
              "    </tr>\n",
              "    <tr>\n",
              "      <th>São Paulo</th>\n",
              "      <td>160.0</td>\n",
              "    </tr>\n",
              "  </tbody>\n",
              "</table>\n",
              "</div><br><label><b>dtype:</b> float64</label>"
            ]
          },
          "metadata": {},
          "execution_count": 48
        }
      ]
    },
    {
      "cell_type": "code",
      "source": [
        "# Agrupando por 'Nome' e 'Cidade', calculando a soma das vendas\n",
        "grouped_data = df.groupby(['Nome', 'Cidade'])['Vendas'].sum()\n",
        "grouped_data"
      ],
      "metadata": {
        "colab": {
          "base_uri": "https://localhost:8080/",
          "height": 241
        },
        "id": "HOI9VCw5LYN1",
        "outputId": "1fc0385d-22a7-430c-b523-9199e1a3aeb1"
      },
      "execution_count": 49,
      "outputs": [
        {
          "output_type": "execute_result",
          "data": {
            "text/plain": [
              "Nome   Cidade        \n",
              "Ana    São Paulo         280\n",
              "João   Rio de Janeiro    320\n",
              "Maria  São Paulo         200\n",
              "Pedro  Belo Horizonte    120\n",
              "Name: Vendas, dtype: int64"
            ],
            "text/html": [
              "<div>\n",
              "<style scoped>\n",
              "    .dataframe tbody tr th:only-of-type {\n",
              "        vertical-align: middle;\n",
              "    }\n",
              "\n",
              "    .dataframe tbody tr th {\n",
              "        vertical-align: top;\n",
              "    }\n",
              "\n",
              "    .dataframe thead th {\n",
              "        text-align: right;\n",
              "    }\n",
              "</style>\n",
              "<table border=\"1\" class=\"dataframe\">\n",
              "  <thead>\n",
              "    <tr style=\"text-align: right;\">\n",
              "      <th></th>\n",
              "      <th></th>\n",
              "      <th>Vendas</th>\n",
              "    </tr>\n",
              "    <tr>\n",
              "      <th>Nome</th>\n",
              "      <th>Cidade</th>\n",
              "      <th></th>\n",
              "    </tr>\n",
              "  </thead>\n",
              "  <tbody>\n",
              "    <tr>\n",
              "      <th>Ana</th>\n",
              "      <th>São Paulo</th>\n",
              "      <td>280</td>\n",
              "    </tr>\n",
              "    <tr>\n",
              "      <th>João</th>\n",
              "      <th>Rio de Janeiro</th>\n",
              "      <td>320</td>\n",
              "    </tr>\n",
              "    <tr>\n",
              "      <th>Maria</th>\n",
              "      <th>São Paulo</th>\n",
              "      <td>200</td>\n",
              "    </tr>\n",
              "    <tr>\n",
              "      <th>Pedro</th>\n",
              "      <th>Belo Horizonte</th>\n",
              "      <td>120</td>\n",
              "    </tr>\n",
              "  </tbody>\n",
              "</table>\n",
              "</div><br><label><b>dtype:</b> int64</label>"
            ]
          },
          "metadata": {},
          "execution_count": 49
        }
      ]
    }
  ]
}