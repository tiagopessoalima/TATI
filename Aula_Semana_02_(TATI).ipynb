{
  "nbformat": 4,
  "nbformat_minor": 0,
  "metadata": {
    "colab": {
      "provenance": [],
      "authorship_tag": "ABX9TyOzQB1ruq5P6xrgjncNk3g+",
      "include_colab_link": true
    },
    "kernelspec": {
      "name": "python3",
      "display_name": "Python 3"
    },
    "language_info": {
      "name": "python"
    }
  },
  "cells": [
    {
      "cell_type": "markdown",
      "metadata": {
        "id": "view-in-github",
        "colab_type": "text"
      },
      "source": [
        "<a href=\"https://colab.research.google.com/github/tiagopessoalima/TATI/blob/main/Aula_Semana_02_(TATI).ipynb\" target=\"_parent\"><img src=\"https://colab.research.google.com/assets/colab-badge.svg\" alt=\"Open In Colab\"/></a>"
      ]
    },
    {
      "cell_type": "markdown",
      "source": [
        "# **Programação para Ciência de Dados com Python**"
      ],
      "metadata": {
        "id": "pfJh9drHoVL2"
      }
    },
    {
      "cell_type": "markdown",
      "source": [
        "A linguagem de programação Python emergiu como uma ferramenta indispensável no campo da Ciência de Dados, impulsionada por sua sintaxe clara, vasta biblioteca e comunidade ativa. Este texto técnico visa fornecer uma visão concisa da sintaxe básica do Python e suas principais bibliotecas: NumPy e Pandas, essenciais para manipulação e análise de dados."
      ],
      "metadata": {
        "id": "5fqnToKfocDi"
      }
    },
    {
      "cell_type": "markdown",
      "source": [
        "## **Sintaxe Básica do Python**"
      ],
      "metadata": {
        "id": "syhRIy4FoeDK"
      }
    },
    {
      "cell_type": "markdown",
      "source": [
        "Se destaca por sua legibilidade e sintaxe concisa, facilitando o aprendizado e desenvolvimento. Alguns conceitos fundamentais incluem:"
      ],
      "metadata": {
        "id": "V7OPbpK-628M"
      }
    },
    {
      "cell_type": "markdown",
      "source": [
        "- **Tipos de Dados:** Python suporta int, float, str, bool; tipagem dinâmica permite trocar tipos em execução.\n",
        "\n",
        "\n",
        "\n",
        "\n",
        "\n",
        "\n",
        "\n"
      ],
      "metadata": {
        "id": "poeqOoAV67L2"
      }
    },
    {
      "cell_type": "code",
      "source": [
        "x = 10\n",
        "print(type(x))  # <class 'int'>\n",
        "\n",
        "x = 3.14\n",
        "print(type(x))  # <class 'float'>\n",
        "\n",
        "x = \"Olá\"\n",
        "print(type(x))  # <class 'str'>\n",
        "\n",
        "x = True\n",
        "print(type(x))  # <class 'bool'>"
      ],
      "metadata": {
        "colab": {
          "base_uri": "https://localhost:8080/"
        },
        "id": "keAdwLYE7Dlp",
        "outputId": "33f72d8e-c76d-439f-a5f1-274d33e919d0"
      },
      "execution_count": 21,
      "outputs": [
        {
          "output_type": "stream",
          "name": "stdout",
          "text": [
            "<class 'int'>\n",
            "<class 'float'>\n",
            "<class 'str'>\n",
            "<class 'bool'>\n"
          ]
        }
      ]
    },
    {
      "cell_type": "markdown",
      "source": [
        "- **Estruturas de Dados:** Listas, tuplas, dicionários e conjuntos trazem flexibilidade para armazenar e organizar dados.\n",
        "\n",
        "\n",
        "\n",
        "\n",
        "\n",
        "\n",
        "\n"
      ],
      "metadata": {
        "id": "IRXz-n9m7D6v"
      }
    },
    {
      "cell_type": "code",
      "source": [
        "# Lista\n",
        "frutas = [\"maçã\", \"banana\", \"laranja\"]\n",
        "frutas.append(\"uva\")\n",
        "print(frutas)  # [\"maçã\", \"banana\", \"laranja\", \"uva\"]\n",
        "\n",
        "# Tupla\n",
        "cores = (\"vermelho\", \"verde\", \"azul\")\n",
        "print(cores[0])  # \"vermelho\"\n",
        "\n",
        "# Dicionário\n",
        "aluno = {\n",
        "    \"nome\": \"Ana\",\n",
        "    \"idade\": 22,\n",
        "    \"curso\": \"Engenharia\"\n",
        "}\n",
        "print(aluno[\"nome\"])  # \"Ana\"\n",
        "\n",
        "# Conjunto\n",
        "numeros = {1, 2, 3, 2, 1}\n",
        "print(numeros)  # {1, 2, 3}"
      ],
      "metadata": {
        "colab": {
          "base_uri": "https://localhost:8080/"
        },
        "id": "EkpZkixy8Ac7",
        "outputId": "8307ba6e-6a30-401f-b965-63d840536e55"
      },
      "execution_count": 22,
      "outputs": [
        {
          "output_type": "stream",
          "name": "stdout",
          "text": [
            "['maçã', 'banana', 'laranja', 'uva']\n",
            "vermelho\n",
            "Ana\n",
            "{1, 2, 3}\n"
          ]
        }
      ]
    },
    {
      "cell_type": "markdown",
      "source": [
        "- **Controle de Fluxo:** Declarações condicionais (if, elif, else) e loops (for, while) permitem controlar o fluxo de execução do programa."
      ],
      "metadata": {
        "id": "YKGro4F28Kss"
      }
    },
    {
      "cell_type": "code",
      "source": [
        "# if, elif, else\n",
        "idade = 18\n",
        "if idade < 18:\n",
        "    print(\"Menor de idade\")\n",
        "elif idade == 18:\n",
        "    print(\"Exatamente 18 anos\")\n",
        "else:\n",
        "    print(\"Maior de idade\")\n",
        "\n",
        "# for\n",
        "for i in range(3):\n",
        "    print(i)  # 0, 1, 2\n",
        "\n",
        "# while\n",
        "contador = 0\n",
        "while contador < 3:\n",
        "    print(contador)  # 0, 1, 2\n",
        "    contador += 1"
      ],
      "metadata": {
        "colab": {
          "base_uri": "https://localhost:8080/"
        },
        "id": "Rz19Sbo78TGQ",
        "outputId": "9ac1b599-5fa6-439d-fd5e-acaff3d82d73"
      },
      "execution_count": 23,
      "outputs": [
        {
          "output_type": "stream",
          "name": "stdout",
          "text": [
            "Exatamente 18 anos\n",
            "0\n",
            "1\n",
            "2\n",
            "0\n",
            "1\n",
            "2\n"
          ]
        }
      ]
    },
    {
      "cell_type": "markdown",
      "source": [
        "- **Funções:** Funções permitem encapsular blocos de código para reutilização, promovendo modularidade e organização."
      ],
      "metadata": {
        "id": "6_qpdHj08bDN"
      }
    },
    {
      "cell_type": "code",
      "source": [
        "def saudar(nome):\n",
        "    print(f\"Olá, {nome}!\")\n",
        "\n",
        "saudar(\"Ana\")  # Chamada da função\n",
        "\n",
        "def somar(a, b):\n",
        "    return a + b\n",
        "\n",
        "resultado = somar(3, 4)\n",
        "print(\"Resultado da soma:\", resultado)"
      ],
      "metadata": {
        "colab": {
          "base_uri": "https://localhost:8080/"
        },
        "id": "ncu0tQP-8fBp",
        "outputId": "4dc138ab-9a58-4455-c9ef-5a439f404325"
      },
      "execution_count": 24,
      "outputs": [
        {
          "output_type": "stream",
          "name": "stdout",
          "text": [
            "Olá, Ana!\n",
            "Resultado da soma: 7\n"
          ]
        }
      ]
    },
    {
      "cell_type": "markdown",
      "source": [
        "## **[NumPy]((https://numpy.org/)) (Numerical Python)**"
      ],
      "metadata": {
        "id": "XftJ3Wx_oom5"
      }
    },
    {
      "cell_type": "markdown",
      "source": [
        "É uma biblioteca fundamental para computação científica em Python. Ela fornece suporte para arrays multidimensionais, além de diversas funções matemáticas otimizadas para trabalhar com esses arrays de forma eficiente.\n",
        "\n"
      ],
      "metadata": {
        "id": "sbTMHQ9E9Qug"
      }
    },
    {
      "cell_type": "markdown",
      "source": [
        "### **O que são Arrays NumPy?**\n"
      ],
      "metadata": {
        "id": "iCNMgjAr9fGH"
      }
    },
    {
      "cell_type": "markdown",
      "source": [
        "Arrays NumPy, ou ndarrays, são estruturas de dados homogêneas que armazenam elementos do mesmo tipo. Eles oferecem vantagens significativas em relação às listas Python tradicionais, como:\n",
        "\n",
        "- Desempenho superior: Operações matemáticas em arrays NumPy são realizadas de forma mais rápida e eficiente.\n",
        "- Menor consumo de memória: Arrays NumPy armazenam os dados de forma mais compacta.\n",
        "- Facilidade de uso: NumPy oferece diversas funções para manipulação e cálculo com arrays."
      ],
      "metadata": {
        "id": "i8mw-njF9kQ9"
      }
    },
    {
      "cell_type": "markdown",
      "source": [
        "### **Criando Arrays NumPy**"
      ],
      "metadata": {
        "id": "QYdfA-y59v5o"
      }
    },
    {
      "cell_type": "markdown",
      "source": [
        "Existem diversas maneiras de criar arrays NumPy:"
      ],
      "metadata": {
        "id": "d2liOSlW9yKs"
      }
    },
    {
      "cell_type": "markdown",
      "source": [
        "- **A partir de listas Python:** Converta listas comuns em arrays NumPy usando `np.array()`. Isso permite aproveitar a eficiência e a flexibilidade de processamento oferecidas pelos arrays NumPy.\n"
      ],
      "metadata": {
        "id": "Wcl0l1kI90Gl"
      }
    },
    {
      "cell_type": "code",
      "source": [
        "import numpy as np\n",
        "\n",
        "lista = [1, 2, 3, 4, 5]\n",
        "array = np.array(lista)\n",
        "print(array)  # Output: [1 2 3 4 5]"
      ],
      "metadata": {
        "colab": {
          "base_uri": "https://localhost:8080/"
        },
        "id": "PfaaVJ9y9_0o",
        "outputId": "373353ef-ac48-430e-ee6c-0ef6219676ca"
      },
      "execution_count": 25,
      "outputs": [
        {
          "output_type": "stream",
          "name": "stdout",
          "text": [
            "[1 2 3 4 5]\n"
          ]
        }
      ]
    },
    {
      "cell_type": "markdown",
      "source": [
        "- **Com valores iniciais:** Inicialize arrays já preenchidos com zeros, uns ou valores aleatórios. Útil para criar vetores ou matrizes iniciais antes de aplicar transformações ou cálculos."
      ],
      "metadata": {
        "id": "Oeh48B9q-CQf"
      }
    },
    {
      "cell_type": "code",
      "source": [
        "# Array com 5 zeros\n",
        "array_zeros = np.zeros(5)\n",
        "print(\"array_zeros:\", array_zeros)\n",
        "\n",
        "# Array 2x3 com uns\n",
        "array_ones = np.ones((2, 3))\n",
        "print(\"array_ones:\\n\", array_ones)\n",
        "\n",
        "# Array com 4 números aleatórios entre 0 e 1\n",
        "array_random = np.random.rand(4)\n",
        "print(\"array_random:\", array_random)"
      ],
      "metadata": {
        "colab": {
          "base_uri": "https://localhost:8080/"
        },
        "id": "eAtYFPh5-FHN",
        "outputId": "afbece82-23fe-4c65-c02c-6afcae1d9ae9"
      },
      "execution_count": 26,
      "outputs": [
        {
          "output_type": "stream",
          "name": "stdout",
          "text": [
            "array_zeros: [0. 0. 0. 0. 0.]\n",
            "array_ones:\n",
            " [[1. 1. 1.]\n",
            " [1. 1. 1.]]\n",
            "array_random: [0.81972534 0.62729788 0.54350777 0.0462277 ]\n"
          ]
        }
      ]
    },
    {
      "cell_type": "markdown",
      "source": [
        "- **Com sequências numéricas:** Utilize funções como `np.arange()` e `np.linspace()` para gerar sequências de números com intervalos ou espaços definidos, facilitando a criação de séries matemáticas e varreduras de parâmetros."
      ],
      "metadata": {
        "id": "eh6WEwLA-I6f"
      }
    },
    {
      "cell_type": "code",
      "source": [
        "# Array com valores de 0 a 9, pulando de 2 em 2\n",
        "array_arange = np.arange(0, 10, 2)\n",
        "print(\"array_arange:\", array_arange)\n",
        "\n",
        "# Array com 5 valores igualmente espaçados entre 0 e 1\n",
        "array_linspace = np.linspace(0, 1, 5)\n",
        "print(\"array_linspace:\", array_linspace)"
      ],
      "metadata": {
        "colab": {
          "base_uri": "https://localhost:8080/"
        },
        "id": "qVZZVz7g-MPr",
        "outputId": "d1624cd9-3211-4009-e6ca-9d86448cd04e"
      },
      "execution_count": 27,
      "outputs": [
        {
          "output_type": "stream",
          "name": "stdout",
          "text": [
            "array_arange: [0 2 4 6 8]\n",
            "array_linspace: [0.   0.25 0.5  0.75 1.  ]\n"
          ]
        }
      ]
    },
    {
      "cell_type": "markdown",
      "source": [
        "### **Atributos de Arrays NumPy**"
      ],
      "metadata": {
        "id": "I747kkh5-Oq2"
      }
    },
    {
      "cell_type": "markdown",
      "source": [
        "Arrays NumPy possuem diversos atributos que fornecem informações sobre sua estrutura e conteúdo:\n",
        "\n",
        "- `ndim`: Número de dimensões do array.\n",
        "- `shape`: Dimensões do array (tupla com o tamanho de cada dimensão).\n",
        "- `size`: Número total de elementos do array.\n",
        "- `dtype`: Tipo de dados dos elementos do array."
      ],
      "metadata": {
        "id": "0HvQGbtC-sIv"
      }
    },
    {
      "cell_type": "code",
      "source": [
        "# Cria um array 2D (matriz) com 2 linhas e 3 colunas\n",
        "matriz = np.array([[1, 2, 3],\n",
        "                   [4, 5, 6]])\n",
        "\n",
        "print(\"ndim:\", matriz.ndim)    # Número de dimensões do array (2)\n",
        "print(\"shape:\", matriz.shape)  # Tupla com as dimensões (2, 3)\n",
        "print(\"size:\", matriz.size)    # Número total de elementos (6)\n",
        "print(\"dtype:\", matriz.dtype)  # Tipo dos elementos (int32, int64, etc.)"
      ],
      "metadata": {
        "colab": {
          "base_uri": "https://localhost:8080/"
        },
        "id": "cKazKWdH-3fk",
        "outputId": "94fe4dab-1296-47f0-9908-68ad7dfa70c8"
      },
      "execution_count": 28,
      "outputs": [
        {
          "output_type": "stream",
          "name": "stdout",
          "text": [
            "ndim: 2\n",
            "shape: (2, 3)\n",
            "size: 6\n",
            "dtype: int64\n"
          ]
        }
      ]
    },
    {
      "cell_type": "markdown",
      "source": [
        "### **Indexação e Slicing de Arrays NumPy**\n"
      ],
      "metadata": {
        "id": "oaUwTtfo_imx"
      }
    },
    {
      "cell_type": "markdown",
      "source": [
        "A indexação e o slicing de arrays NumPy são semelhantes aos de listas Python, com algumas extensões para arrays multidimensionais:"
      ],
      "metadata": {
        "id": "jFL0dHr2_nmA"
      }
    },
    {
      "cell_type": "code",
      "source": [
        "array = np.array([[1, 2, 3], [4, 5, 6], [7, 8, 9]])\n",
        "\n",
        "print(array[0, 1])  # Output: 2 (elemento na linha 0, coluna 1)\n",
        "print(array[:, 2])  # Output: [3 6 9] (todos os elementos da coluna 2)\n",
        "print(array[1:, 1:])  # Output: [[5 6], [8 9]] (submatriz a partir da linha 1, coluna 1)"
      ],
      "metadata": {
        "colab": {
          "base_uri": "https://localhost:8080/"
        },
        "id": "OZdC0Elx_rvH",
        "outputId": "902f2928-c359-4a17-ab0f-8b5585c274ff"
      },
      "execution_count": 29,
      "outputs": [
        {
          "output_type": "stream",
          "name": "stdout",
          "text": [
            "2\n",
            "[3 6 9]\n",
            "[[5 6]\n",
            " [8 9]]\n"
          ]
        }
      ]
    },
    {
      "cell_type": "markdown",
      "source": [
        "### **Operações Matemáticas com Arrays NumPy**"
      ],
      "metadata": {
        "id": "lvENnjJqAEYL"
      }
    },
    {
      "cell_type": "markdown",
      "source": [
        "NumPy permite realizar operações matemáticas em arrays de forma eficiente:"
      ],
      "metadata": {
        "id": "M4x7p_fqAGrn"
      }
    },
    {
      "cell_type": "markdown",
      "source": [
        "- **Operações elemento a elemento:** Arrays NumPy permitem realizar operações diretamente em cada posição, como soma e multiplicação, sem a necessidade de loops explícitos."
      ],
      "metadata": {
        "id": "F1Vyh5KEAK2s"
      }
    },
    {
      "cell_type": "code",
      "source": [
        "array1 = np.array([1, 2, 3])\n",
        "array2 = np.array([4, 5, 6])\n",
        "\n",
        "print(array1 + array2)  # Output: [5 7 9]\n",
        "print(array1 * array2)  # Output: [4 10 18]"
      ],
      "metadata": {
        "colab": {
          "base_uri": "https://localhost:8080/"
        },
        "id": "quLmbmH4ALvD",
        "outputId": "1e048ebf-57cb-48cc-a0ca-92a8a0f17fc1"
      },
      "execution_count": 30,
      "outputs": [
        {
          "output_type": "stream",
          "name": "stdout",
          "text": [
            "[5 7 9]\n",
            "[ 4 10 18]\n"
          ]
        }
      ]
    },
    {
      "cell_type": "markdown",
      "source": [
        "- **Funções matemáticas:** NumPy oferece funções prontas, como sum, mean e max, para operações comuns de estatística e agregação sobre os elementos do array."
      ],
      "metadata": {
        "id": "NymbRErSAeF6"
      }
    },
    {
      "cell_type": "code",
      "source": [
        "array = np.array([1, 2, 3, 4, 5])\n",
        "\n",
        "print(np.sum(array))   # 15  (soma dos elementos)\n",
        "print(np.mean(array))  # 3.0 (média dos elementos)\n",
        "print(np.max(array))   # 5   (valor máximo)"
      ],
      "metadata": {
        "colab": {
          "base_uri": "https://localhost:8080/"
        },
        "id": "4sT9IRovAl-U",
        "outputId": "5cbaa818-9bb1-4847-a737-93c41306373b"
      },
      "execution_count": 31,
      "outputs": [
        {
          "output_type": "stream",
          "name": "stdout",
          "text": [
            "15\n",
            "3.0\n",
            "5\n"
          ]
        }
      ]
    },
    {
      "cell_type": "markdown",
      "source": [
        "### **Funções Úteis do NumPy**"
      ],
      "metadata": {
        "id": "Z-vJtqVvAwxC"
      }
    },
    {
      "cell_type": "markdown",
      "source": [
        "- `reshape()`: Altera o formato de um array, mantendo a mesma quantidade de elementos. É especialmente útil para reestruturar dados sem precisar criar um novo array.\n"
      ],
      "metadata": {
        "id": "9noIIrHtA7yx"
      }
    },
    {
      "cell_type": "code",
      "source": [
        "# Criando um array 1D com 6 elementos\n",
        "array = np.array([1, 2, 3, 4, 5, 6])\n",
        "print(\"Array original:\", array)\n",
        "\n",
        "# Transformando em um array 2D de formato (2, 3)\n",
        "array_reshaped = array.reshape(2, 3)\n",
        "print(\"Array reshape(2, 3):\\n\", array_reshaped)"
      ],
      "metadata": {
        "colab": {
          "base_uri": "https://localhost:8080/"
        },
        "id": "9GibEutSA9Uo",
        "outputId": "d19f2708-cfff-4035-c5bc-d471aa902879"
      },
      "execution_count": 32,
      "outputs": [
        {
          "output_type": "stream",
          "name": "stdout",
          "text": [
            "Array original: [1 2 3 4 5 6]\n",
            "Array reshape(2, 3):\n",
            " [[1 2 3]\n",
            " [4 5 6]]\n"
          ]
        }
      ]
    },
    {
      "cell_type": "markdown",
      "source": [
        "- `transpose()`: Transpõe um array, invertendo linhas e colunas em arrays 2D. Para arrays de mais dimensões, retorna uma nova vista com os eixos invertidos."
      ],
      "metadata": {
        "id": "4tDUhG7tBIFt"
      }
    },
    {
      "cell_type": "code",
      "source": [
        "# Matriz 2D (2 linhas, 3 colunas)\n",
        "matriz = np.array([[1, 2, 3],\n",
        "                   [4, 5, 6]])\n",
        "print(\"Matriz original:\\n\", matriz)\n",
        "\n",
        "# Transpondo a matriz (3 linhas, 2 colunas)\n",
        "matriz_transposta = matriz.transpose()\n",
        "# Equivalente: matriz.T\n",
        "print(\"Matriz transposta:\\n\", matriz_transposta)\n"
      ],
      "metadata": {
        "colab": {
          "base_uri": "https://localhost:8080/"
        },
        "id": "3OhCRA3gBQ_h",
        "outputId": "26d6bcfc-5ede-4eda-b5f9-ba2562e6e8b0"
      },
      "execution_count": 33,
      "outputs": [
        {
          "output_type": "stream",
          "name": "stdout",
          "text": [
            "Matriz original:\n",
            " [[1 2 3]\n",
            " [4 5 6]]\n",
            "Matriz transposta:\n",
            " [[1 4]\n",
            " [2 5]\n",
            " [3 6]]\n"
          ]
        }
      ]
    },
    {
      "cell_type": "markdown",
      "source": [
        "- `concatenate()`: Concatena (une) dois ou mais arrays ao longo de um eixo. Por padrão, une ao longo do eixo 0 (linhas)."
      ],
      "metadata": {
        "id": "HZR4nOonB4Ht"
      }
    },
    {
      "cell_type": "code",
      "source": [
        "# Arrays 1D\n",
        "a = np.array([1, 2, 3])\n",
        "b = np.array([4, 5, 6])\n",
        "concatenado_1d = np.concatenate((a, b))\n",
        "print(\"Concatenação 1D:\", concatenado_1d)\n",
        "\n",
        "# Arrays 2D\n",
        "matriz1 = np.array([[1, 2],\n",
        "                    [3, 4]])\n",
        "matriz2 = np.array([[5, 6],\n",
        "                    [7, 8]])\n",
        "\n",
        "# Concatena verticalmente (eixo 0)\n",
        "concatenado_2d = np.concatenate((matriz1, matriz2), axis=0)\n",
        "print(\"Concatenação 2D ao longo do eixo 0:\\n\", concatenado_2d)"
      ],
      "metadata": {
        "colab": {
          "base_uri": "https://localhost:8080/"
        },
        "id": "QDDivED3B-z8",
        "outputId": "e7c63296-5f0b-4ed8-8673-261a2b7ba1e9"
      },
      "execution_count": 34,
      "outputs": [
        {
          "output_type": "stream",
          "name": "stdout",
          "text": [
            "Concatenação 1D: [1 2 3 4 5 6]\n",
            "Concatenação 2D ao longo do eixo 0:\n",
            " [[1 2]\n",
            " [3 4]\n",
            " [5 6]\n",
            " [7 8]]\n"
          ]
        }
      ]
    },
    {
      "cell_type": "markdown",
      "source": [
        "- `split()`: Divide um array em subarrays. O parâmetro indica em quantas partes dividir (ou quais índices de corte) e o eixo ao longo do qual a divisão será feita (por padrão, eixo 0)."
      ],
      "metadata": {
        "id": "gX8eCJqsCACm"
      }
    },
    {
      "cell_type": "code",
      "source": [
        "matriz_2d = np.array([[1, 2, 3],\n",
        "                      [4, 5, 6],\n",
        "                      [7, 8, 9]])\n",
        "\n",
        "# Dividir em 3 partes iguais ao longo do eixo 0\n",
        "parte1, parte2, parte3 = np.split(matriz_2d, 3, axis=0)\n",
        "print(\"Parte 1:\\n\", parte1)\n",
        "print(\"Parte 2:\\n\", parte2)\n",
        "print(\"Parte 3:\\n\", parte3)"
      ],
      "metadata": {
        "colab": {
          "base_uri": "https://localhost:8080/"
        },
        "id": "OYux_X4QCLEb",
        "outputId": "3dcc6e64-7dc7-4b32-91e1-04ef6450eb91"
      },
      "execution_count": 37,
      "outputs": [
        {
          "output_type": "stream",
          "name": "stdout",
          "text": [
            "Parte 1:\n",
            " [[1 2 3]]\n",
            "Parte 2:\n",
            " [[4 5 6]]\n",
            "Parte 3:\n",
            " [[7 8 9]]\n"
          ]
        }
      ]
    },
    {
      "cell_type": "markdown",
      "source": [
        "## **Pandas**"
      ],
      "metadata": {
        "id": "E0nDH13hpNlY"
      }
    },
    {
      "cell_type": "markdown",
      "source": [
        "[Pandas](https://pandas.pydata.org/) é uma biblioteca essencial para manipulação e análise de dados em Python. Oferece:\n",
        "- Estruturas de dados de alto desempenho: **Series** (1D) e **DataFrame** (2D).\n",
        "- Ferramentas para leitura de arquivos (CSV, Excel, SQL, etc.).\n",
        "- Filtros e transformações de dados simples e eficientes.\n",
        "- Agregação, merge, joins, limpeza de dados e muito mais."
      ],
      "metadata": {
        "id": "C0f5fRnkpQ7Q"
      }
    },
    {
      "cell_type": "markdown",
      "source": [
        "### **Series e DataFrames**"
      ],
      "metadata": {
        "id": "lDLyMMunpUfU"
      }
    },
    {
      "cell_type": "code",
      "source": [
        "import pandas as pd\n",
        "\n",
        "# Criando uma Series\n",
        "minha_series = pd.Series([10, 20, 30, 40, 50], name=\"ExemploSeries\")\n",
        "print(\"Series:\\n\", minha_series)\n",
        "\n",
        "# Criando um DataFrame\n",
        "dados = {\n",
        "    \"ColunaA\": [1, 2, 3],\n",
        "    \"ColunaB\": [\"A\", \"B\", \"C\"]\n",
        "}\n",
        "df = pd.DataFrame(dados)\n",
        "print(\"\\nDataFrame:\\n\", df)\n",
        "\n",
        "# Lendo arquivos CSV (exemplo hipotético)\n",
        "# df_csv = pd.read_csv(\"caminho/para/seu_arquivo.csv\")\n",
        "\n",
        "# Informações sobre o DataFrame\n",
        "print(\"\\nInformações sobre o DataFrame:\")\n",
        "print(df.info())\n",
        "\n",
        "print(\"\\nDescrição estatística (DataFrame numérico):\")\n",
        "df_numerico = pd.DataFrame({\n",
        "    \"X\": [10, 20, 30, 40],\n",
        "    \"Y\": [5, 6, 7, 8]\n",
        "})\n",
        "print(df_numerico.describe())"
      ],
      "metadata": {
        "id": "Zn_c1hi_pZqR"
      },
      "execution_count": null,
      "outputs": []
    },
    {
      "cell_type": "markdown",
      "source": [
        "### **Manipulação de Dados com Pandas**"
      ],
      "metadata": {
        "id": "x9ZnlAhzpdag"
      }
    },
    {
      "cell_type": "markdown",
      "source": [
        "Nesta seção, vamos mostrar algumas operações comuns de manipulação de dados, como seleção de colunas, filtragem, criação de colunas e agrupamentos."
      ],
      "metadata": {
        "id": "7Mzy7tsApgyh"
      }
    },
    {
      "cell_type": "code",
      "source": [
        "# Exemplo de DataFrame para manipulação\n",
        "dados = {\n",
        "    \"Nome\": [\"Ana\", \"Bruno\", \"Carlos\", \"Daniela\", \"Eduarda\"],\n",
        "    \"Idade\": [23, 35, 45, 29, 37],\n",
        "    \"Salário\": [3500, 5000, 6200, 4000, 5200],\n",
        "    \"Departamento\": [\"RH\", \"Financeiro\", \"TI\", \"TI\", \"Financeiro\"]\n",
        "}\n",
        "funcionarios = pd.DataFrame(dados)\n",
        "print(\"DataFrame original:\\n\", funcionarios)\n",
        "\n",
        "# Selecionando colunas\n",
        "print(\"\\nSelecionando coluna 'Nome':\\n\", funcionarios[\"Nome\"])\n",
        "\n",
        "# Filtrando dados (Idade maior que 30)\n",
        "print(\"\\nFiltrando por Idade > 30:\\n\", funcionarios[funcionarios[\"Idade\"] > 30])\n",
        "\n",
        "# Criando nova coluna (Exemplo: Salário Anual)\n",
        "funcionarios[\"Salário Anual\"] = funcionarios[\"Salário\"] * 12\n",
        "print(\"\\nCom nova coluna 'Salário Anual':\\n\", funcionarios)\n",
        "\n",
        "# Agrupando dados\n",
        "agrupado_departamento = funcionarios.groupby(\"Departamento\")[\"Salário\"].mean()\n",
        "print(\"\\nSalário médio por Departamento:\\n\", agrupado_departamento)"
      ],
      "metadata": {
        "id": "Ij9E6BlRpm2M"
      },
      "execution_count": null,
      "outputs": []
    },
    {
      "cell_type": "markdown",
      "source": [
        "## **Conclusão**"
      ],
      "metadata": {
        "id": "rDZt-EkApoI6"
      }
    },
    {
      "cell_type": "markdown",
      "source": [
        "Neste notebook, você viu:\n",
        "1. **Sintaxe básica do Python**: como variáveis, condicionais e loops.  \n",
        "2. **NumPy**: criação e manipulação de arrays para computação científica.  \n",
        "3. **Pandas**: manipulação de dados com estruturas como Series e DataFrames, além de operações de limpeza, transformação e agregação.\n",
        "\n",
        "Essas ferramentas são a base para **Ciência de Dados** com Python. A partir desse conhecimento, você poderá explorar bibliotecas mais avançadas como **matplotlib** (visualização), **scikit-learn** (aprendizado de máquina), entre outras."
      ],
      "metadata": {
        "id": "yoUTVkZGprgs"
      }
    },
    {
      "cell_type": "markdown",
      "source": [
        "## **Sugestões de estudo e prática**\n"
      ],
      "metadata": {
        "id": "EZ4GaFGtp4P4"
      }
    },
    {
      "cell_type": "markdown",
      "source": [
        "- Praticar leituras de arquivos CSV, Excel e SQL para manipular dados reais.\n",
        "- Explorar funções estatísticas e de limpeza de dados no Pandas, como `dropna`, `fillna`, `merge`, `concat` etc.\n",
        "- Manipular arrays NumPy para operações matemáticas mais complexas."
      ],
      "metadata": {
        "id": "nhCkeQb0p6s7"
      }
    }
  ]
}