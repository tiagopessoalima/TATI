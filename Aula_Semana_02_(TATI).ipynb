{
  "nbformat": 4,
  "nbformat_minor": 0,
  "metadata": {
    "colab": {
      "provenance": [],
      "authorship_tag": "ABX9TyOCmjrAgelknw6zDjXIDPix",
      "include_colab_link": true
    },
    "kernelspec": {
      "name": "python3",
      "display_name": "Python 3"
    },
    "language_info": {
      "name": "python"
    }
  },
  "cells": [
    {
      "cell_type": "markdown",
      "metadata": {
        "id": "view-in-github",
        "colab_type": "text"
      },
      "source": [
        "<a href=\"https://colab.research.google.com/github/tiagopessoalima/TATI/blob/main/Aula_Semana_02_(TATI).ipynb\" target=\"_parent\"><img src=\"https://colab.research.google.com/assets/colab-badge.svg\" alt=\"Open In Colab\"/></a>"
      ]
    },
    {
      "cell_type": "markdown",
      "source": [
        "# **Programação para Ciência de Dados com Python**"
      ],
      "metadata": {
        "id": "pfJh9drHoVL2"
      }
    },
    {
      "cell_type": "markdown",
      "source": [
        "Este notebook apresenta:\n",
        "- Breve introdução à sintaxe básica do **Python**  \n",
        "- Principais funcionalidades da biblioteca **NumPy**  \n",
        "- Manipulação de dados com **Pandas**"
      ],
      "metadata": {
        "id": "5fqnToKfocDi"
      }
    },
    {
      "cell_type": "markdown",
      "source": [
        "## **Sintaxe Básica do Python**"
      ],
      "metadata": {
        "id": "syhRIy4FoeDK"
      }
    },
    {
      "cell_type": "markdown",
      "source": [
        "É uma linguagem de programação de alto nível, interpretada e muito utilizada em Data Science. Algumas características:\n",
        "- Sintaxe simples, intuitiva e **indentação** obrigatória para controle de blocos de código.\n",
        "- Diversas bibliotecas e frameworks disponíveis (NumPy, Pandas, scikit-learn, etc.).\n",
        "- Interpretada: O código Python é executado linha a linha, tornando o processo de desenvolvimento mais dinâmico."
      ],
      "metadata": {
        "id": "7Mux3f1Xohld"
      }
    },
    {
      "cell_type": "code",
      "source": [
        "# Exemplo de print (saída de texto) e atribuição de variáveis\n",
        "mensagem = \"Olá, Mundo!\"\n",
        "print(mensagem)\n",
        "\n",
        "# Operações aritméticas\n",
        "a = 10\n",
        "b = 3\n",
        "soma = a + b\n",
        "divisao = a / b\n",
        "potencia = a ** b\n",
        "\n",
        "print(f\"Soma: {soma}\")\n",
        "print(f\"Divisão: {divisao}\")\n",
        "print(f\"Potência: {potencia}\")\n",
        "\n",
        "# Estruturas condicionais\n",
        "if a > b:\n",
        "    print(\"a é maior que b\")\n",
        "else:\n",
        "    print(\"b é maior ou igual a a\")\n",
        "\n",
        "# Estruturas de repetição\n",
        "for i in range(5):\n",
        "    print(\"Contador i:\", i)"
      ],
      "metadata": {
        "id": "bZ_RwLqfor0b"
      },
      "execution_count": null,
      "outputs": []
    },
    {
      "cell_type": "markdown",
      "source": [
        "## **NumPy**"
      ],
      "metadata": {
        "id": "XftJ3Wx_oom5"
      }
    },
    {
      "cell_type": "markdown",
      "source": [
        "O [NumPy](https://numpy.org/) (Numerical Python) é uma biblioteca fundamental para computação científica em Python. Ele fornece:\n",
        "- Um poderoso objeto de **array** multidimensional (`ndarray`).\n",
        "- Funções matemáticas para operações em grandes volumes de dados de forma eficiente.\n",
        "- Ferramentas para integração com C/C++ e Fortran."
      ],
      "metadata": {
        "id": "eXdED0jGo_6Z"
      }
    },
    {
      "cell_type": "markdown",
      "source": [
        "### **Principais Funcionalidades do NumPy**"
      ],
      "metadata": {
        "id": "nqt55TWLo8QY"
      }
    },
    {
      "cell_type": "markdown",
      "source": [
        "1. Criação de arrays\n",
        "2. Indexação e fatiamento\n",
        "3. Funções estatísticas\n",
        "4. Operações aritméticas vetorizadas"
      ],
      "metadata": {
        "id": "KswuBBOTo59E"
      }
    },
    {
      "cell_type": "code",
      "source": [
        "import numpy as np\n",
        "\n",
        "# Criação de um array NumPy\n",
        "arr = np.array([1, 2, 3, 4, 5])\n",
        "print(\"Array 1D:\", arr)\n",
        "\n",
        "# Array 2D\n",
        "matriz = np.array([[1, 2, 3],\n",
        "                   [4, 5, 6]])\n",
        "print(\"\\nArray 2D:\\n\", matriz)\n",
        "\n",
        "# Verificando dimensões\n",
        "print(\"\\nDimensões do array 1D:\", arr.shape)\n",
        "print(\"Dimensões do array 2D:\", matriz.shape)\n",
        "\n",
        "# Operações básicas\n",
        "print(\"\\nSoma de todos os elementos:\", np.sum(arr))\n",
        "print(\"Média dos elementos:\", np.mean(arr))\n",
        "print(\"Desvio padrão:\", np.std(arr))\n",
        "\n",
        "# Criando arrays especiais\n",
        "zeros = np.zeros((2, 3))\n",
        "ones = np.ones((3, 2))\n",
        "linspace = np.linspace(0, 10, 5)  # 5 valores entre 0 e 10\n",
        "\n",
        "print(\"\\nZeros:\\n\", zeros)\n",
        "print(\"\\nOnes:\\n\", ones)\n",
        "print(\"\\nLinspace:\\n\", linspace)\n",
        "\n",
        "# Operações aritméticas vetorizadas\n",
        "a = np.array([1, 2, 3])\n",
        "b = np.array([4, 5, 6])\n",
        "print(\"\\nSoma (a + b):\", a + b)\n",
        "print(\"Multiplicação (a * b):\", a * b)\n",
        "print(\"Combinação:\", a**2 + b/2)"
      ],
      "metadata": {
        "id": "Cbjuf6BCpLNo"
      },
      "execution_count": null,
      "outputs": []
    },
    {
      "cell_type": "markdown",
      "source": [
        "## **Pandas**"
      ],
      "metadata": {
        "id": "E0nDH13hpNlY"
      }
    },
    {
      "cell_type": "markdown",
      "source": [
        "[Pandas](https://pandas.pydata.org/) é uma biblioteca essencial para manipulação e análise de dados em Python. Oferece:\n",
        "- Estruturas de dados de alto desempenho: **Series** (1D) e **DataFrame** (2D).\n",
        "- Ferramentas para leitura de arquivos (CSV, Excel, SQL, etc.).\n",
        "- Filtros e transformações de dados simples e eficientes.\n",
        "- Agregação, merge, joins, limpeza de dados e muito mais."
      ],
      "metadata": {
        "id": "C0f5fRnkpQ7Q"
      }
    },
    {
      "cell_type": "markdown",
      "source": [
        "### **Series e DataFrames**"
      ],
      "metadata": {
        "id": "lDLyMMunpUfU"
      }
    },
    {
      "cell_type": "code",
      "source": [
        "import pandas as pd\n",
        "\n",
        "# Criando uma Series\n",
        "minha_series = pd.Series([10, 20, 30, 40, 50], name=\"ExemploSeries\")\n",
        "print(\"Series:\\n\", minha_series)\n",
        "\n",
        "# Criando um DataFrame\n",
        "dados = {\n",
        "    \"ColunaA\": [1, 2, 3],\n",
        "    \"ColunaB\": [\"A\", \"B\", \"C\"]\n",
        "}\n",
        "df = pd.DataFrame(dados)\n",
        "print(\"\\nDataFrame:\\n\", df)\n",
        "\n",
        "# Lendo arquivos CSV (exemplo hipotético)\n",
        "# df_csv = pd.read_csv(\"caminho/para/seu_arquivo.csv\")\n",
        "\n",
        "# Informações sobre o DataFrame\n",
        "print(\"\\nInformações sobre o DataFrame:\")\n",
        "print(df.info())\n",
        "\n",
        "print(\"\\nDescrição estatística (DataFrame numérico):\")\n",
        "df_numerico = pd.DataFrame({\n",
        "    \"X\": [10, 20, 30, 40],\n",
        "    \"Y\": [5, 6, 7, 8]\n",
        "})\n",
        "print(df_numerico.describe())"
      ],
      "metadata": {
        "id": "Zn_c1hi_pZqR"
      },
      "execution_count": null,
      "outputs": []
    },
    {
      "cell_type": "markdown",
      "source": [
        "### **Manipulação de Dados com Pandas**"
      ],
      "metadata": {
        "id": "x9ZnlAhzpdag"
      }
    },
    {
      "cell_type": "markdown",
      "source": [
        "Nesta seção, vamos mostrar algumas operações comuns de manipulação de dados, como seleção de colunas, filtragem, criação de colunas e agrupamentos."
      ],
      "metadata": {
        "id": "7Mzy7tsApgyh"
      }
    },
    {
      "cell_type": "code",
      "source": [
        "# Exemplo de DataFrame para manipulação\n",
        "dados = {\n",
        "    \"Nome\": [\"Ana\", \"Bruno\", \"Carlos\", \"Daniela\", \"Eduarda\"],\n",
        "    \"Idade\": [23, 35, 45, 29, 37],\n",
        "    \"Salário\": [3500, 5000, 6200, 4000, 5200],\n",
        "    \"Departamento\": [\"RH\", \"Financeiro\", \"TI\", \"TI\", \"Financeiro\"]\n",
        "}\n",
        "funcionarios = pd.DataFrame(dados)\n",
        "print(\"DataFrame original:\\n\", funcionarios)\n",
        "\n",
        "# Selecionando colunas\n",
        "print(\"\\nSelecionando coluna 'Nome':\\n\", funcionarios[\"Nome\"])\n",
        "\n",
        "# Filtrando dados (Idade maior que 30)\n",
        "print(\"\\nFiltrando por Idade > 30:\\n\", funcionarios[funcionarios[\"Idade\"] > 30])\n",
        "\n",
        "# Criando nova coluna (Exemplo: Salário Anual)\n",
        "funcionarios[\"Salário Anual\"] = funcionarios[\"Salário\"] * 12\n",
        "print(\"\\nCom nova coluna 'Salário Anual':\\n\", funcionarios)\n",
        "\n",
        "# Agrupando dados\n",
        "agrupado_departamento = funcionarios.groupby(\"Departamento\")[\"Salário\"].mean()\n",
        "print(\"\\nSalário médio por Departamento:\\n\", agrupado_departamento)"
      ],
      "metadata": {
        "id": "Ij9E6BlRpm2M"
      },
      "execution_count": null,
      "outputs": []
    },
    {
      "cell_type": "markdown",
      "source": [
        "## **Conclusão**"
      ],
      "metadata": {
        "id": "rDZt-EkApoI6"
      }
    },
    {
      "cell_type": "markdown",
      "source": [
        "Neste notebook, você viu:\n",
        "1. **Sintaxe básica do Python**: como variáveis, condicionais e loops.  \n",
        "2. **NumPy**: criação e manipulação de arrays para computação científica.  \n",
        "3. **Pandas**: manipulação de dados com estruturas como Series e DataFrames, além de operações de limpeza, transformação e agregação.\n",
        "\n",
        "Essas ferramentas são a base para **Ciência de Dados** com Python. A partir desse conhecimento, você poderá explorar bibliotecas mais avançadas como **matplotlib** (visualização), **scikit-learn** (aprendizado de máquina), entre outras."
      ],
      "metadata": {
        "id": "yoUTVkZGprgs"
      }
    },
    {
      "cell_type": "markdown",
      "source": [
        "## **Sugestões de estudo e prática**\n"
      ],
      "metadata": {
        "id": "EZ4GaFGtp4P4"
      }
    },
    {
      "cell_type": "markdown",
      "source": [
        "- Praticar leituras de arquivos CSV, Excel e SQL para manipular dados reais.\n",
        "- Explorar funções estatísticas e de limpeza de dados no Pandas, como `dropna`, `fillna`, `merge`, `concat` etc.\n",
        "- Manipular arrays NumPy para operações matemáticas mais complexas."
      ],
      "metadata": {
        "id": "nhCkeQb0p6s7"
      }
    }
  ]
}