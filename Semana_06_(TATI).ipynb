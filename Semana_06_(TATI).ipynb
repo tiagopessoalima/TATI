{
  "nbformat": 4,
  "nbformat_minor": 0,
  "metadata": {
    "colab": {
      "provenance": [],
      "authorship_tag": "ABX9TyPeI8wmNP4XfZ6RNyYY9Tm1",
      "include_colab_link": true
    },
    "kernelspec": {
      "name": "python3",
      "display_name": "Python 3"
    },
    "language_info": {
      "name": "python"
    }
  },
  "cells": [
    {
      "cell_type": "markdown",
      "metadata": {
        "id": "view-in-github",
        "colab_type": "text"
      },
      "source": [
        "<a href=\"https://colab.research.google.com/github/tiagopessoalima/TATI/blob/main/Semana_06_(TATI).ipynb\" target=\"_parent\"><img src=\"https://colab.research.google.com/assets/colab-badge.svg\" alt=\"Open In Colab\"/></a>"
      ]
    },
    {
      "cell_type": "markdown",
      "source": [
        "# **Estatística Inferencial**"
      ],
      "metadata": {
        "id": "bXqF_gC3TQEV"
      }
    },
    {
      "cell_type": "markdown",
      "source": [
        "A estatística inferencial permite tirar conclusões sobre uma população com base em dados de uma amostra. Dois pilares fundamentais são:\n",
        "\n",
        "* **Testes de Hipótese:** Avaliam a validade de uma afirmação sobre uma população.\n",
        "\n",
        "* **Intervalos de Confiança:** Estimam um intervalo de valores plausíveis para um parâmetro populacional.\n",
        "\n",
        "As análises serão conduzidas com o apoio de uma biblioteca amplamente consolidada no ecossistema Python, `scipy`. Utilizaremos um conjunto de dados que contém informações detalhadas sobre moradias no estado da Califórnia.\n"
      ],
      "metadata": {
        "id": "0-Hf22wdYoHF"
      }
    },
    {
      "cell_type": "markdown",
      "source": [
        "## **Importar bibliotecas**"
      ],
      "metadata": {
        "id": "M-LTfMMWUTQ7"
      }
    },
    {
      "cell_type": "code",
      "source": [
        "import scipy.stats as stats"
      ],
      "metadata": {
        "id": "eE7BhBMjY_hS"
      },
      "execution_count": null,
      "outputs": []
    },
    {
      "cell_type": "markdown",
      "source": [
        "## **Carregamento dos Dados**\n"
      ],
      "metadata": {
        "id": "9h9DHhqEYuUu"
      }
    },
    {
      "cell_type": "markdown",
      "source": [
        "### **Baixar e Extrair o Arquivo**\n"
      ],
      "metadata": {
        "id": "P9jdBFluwtdE"
      }
    },
    {
      "cell_type": "code",
      "source": [
        "import tarfile\n",
        "from urllib.request import urlretrieve\n",
        "from pathlib import Path\n",
        "\n",
        "URL = \"https://raw.githubusercontent.com/tiagopessoalima/TATI/main/datasets/housing_semana_03.tgz\"\n",
        "DIR = Path(\"datasets/housing\")\n",
        "TGZ = DIR / \"housing.tgz\"\n",
        "CSV = DIR / \"housing.csv\"\n",
        "\n",
        "def baixar():\n",
        "    DIR.mkdir(parents=True, exist_ok=True)\n",
        "    if not TGZ.is_file():\n",
        "        urlretrieve(URL, TGZ)\n",
        "\n",
        "def extrair():\n",
        "    if TGZ.is_file() and not CSV.is_file():\n",
        "        with tarfile.open(TGZ) as f:\n",
        "            f.extractall(path=DIR)\n",
        "\n",
        "baixar()\n",
        "extrair()"
      ],
      "metadata": {
        "id": "mbo8I8ETv4CD"
      },
      "execution_count": null,
      "outputs": []
    },
    {
      "cell_type": "markdown",
      "source": [
        "### **Carregamento do CSV**"
      ],
      "metadata": {
        "id": "UzENzu--w9Ro"
      }
    },
    {
      "cell_type": "code",
      "source": [
        "import pandas as pd\n",
        "\n",
        "df = pd.read_csv(DIR / 'housing_semana_03.csv')"
      ],
      "metadata": {
        "id": "B__necqUY5cy"
      },
      "execution_count": null,
      "outputs": []
    },
    {
      "cell_type": "markdown",
      "source": [
        "## **Testes de Hipóteses**"
      ],
      "metadata": {
        "id": "HaPdNmR53ZeM"
      }
    },
    {
      "cell_type": "markdown",
      "source": [
        "Testes de hipóteses são procedimentos estatísticos empregados para tomar decisões sobre uma ou mais populações com base em amostras de dados. O processo consiste na formulação de duas hipóteses mutuamente exclusivas: a hipótese nula (H₀), que representa uma afirmação inicial a ser testada, e a hipótese alternativa (H₁ ou Ha), que contrapõe a hipótese nula.\n",
        "\n",
        "**Conceitos Chave:**\n",
        "\n",
        "* **Hipótese Nula (H₀)**: Afirmação sobre um parâmetro populacional que se assume verdadeira até que evidências suficientes a contradigam. Frequentemente, é uma hipótese de \"nenhuma diferença\" ou \"nenhum efeito\".\n",
        "* **Hipótese Alternativa (H₁ ou Ha)**: Afirmação que reflete uma possível diferença ou efeito, em oposição à hipótese nula. É o que o pesquisador busca demonstrar.\n",
        "* **Nível de Significância (α)**: Probabilidade de cometer um Erro Tipo I, ou seja, rejeitar a hipótese nula quando ela é verdadeira. Valores típicos incluem 0.05 e 0.01.\n",
        "* **Valor-p (p-value)**: Probabilidade de obter um resultado tão extremo quanto, ou mais extremo do que, o observado, assumindo que a hipótese nula seja verdadeira. Caso o valor-p ≤ α, rejeita-se H₀.\n",
        "* **Erro Tipo I**: Rejeitar a hipótese nula quando ela é verdadeira.\n",
        "* **Erro Tipo II**: Não rejeitar a hipótese nula quando ela é falsa.\n"
      ],
      "metadata": {
        "id": "k_td97o53m2Q"
      }
    },
    {
      "cell_type": "markdown",
      "source": [
        "### **Exemplo Prático: Teste t para uma amostra**"
      ],
      "metadata": {
        "id": "eb8w2kHX4RLp"
      }
    },
    {
      "cell_type": "markdown",
      "source": [
        "**Objetivo**: O objetivo é testar se o valor mediano das casas (`valor_mediano_casas`) na Califórnia difere significativamente de \\$200.000.\n",
        "\n",
        "* **H₀**: A média do valor mediano das casas é igual a \\$200.000 (μ = 200.000).\n",
        "* **H₁**: A média do valor mediano das casas é diferente de \\$200.000 (μ ≠ 200.000).\n",
        "\n",
        "O teste será realizado com um nível de significância de α = 0,05.\n"
      ],
      "metadata": {
        "id": "Kbz9diTC4Wu4"
      }
    },
    {
      "cell_type": "code",
      "source": [
        "# Teste t para uma amostra\n",
        "valor_hipotetico = 200000\n",
        "amostra_valores_casas = df['valor_mediano_casas']\n",
        "\n",
        "# Realizando o teste t\n",
        "t_statistic, p_value = stats.ttest_1samp(a=amostra_valores_casas, popmean=valor_hipotetico)\n",
        "\n",
        "print(f\"Estatística t: {t_statistic:.4f}\")\n",
        "print(f\"Valor-p: {p_value:.4f}\")\n",
        "\n",
        "# Interpretando o resultado\n",
        "alpha = 0.05\n",
        "if p_value < alpha:\n",
        "    print(f\"Com um valor-p de {p_value:.4f}, rejeitamos H₀.\")\n",
        "    print(f\"Há evidências estatísticas para sugerir que o valor mediano das casas é diferente de ${valor_hipotetico}.\")\n",
        "else:\n",
        "    print(f\"Com um valor-p de {p_value:.4f}, não rejeitamos H₀.\")\n",
        "    print(f\"Não há evidências estatísticas suficientes para sugerir que o valor mediano das casas é diferente de ${valor_hipotetico}.\")"
      ],
      "metadata": {
        "colab": {
          "base_uri": "https://localhost:8080/"
        },
        "id": "GFtCSKSl4mYj",
        "outputId": "b6c917c6-6230-4ed2-cfde-06e892e1c924"
      },
      "execution_count": null,
      "outputs": [
        {
          "output_type": "stream",
          "name": "stdout",
          "text": [
            "Estatística t: 8.5354\n",
            "Valor-p: 0.0000\n",
            "Com um valor-p de 0.0000, rejeitamos H₀.\n",
            "Há evidências estatísticas para sugerir que o valor mediano das casas é diferente de $200000.\n"
          ]
        }
      ]
    },
    {
      "cell_type": "code",
      "source": [
        "df['valor_mediano_casas'].mean()"
      ],
      "metadata": {
        "colab": {
          "base_uri": "https://localhost:8080/"
        },
        "id": "xiXA_58-6anl",
        "outputId": "75960351-9f7f-4fa2-8777-f7901e1989bc"
      },
      "execution_count": null,
      "outputs": [
        {
          "output_type": "execute_result",
          "data": {
            "text/plain": [
              "np.float64(206855.81690891474)"
            ]
          },
          "metadata": {},
          "execution_count": 11
        }
      ]
    },
    {
      "cell_type": "markdown",
      "source": [
        "O teste estatístico serve para determinar se a diferença entre a média observada (206.000) e o valor hipotético ($200.000) é grande o suficiente para não ser apenas fruto do acaso."
      ],
      "metadata": {
        "id": "UD1kqJqz6XNT"
      }
    }
  ]
}