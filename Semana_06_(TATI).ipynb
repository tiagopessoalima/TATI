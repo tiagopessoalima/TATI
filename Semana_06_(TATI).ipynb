{
  "nbformat": 4,
  "nbformat_minor": 0,
  "metadata": {
    "colab": {
      "provenance": [],
      "authorship_tag": "ABX9TyP8p0p/fdhAJ5cjES4KiMXx",
      "include_colab_link": true
    },
    "kernelspec": {
      "name": "python3",
      "display_name": "Python 3"
    },
    "language_info": {
      "name": "python"
    }
  },
  "cells": [
    {
      "cell_type": "markdown",
      "metadata": {
        "id": "view-in-github",
        "colab_type": "text"
      },
      "source": [
        "<a href=\"https://colab.research.google.com/github/tiagopessoalima/TATI/blob/main/Semana_06_(TATI).ipynb\" target=\"_parent\"><img src=\"https://colab.research.google.com/assets/colab-badge.svg\" alt=\"Open In Colab\"/></a>"
      ]
    },
    {
      "cell_type": "markdown",
      "source": [
        "# **Estatística Inferencial**"
      ],
      "metadata": {
        "id": "bXqF_gC3TQEV"
      }
    },
    {
      "cell_type": "markdown",
      "source": [
        "A estatística inferencial permite tirar conclusões sobre uma população com base em dados de uma amostra. Dois pilares fundamentais são:\n",
        "\n",
        "* **Testes de Hipótese:** Avaliam a validade de uma afirmação sobre uma população.\n",
        "\n",
        "* **Intervalos de Confiança:** Estimam um intervalo de valores plausíveis para um parâmetro populacional.\n"
      ],
      "metadata": {
        "id": "0-Hf22wdYoHF"
      }
    },
    {
      "cell_type": "markdown",
      "source": [
        "## **Importar bibliotecas**"
      ],
      "metadata": {
        "id": "M-LTfMMWUTQ7"
      }
    },
    {
      "cell_type": "markdown",
      "source": [
        "As análises serão conduzidas com o apoio de uma biblioteca amplamente consolidada no ecossistema Python, `scipy`."
      ],
      "metadata": {
        "id": "IHJ5YIhQo3KF"
      }
    },
    {
      "cell_type": "code",
      "source": [
        "import scipy.stats as stats"
      ],
      "metadata": {
        "id": "eE7BhBMjY_hS"
      },
      "execution_count": 1,
      "outputs": []
    },
    {
      "cell_type": "markdown",
      "source": [
        "## **Testes de Hipótese**"
      ],
      "metadata": {
        "id": "DixtEX_PqVm0"
      }
    },
    {
      "cell_type": "markdown",
      "source": [
        "Um teste de hipótese é como um \"julgamento\" estatístico: você faz uma afirmação sobre a população (por exemplo, \"a altura média dos homens é 1,75 m\") e usa os dados da amostra para decidir se essa afirmação é razoável ou não."
      ],
      "metadata": {
        "id": "TA9alpaRqZNi"
      }
    },
    {
      "cell_type": "markdown",
      "source": [
        "### **Componentes Principais**"
      ],
      "metadata": {
        "id": "n8-xE0RKqerU"
      }
    },
    {
      "cell_type": "markdown",
      "source": [
        "1. **Hipótese Nula (H₀):**\n",
        "- É a afirmação inicial que assumimos como verdadeira até prova em contrário.\n",
        "- Exemplo: \"A altura média dos homens é 1,75 m\" (μ = 1,75).\n",
        "\n",
        "2. **Hipótese Alternativa (H₁ ou Hₐ):**\n",
        "- É o que consideramos se os dados mostrarem que H₀ não faz sentido. Pode ser:\n",
        "\n",
        "  - **Bilateral:** \"A média é diferente de 1,75 m\" (μ ≠ 1,75).\n",
        "  - **Unilateral à direita:** \"A média é maior que 1,75 m\" (μ > 1,75).\n",
        "  - **Unilateral à esquerda:** \"A média é menor que 1,75 m\" (μ < 1,75).\n",
        "\n",
        "3. **Nível de Significância (α):**\n",
        "- É o limite de risco que aceitamos para rejeitar H₀ por engano.\n",
        "- Exemplo: α = 0,05 significa 5% de chance de erro. Outros valores comuns são 0,01 (1%) e 0,10 (10%).\n",
        "\n",
        "4. **Estatística de Teste:**\n",
        "- Um número calculado a partir da amostra que nos ajuda a tomar a decisão. Depende do tipo de teste (t, Z, etc.).\n",
        "\n",
        "5. **Valor-p (p-valor):**\n",
        "\n",
        "- É a probabilidade de observar um resultado tão extremo quanto o da amostra, se H₀ for verdadeira.\n",
        "- Interpretação simples:\n",
        "  - Valor-p pequeno (≤ α): Há evidência contra H₀ → rejeitamos H₀.\n",
        "  - Valor-p grande (> α): Não há evidência contra H₀ → não rejeitamos H₀.\n"
      ],
      "metadata": {
        "id": "wZswXEdiqibx"
      }
    },
    {
      "cell_type": "markdown",
      "source": [
        "### **Processo de Decisão**"
      ],
      "metadata": {
        "id": "z9Scl1wwrysq"
      }
    },
    {
      "cell_type": "markdown",
      "source": [
        "*   Se o **valor-p ≤ α**, rejeitamos H₀. Há evidência estatística suficiente para suportar H₁.\n",
        "*   Se o **valor-p > α**, não rejeitamos H₀. Não há evidência estatística suficiente para rejeitar H₀."
      ],
      "metadata": {
        "id": "G-B2UTzmr0gR"
      }
    },
    {
      "cell_type": "markdown",
      "source": [
        "### **Exemplo Prático**"
      ],
      "metadata": {
        "id": "qLUW_Come_9C"
      }
    },
    {
      "cell_type": "markdown",
      "source": [
        "Imagine que você quer saber se a altura média dos homens em uma cidade é diferente de 1,75 m. Você mede 50 homens, faz um teste estatístico e obtém um valor-p de 0,03. Como 0,03 < 0,05 (α = 5%), você rejeita H₀ e conclui que a média é diferente de 1,75 m."
      ],
      "metadata": {
        "id": "uuBzBOdifDW_"
      }
    },
    {
      "cell_type": "markdown",
      "source": [
        "### **Tipos de Erros**"
      ],
      "metadata": {
        "id": "gh5IX5N_r8Ep"
      }
    },
    {
      "cell_type": "markdown",
      "source": [
        "*   **Erro Tipo I:** Rejeitar H₀ quando ela é, na verdade, verdadeira. A probabilidade de cometer um Erro Tipo I é α.\n",
        "*   **Erro Tipo II:** Não rejeitar H₀ quando ela é, na verdade, falsa. A probabilidade de cometer um Erro Tipo II é β."
      ],
      "metadata": {
        "id": "0FbYjweNr_uw"
      }
    },
    {
      "cell_type": "markdown",
      "source": [
        "### **Testes Comuns**"
      ],
      "metadata": {
        "id": "jkUQWmOzsf6g"
      }
    },
    {
      "cell_type": "markdown",
      "source": [
        "* **Teste t:** Utilizado para comparar médias de uma ou duas amostras, especialmente quando o desvio padrão populacional é desconhecido e/ou o tamanho da amostra é pequeno. Exemplos: comparação da média de um grupo com um valor de referência ou entre dois grupos independentes.\n",
        "\n",
        "* **Teste Z:** Semelhante ao teste t, mas aplicado quando o desvio padrão populacional é conhecido ou quando a amostra é suficientemente grande (graças ao Teorema Central do Limite).\n",
        "\n",
        "* **ANOVA (Análise de Variância):** Aplicada para comparar as médias de três ou mais grupos independentes, avaliando se pelo menos um grupo difere significativamente dos demais.\n",
        "\n",
        "* **Teste Qui-Quadrado (χ²):** Usado para analisar relações entre variáveis categóricas (teste de independência) ou verificar se a distribuição observada dos dados difere de uma distribuição teórica esperada (teste de aderência)."
      ],
      "metadata": {
        "id": "dwzK7A95siKQ"
      }
    },
    {
      "cell_type": "markdown",
      "source": [
        "### **Exemplo com Código**"
      ],
      "metadata": {
        "id": "T5ZVKlc6fzvP"
      }
    },
    {
      "cell_type": "markdown",
      "source": [
        "Vamos testar se a média de uma amostra de alturas é igual a 1,75 m."
      ],
      "metadata": {
        "id": "ifDIZjeJf79H"
      }
    },
    {
      "cell_type": "code",
      "source": [
        "import numpy as np\n",
        "\n",
        "# Amostra de alturas (em metros)\n",
        "amostra = np.array([1.70, 1.75, 1.80, 1.65, 1.78, 1.82, 1.68, 1.74, 1.79, 1.81])\n",
        "\n",
        "# Teste t de uma amostra\n",
        "resultado = stats.ttest_1samp(amostra, popmean=1.75)\n",
        "print(f\"Estatística t: {resultado.statistic:.2f}\")\n",
        "print(f\"Valor-p: {resultado.pvalue:.4f}\")"
      ],
      "metadata": {
        "colab": {
          "base_uri": "https://localhost:8080/"
        },
        "id": "VvYQJsyMf80T",
        "outputId": "876497dc-b08f-4217-ccac-6db7a3644804"
      },
      "execution_count": 2,
      "outputs": [
        {
          "output_type": "stream",
          "name": "stdout",
          "text": [
            "Estatística t: 0.11\n",
            "Valor-p: 0.9165\n"
          ]
        }
      ]
    },
    {
      "cell_type": "markdown",
      "source": [
        "📊 Interpretação do Teste t\n",
        "\n",
        "* A **estatística t = 0,11** mostra que a média da amostra está praticamente igual à média hipotética de **1,75 m**.\n",
        "* O **valor-p = 0,9165** indica que há **91,65% de chance** de observar essa pequena diferença apenas por acaso.\n",
        "\n",
        "✅ Conclusão\n",
        "\n",
        "* A diferença entre as médias é **muito pequena** e pode ser explicada por **variação natural**.\n",
        "* **Não há evidência estatística para rejeitar a hipótese de que a média da amostra seja 1,75.**\n"
      ],
      "metadata": {
        "id": "CXv_5_5TgRic"
      }
    },
    {
      "cell_type": "markdown",
      "source": [
        "## **Intervalos de Confiança**\n"
      ],
      "metadata": {
        "id": "3d8gqE-ot0U7"
      }
    },
    {
      "cell_type": "markdown",
      "source": [
        "Um intervalo de confiança (IC) é uma faixa de valores que provavelmente contém o verdadeiro valor de um parâmetro populacional (como a média ou proporção), calculada a partir da amostra."
      ],
      "metadata": {
        "id": "308ab4Omt4dQ"
      }
    },
    {
      "cell_type": "markdown",
      "source": [
        "### **Componentes Principais**"
      ],
      "metadata": {
        "id": "hVBDuHrCuBvU"
      }
    },
    {
      "cell_type": "markdown",
      "source": [
        "1. **Estimativa Pontual:**\n",
        "- O melhor \"chute\" para o parâmetro, como a média da amostra (𝑥̄).\n",
        "- Exemplo: Média amostral de 1,76 m.\n",
        "\n",
        "2. **Margem de Erro:**\n",
        "- A incerteza em torno da estimativa. Depende do tamanho da amostra, da variabilidade dos dados e do nível de confiança.\n",
        "\n",
        "3. **Nível de Confiança (1 - α):**\n",
        "- A probabilidade de que o intervalo contenha o valor real.\n",
        "- Exemplos:\n",
        "   * 95% de confiança → α = 0,05\n",
        "   * 99% de confiança → α = 0,01\n",
        "   * 90% de confiança → α = 0,10\n"
      ],
      "metadata": {
        "id": "oMjBZJskuD0I"
      }
    },
    {
      "cell_type": "markdown",
      "source": [
        "### **Interpretação**"
      ],
      "metadata": {
        "id": "_ub-x4igunIb"
      }
    },
    {
      "cell_type": "markdown",
      "source": [
        "Um IC de 95% como [1,72 m, 1,78 m] significa que estamos 95% confiantes de que a verdadeira média populacional está entre 1,72 m e 1,78 m. Não é uma garantia absoluta, mas uma medida de confiança baseada nos dados."
      ],
      "metadata": {
        "id": "lYBv6v1_uov0"
      }
    },
    {
      "cell_type": "markdown",
      "source": [
        "### **Exemplo com Código**"
      ],
      "metadata": {
        "id": "wanuBFmc0eVq"
      }
    },
    {
      "cell_type": "markdown",
      "source": [
        "Vamos calcular o IC de 95% para a média da mesma amostra."
      ],
      "metadata": {
        "id": "ks-gH5Wg0vKR"
      }
    },
    {
      "cell_type": "code",
      "source": [
        "# Intervalo de confiança de 95%\n",
        "ic = stats.t.interval(0.95, len(amostra)-1, loc=np.mean(amostra), scale=stats.sem(amostra))\n",
        "print(f\"Intervalo de Confiança 95%: [{ic[0]:.2f}, {ic[1]:.2f}]\")"
      ],
      "metadata": {
        "colab": {
          "base_uri": "https://localhost:8080/"
        },
        "id": "rxaXMxMW0wkZ",
        "outputId": "3a0b3da8-b129-4b1b-d6da-c92a62f588b0"
      },
      "execution_count": 3,
      "outputs": [
        {
          "output_type": "stream",
          "name": "stdout",
          "text": [
            "Intervalo de Confiança 95%: [1.71, 1.79]\n"
          ]
        }
      ]
    },
    {
      "cell_type": "markdown",
      "source": [
        "Isso indica que, com 95% de confiança, a média populacional está entre 1,71 m e 1,80 m."
      ],
      "metadata": {
        "id": "hqWJGhVL1Ba4"
      }
    },
    {
      "cell_type": "markdown",
      "source": [
        "## **Exercícios**"
      ],
      "metadata": {
        "id": "RCoVA6xv1rdM"
      }
    },
    {
      "cell_type": "markdown",
      "source": [
        "Cenário: Uma fábrica afirma que suas barras de chocolate têm em média 50g.\n",
        "Coletamos uma amostra de 15 barras e pesamos:"
      ],
      "metadata": {
        "id": "TrqmadsT1wph"
      }
    },
    {
      "cell_type": "code",
      "source": [
        "pesos_barras = np.array([48.5, 51.2, 49.8, 50.5, 49.0, 50.8, 51.5, 48.2, 49.5, 50.1, 50.9, 48.8, 51.0, 49.2, 50.3])\n",
        "\n",
        "# Hipóteses:\n",
        "# H₀: A média de peso das barras é 50g (μ = 50)\n",
        "# H₁: A média de peso das barras é diferente de 50g (μ ≠ 50)\n",
        "\n",
        "media_populacional_hipotetica = 50\n",
        "\n",
        "# Nível de significância (α)\n",
        "alpha = 0.05\n",
        "\n",
        "print(\"--- Exemplo 1: Teste t para uma amostra ---\")\n",
        "print(f\"Amostra de pesos: {pesos_barras}\")\n",
        "print(f\"Média amostral: {np.mean(pesos_barras):.2f}g\")\n",
        "print(f\"Hipótese Nula (H₀): μ = {media_populacional_hipotetica}g\")\n",
        "print(f\"Hipótese Alternativa (H₁): μ ≠ {media_populacional_hipotetica}g\")\n",
        "print(f\"Nível de significância (α): {alpha}\")\n",
        "\n",
        "# Realizando o teste t para uma amostra\n",
        "# A função ttest_1samp retorna a estatística t e o valor-p\n",
        "stat_t, valor_p = stats.ttest_1samp(a=pesos_barras, popmean=media_populacional_hipotetica)\n",
        "\n",
        "print(f\"\\nEstatística t calculada: {stat_t:.4f}\")\n",
        "print(f\"Valor-p calculado: {valor_p:.4f}\")\n",
        "\n",
        "# Tomando a decisão\n",
        "if valor_p <= alpha:\n",
        "    print(f\"\\nDecisão: Rejeitar H₀ (pois valor-p {valor_p:.4f} <= α {alpha})\")\n",
        "    print(\"Conclusão: Há evidência estatística suficiente para dizer que o peso médio das barras é diferente de 50g.\")\n",
        "else:\n",
        "    print(f\"\\nDecisão: Não rejeitar H₀ (pois valor-p {valor_p:.4f} > α {alpha})\")\n",
        "    print(\"Conclusão: Não há evidência estatística suficiente para dizer que o peso médio das barras é diferente de 50g.\")\n",
        "\n",
        "print(\"\\n\" + \"=\"*50 + \"\\n\")"
      ],
      "metadata": {
        "colab": {
          "base_uri": "https://localhost:8080/"
        },
        "id": "PLMzJ5wH115_",
        "outputId": "ae15a3b3-1893-40a1-d323-1f57d3294c21"
      },
      "execution_count": 4,
      "outputs": [
        {
          "output_type": "stream",
          "name": "stdout",
          "text": [
            "--- Exemplo 1: Teste t para uma amostra ---\n",
            "Amostra de pesos: [48.5 51.2 49.8 50.5 49.  50.8 51.5 48.2 49.5 50.1 50.9 48.8 51.  49.2\n",
            " 50.3]\n",
            "Média amostral: 49.95g\n",
            "Hipótese Nula (H₀): μ = 50g\n",
            "Hipótese Alternativa (H₁): μ ≠ 50g\n",
            "Nível de significância (α): 0.05\n",
            "\n",
            "Estatística t calculada: -0.1728\n",
            "Valor-p calculado: 0.8653\n",
            "\n",
            "Decisão: Não rejeitar H₀ (pois valor-p 0.8653 > α 0.05)\n",
            "Conclusão: Não há evidência estatística suficiente para dizer que o peso médio das barras é diferente de 50g.\n",
            "\n",
            "==================================================\n",
            "\n"
          ]
        }
      ]
    },
    {
      "cell_type": "markdown",
      "source": [
        "Cenário: Usando a mesma amostra de pesos das barras de chocolate, vamos calcular um intervalo de confiança de 95% para a média populacional do peso."
      ],
      "metadata": {
        "id": "-wlydhY42HI9"
      }
    },
    {
      "cell_type": "code",
      "source": [
        "nivel_confianca = 0.95\n",
        "\n",
        "print(\"--- Exemplo 2: Intervalo de Confiança para a Média ---\")\n",
        "print(f\"Amostra de pesos: {pesos_barras}\")\n",
        "print(f\"Nível de confiança: {nivel_confianca*100}%\")\n",
        "\n",
        "# Calculando os componentes necessários:\n",
        "media_amostral = np.mean(pesos_barras)\n",
        "desvio_padrao_amostral = np.std(pesos_barras, ddof=1) # ddof=1 para desvio padrão amostral\n",
        "tamanho_amostra = len(pesos_barras)\n",
        "graus_liberdade = tamanho_amostra - 1\n",
        "\n",
        "# Calculando o intervalo de confiança usando a distribuição t\n",
        "# stats.t.interval(nível_confiança, graus_liberdade, loc=média_amostral, scale=erro_padrão)\n",
        "# Erro padrão da média = desvio_padrao_amostral / sqrt(tamanho_amostra)\n",
        "erro_padrao_media = desvio_padrao_amostral / np.sqrt(tamanho_amostra)\n",
        "\n",
        "intervalo = stats.t.interval(confidence=nivel_confianca,\n",
        "                             df=graus_liberdade,\n",
        "                             loc=media_amostral,\n",
        "                             scale=erro_padrao_media)\n",
        "\n",
        "print(f\"\\nMédia amostral: {media_amostral:.2f}g\")\n",
        "print(f\"Desvio padrão amostral: {desvio_padrao_amostral:.2f}g\")\n",
        "print(f\"Erro padrão da média: {erro_padrao_media:.4f}\")\n",
        "print(f\"Graus de liberdade: {graus_liberdade}\")\n",
        "print(f\"\\nIntervalo de Confiança ({nivel_confianca*100}%): [{intervalo[0]:.2f}g, {intervalo[1]:.2f}g]\")\n",
        "\n",
        "print(\"\\nInterpretação: Estamos 95% confiantes de que a verdadeira média de peso de todas as barras de chocolate produzidas pela fábrica está entre {:.2f}g e {:.2f}g.\".format(intervalo[0], intervalo[1]))\n",
        "\n",
        "# Verificando a relação com o Teste de Hipótese (Exemplo 1)\n",
        "if intervalo[0] <= media_populacional_hipotetica <= intervalo[1]:\n",
        "    print(f\"\\nComo o valor hipotético ({media_populacional_hipotetica}g) está DENTRO do intervalo de confiança 95%, isso é consistente com a decisão de NÃO REJEITAR H₀ no teste t bilateral com α=0.05.\")\n",
        "else:\n",
        "    print(f\"\\nComo o valor hipotético ({media_populacional_hipotetica}g) está FORA do intervalo de confiança 95%, isso é consistente com a decisão de REJEITAR H₀ no teste t bilateral com α=0.05.\")\n",
        "\n",
        "print(\"\\n\" + \"=\"*50 + \"\\n\")"
      ],
      "metadata": {
        "colab": {
          "base_uri": "https://localhost:8080/"
        },
        "id": "gqEnmeiZ2Kjv",
        "outputId": "54b9b033-9f10-4c8a-bdb8-976a1a702b29"
      },
      "execution_count": 5,
      "outputs": [
        {
          "output_type": "stream",
          "name": "stdout",
          "text": [
            "--- Exemplo 2: Intervalo de Confiança para a Média ---\n",
            "Amostra de pesos: [48.5 51.2 49.8 50.5 49.  50.8 51.5 48.2 49.5 50.1 50.9 48.8 51.  49.2\n",
            " 50.3]\n",
            "Nível de confiança: 95.0%\n",
            "\n",
            "Média amostral: 49.95g\n",
            "Desvio padrão amostral: 1.05g\n",
            "Erro padrão da média: 0.2701\n",
            "Graus de liberdade: 14\n",
            "\n",
            "Intervalo de Confiança (95.0%): [49.37g, 50.53g]\n",
            "\n",
            "Interpretação: Estamos 95% confiantes de que a verdadeira média de peso de todas as barras de chocolate produzidas pela fábrica está entre 49.37g e 50.53g.\n",
            "\n",
            "Como o valor hipotético (50g) está DENTRO do intervalo de confiança 95%, isso é consistente com a decisão de NÃO REJEITAR H₀ no teste t bilateral com α=0.05.\n",
            "\n",
            "==================================================\n",
            "\n"
          ]
        }
      ]
    }
  ]
}