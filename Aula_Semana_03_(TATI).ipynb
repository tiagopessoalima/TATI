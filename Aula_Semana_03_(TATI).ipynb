{
  "cells": [
    {
      "cell_type": "markdown",
      "metadata": {
        "id": "view-in-github",
        "colab_type": "text"
      },
      "source": [
        "<a href=\"https://colab.research.google.com/github/tiagopessoalima/TATI/blob/main/Aula_Semana_03_(TATI).ipynb\" target=\"_parent\"><img src=\"https://colab.research.google.com/assets/colab-badge.svg\" alt=\"Open In Colab\"/></a>"
      ]
    },
    {
      "cell_type": "markdown",
      "metadata": {
        "id": "X0yvnopNjLLD"
      },
      "source": [
        "# **Estatística Descritiva: Medidas de Tendência Central e Dispersão**"
      ]
    },
    {
      "cell_type": "markdown",
      "source": [
        "Este notebook explora conceitos fundamentais de **Estatística Descritiva**, incluindo:\n",
        "- **Medidas de Tendência Central**: Média, Mediana, Moda.\n",
        "- **Medidas de Dispersão**: Variância, Desvio Padrão, Amplitude, Percentis.\n",
        "\n",
        "Usaremos a base de dados **California Housing** para ilustrar os conceitos com exemplos práticos."
      ],
      "metadata": {
        "id": "XYxva2LMUzI0"
      }
    },
    {
      "cell_type": "markdown",
      "metadata": {
        "id": "fHuJH_gfq1Kp"
      },
      "source": [
        "## **Definição do Problema**"
      ]
    },
    {
      "cell_type": "markdown",
      "metadata": {
        "id": "h-T_RyDdtwY0"
      },
      "source": [
        "**Problema de Negócio:**\n",
        "\n",
        "O mercado imobiliário é dinâmico e complexo, com os preços dos imóveis sendo influenciados por uma ampla variedade de fatores. A capacidade de estimar com precisão o valor de uma propriedade é essencial para subsidiar decisões estratégicas de compradores, vendedores, investidores e instituições financeiras. Modelos preditivos baseados em dados permitem compreender melhor essas variáveis e antecipar tendências, promovendo maior eficiência e assertividade nas transações imobiliárias."
      ]
    },
    {
      "cell_type": "markdown",
      "metadata": {
        "id": "lq037Memts45"
      },
      "source": [
        "**Descrição do Conjunto de Dados:**\n",
        "\n",
        "\n",
        "Neste semana, utilizamos um conjunto de dados que reúne informações de diversos distritos da [Califórnia](https://pt.wikipedia.org/wiki/Calif%C3%B3rnia), com o objetivo de prever o valor mediano das residências em cada região. As variáveis (*features*) disponíveis abrangem diferentes dimensões:\n",
        "\n",
        "* **Localização geográfica:** Informações sobre a localização dos distritos.\n",
        "* **Características demográficas:** Número de habitantes, renda média, etc.\n",
        "* **Características dos imóveis:** Número de quartos, idade média das casas, etc.\n",
        "\n",
        "Este conjunto é muito utilizado em estudos de [regressão](https://pt.wikipedia.org/wiki/Regress%C3%A3o_(estat%C3%ADstica)) para modelar a relação entre essas variáveis e o preço mediano dos imóveis."
      ]
    },
    {
      "cell_type": "markdown",
      "metadata": {
        "id": "UwxUTMsfx6A6"
      },
      "source": [
        "## **Coleta de Dados**\n"
      ]
    },
    {
      "cell_type": "markdown",
      "metadata": {
        "id": "g4ZZKm7dvqpE"
      },
      "source": [
        "O conjunto de dados foi obtido diretamente do repositório GitHub de [Aurélien Géron](https://github.com/ageron), autor do livro [Mãos à Obra: Aprendizado de Máquina com Scikit-Learn, Keras & TensorFlow](https://github.com/ageron/handson-ml2). Alternativamente, o *dataset* também está disponível no [kaggle](https://www.kaggle.com/datasets/camnugent/california-housing-prices)."
      ]
    },
    {
      "cell_type": "markdown",
      "metadata": {
        "id": "gksZHtAJybgA"
      },
      "source": [
        "### **Baixar os Dados**"
      ]
    },
    {
      "cell_type": "markdown",
      "source": [
        "Antes de iniciar a manipulação e limpeza dos dados, precisamos obter e preparar o conjunto de dados *California Housing Prices*. O código abaixo verifica se os dados já foram previamente baixados. Se não houver o arquivo localmente, ele realiza o *download* do arquivo compactado e extrai seu conteúdo para o diretório designado.\n",
        "\n"
      ],
      "metadata": {
        "id": "ME8hs65lE2ML"
      }
    },
    {
      "cell_type": "code",
      "source": [
        "import os\n",
        "import tarfile\n",
        "from urllib.request import urlretrieve\n",
        "from pathlib import Path\n",
        "\n",
        "# Definição das URLs e caminhos\n",
        "URL_RAIZ_DOWNLOAD = \"https://raw.githubusercontent.com/ageron/handson-ml2/master/\"\n",
        "CAMINHO_DADOS_IMOVEIS = Path(\"datasets/housing\")\n",
        "URL_DADOS_IMOVEIS = URL_RAIZ_DOWNLOAD + \"datasets/housing/housing.tgz\"\n",
        "\n",
        "# Criação do diretório, se ainda não existir\n",
        "CAMINHO_DADOS_IMOVEIS.mkdir(parents=True, exist_ok=True)\n",
        "\n",
        "# Caminhos dos arquivos\n",
        "caminho_arquivo_tgz = CAMINHO_DADOS_IMOVEIS / \"housing.tgz\"\n",
        "caminho_arquivo_csv = CAMINHO_DADOS_IMOVEIS / \"housing.csv\"\n",
        "\n",
        "def baixar_dados():\n",
        "    \"\"\"Baixa o arquivo compactado de dados, caso ainda não esteja disponível localmente.\"\"\"\n",
        "    if not caminho_arquivo_tgz.exists():\n",
        "        print(f\"🔽 Baixando dados de {URL_DADOS_IMOVEIS}...\")\n",
        "        urlretrieve(URL_DADOS_IMOVEIS, caminho_arquivo_tgz)\n",
        "        print(\"✅ Download concluído.\")\n",
        "    else:\n",
        "        print(f\"📁 Arquivo '{caminho_arquivo_tgz}' já existe. Pulando download.\")\n",
        "\n",
        "def extrair_dados():\n",
        "    \"\"\"Extrai o conteúdo do arquivo .tgz caso o CSV ainda não tenha sido extraído.\"\"\"\n",
        "    if not caminho_arquivo_csv.exists():\n",
        "        print(\"📦 Extraindo conteúdo do arquivo compactado...\")\n",
        "        with tarfile.open(caminho_arquivo_tgz) as arquivo_tgz:\n",
        "            arquivo_tgz.extractall(path=CAMINHO_DADOS_IMOVEIS)\n",
        "        print(f\"✅ Extração concluída. Dados disponíveis em '{caminho_arquivo_csv}'.\")\n",
        "    else:\n",
        "        print(f\"📄 Arquivo '{caminho_arquivo_csv}' já extraído. Pulando extração.\")\n",
        "\n",
        "# Execução das etapas\n",
        "baixar_dados()\n",
        "extrair_dados()\n"
      ],
      "metadata": {
        "colab": {
          "base_uri": "https://localhost:8080/"
        },
        "id": "NUSyM-i4vnF3",
        "outputId": "2658509e-d917-46d2-e7ac-62da207c9403"
      },
      "execution_count": 1,
      "outputs": [
        {
          "output_type": "stream",
          "name": "stdout",
          "text": [
            "📁 Arquivo 'datasets/housing/housing.tgz' já existe. Pulando download.\n",
            "📄 Arquivo 'datasets/housing/housing.csv' já extraído. Pulando extração.\n"
          ]
        }
      ]
    },
    {
      "cell_type": "markdown",
      "metadata": {
        "id": "fOJ6hCsd1NTS"
      },
      "source": [
        "### **Carregar os Dados**"
      ]
    },
    {
      "cell_type": "markdown",
      "source": [
        "Com os dados já extraídos, o próximo passo é carregá-los em um *DataFrame* utilizando a biblioteca *Pandas*. O código abaixo utiliza `pd.read_csv()` para ler o arquivo CSV e armazenar o conteúdo na variável `housing`, possibilitando a exploração e o processamento estruturado das informações ao longo da análise."
      ],
      "metadata": {
        "id": "JwnXgF0bF8q9"
      }
    },
    {
      "cell_type": "code",
      "source": [
        "import pandas as pd\n",
        "\n",
        "# Caminho para o arquivo CSV\n",
        "caminho_csv = CAMINHO_DADOS_IMOVEIS / \"housing.csv\"\n",
        "\n",
        "# Leitura dos dados em um DataFrame do Pandas\n",
        "housing = pd.read_csv(caminho_csv)"
      ],
      "metadata": {
        "id": "38siWrmaGKBD"
      },
      "execution_count": 2,
      "outputs": []
    },
    {
      "cell_type": "markdown",
      "metadata": {
        "id": "2qTxthWi16uy"
      },
      "source": [
        "### **Analisar os Dados**\n",
        "\n",
        "\n",
        "\n",
        "\n",
        "\n",
        "\n"
      ]
    },
    {
      "cell_type": "markdown",
      "metadata": {
        "id": "uf6Szwr23nvn"
      },
      "source": [
        "Agora que os dados foram carregados em um *DataFrame*, podemos visualizar as primeiras linhas usando `housing.head()`. Essa função exibe uma amostra inicial do conjunto de dados, permitindo uma inspeção rápida da estrutura, colunas e tipos de valores presentes.\n",
        "\n",
        "\n",
        "\n",
        "\n",
        "\n",
        "\n",
        "\n",
        "\n"
      ]
    },
    {
      "cell_type": "code",
      "execution_count": 3,
      "metadata": {
        "colab": {
          "base_uri": "https://localhost:8080/",
          "height": 206
        },
        "id": "PN3TB-e4161J",
        "outputId": "26e3a5db-f2ae-47f5-fd67-1cecbf3a77de"
      },
      "outputs": [
        {
          "output_type": "execute_result",
          "data": {
            "text/plain": [
              "   longitude  latitude  housing_median_age  total_rooms  total_bedrooms  \\\n",
              "0    -122.23     37.88                41.0        880.0           129.0   \n",
              "1    -122.22     37.86                21.0       7099.0          1106.0   \n",
              "2    -122.24     37.85                52.0       1467.0           190.0   \n",
              "3    -122.25     37.85                52.0       1274.0           235.0   \n",
              "4    -122.25     37.85                52.0       1627.0           280.0   \n",
              "\n",
              "   population  households  median_income  median_house_value ocean_proximity  \n",
              "0       322.0       126.0         8.3252            452600.0        NEAR BAY  \n",
              "1      2401.0      1138.0         8.3014            358500.0        NEAR BAY  \n",
              "2       496.0       177.0         7.2574            352100.0        NEAR BAY  \n",
              "3       558.0       219.0         5.6431            341300.0        NEAR BAY  \n",
              "4       565.0       259.0         3.8462            342200.0        NEAR BAY  "
            ],
            "text/html": [
              "\n",
              "  <div id=\"df-dff03416-c879-4712-b785-dc2d61bfbb32\" class=\"colab-df-container\">\n",
              "    <div>\n",
              "<style scoped>\n",
              "    .dataframe tbody tr th:only-of-type {\n",
              "        vertical-align: middle;\n",
              "    }\n",
              "\n",
              "    .dataframe tbody tr th {\n",
              "        vertical-align: top;\n",
              "    }\n",
              "\n",
              "    .dataframe thead th {\n",
              "        text-align: right;\n",
              "    }\n",
              "</style>\n",
              "<table border=\"1\" class=\"dataframe\">\n",
              "  <thead>\n",
              "    <tr style=\"text-align: right;\">\n",
              "      <th></th>\n",
              "      <th>longitude</th>\n",
              "      <th>latitude</th>\n",
              "      <th>housing_median_age</th>\n",
              "      <th>total_rooms</th>\n",
              "      <th>total_bedrooms</th>\n",
              "      <th>population</th>\n",
              "      <th>households</th>\n",
              "      <th>median_income</th>\n",
              "      <th>median_house_value</th>\n",
              "      <th>ocean_proximity</th>\n",
              "    </tr>\n",
              "  </thead>\n",
              "  <tbody>\n",
              "    <tr>\n",
              "      <th>0</th>\n",
              "      <td>-122.23</td>\n",
              "      <td>37.88</td>\n",
              "      <td>41.0</td>\n",
              "      <td>880.0</td>\n",
              "      <td>129.0</td>\n",
              "      <td>322.0</td>\n",
              "      <td>126.0</td>\n",
              "      <td>8.3252</td>\n",
              "      <td>452600.0</td>\n",
              "      <td>NEAR BAY</td>\n",
              "    </tr>\n",
              "    <tr>\n",
              "      <th>1</th>\n",
              "      <td>-122.22</td>\n",
              "      <td>37.86</td>\n",
              "      <td>21.0</td>\n",
              "      <td>7099.0</td>\n",
              "      <td>1106.0</td>\n",
              "      <td>2401.0</td>\n",
              "      <td>1138.0</td>\n",
              "      <td>8.3014</td>\n",
              "      <td>358500.0</td>\n",
              "      <td>NEAR BAY</td>\n",
              "    </tr>\n",
              "    <tr>\n",
              "      <th>2</th>\n",
              "      <td>-122.24</td>\n",
              "      <td>37.85</td>\n",
              "      <td>52.0</td>\n",
              "      <td>1467.0</td>\n",
              "      <td>190.0</td>\n",
              "      <td>496.0</td>\n",
              "      <td>177.0</td>\n",
              "      <td>7.2574</td>\n",
              "      <td>352100.0</td>\n",
              "      <td>NEAR BAY</td>\n",
              "    </tr>\n",
              "    <tr>\n",
              "      <th>3</th>\n",
              "      <td>-122.25</td>\n",
              "      <td>37.85</td>\n",
              "      <td>52.0</td>\n",
              "      <td>1274.0</td>\n",
              "      <td>235.0</td>\n",
              "      <td>558.0</td>\n",
              "      <td>219.0</td>\n",
              "      <td>5.6431</td>\n",
              "      <td>341300.0</td>\n",
              "      <td>NEAR BAY</td>\n",
              "    </tr>\n",
              "    <tr>\n",
              "      <th>4</th>\n",
              "      <td>-122.25</td>\n",
              "      <td>37.85</td>\n",
              "      <td>52.0</td>\n",
              "      <td>1627.0</td>\n",
              "      <td>280.0</td>\n",
              "      <td>565.0</td>\n",
              "      <td>259.0</td>\n",
              "      <td>3.8462</td>\n",
              "      <td>342200.0</td>\n",
              "      <td>NEAR BAY</td>\n",
              "    </tr>\n",
              "  </tbody>\n",
              "</table>\n",
              "</div>\n",
              "    <div class=\"colab-df-buttons\">\n",
              "\n",
              "  <div class=\"colab-df-container\">\n",
              "    <button class=\"colab-df-convert\" onclick=\"convertToInteractive('df-dff03416-c879-4712-b785-dc2d61bfbb32')\"\n",
              "            title=\"Convert this dataframe to an interactive table.\"\n",
              "            style=\"display:none;\">\n",
              "\n",
              "  <svg xmlns=\"http://www.w3.org/2000/svg\" height=\"24px\" viewBox=\"0 -960 960 960\">\n",
              "    <path d=\"M120-120v-720h720v720H120Zm60-500h600v-160H180v160Zm220 220h160v-160H400v160Zm0 220h160v-160H400v160ZM180-400h160v-160H180v160Zm440 0h160v-160H620v160ZM180-180h160v-160H180v160Zm440 0h160v-160H620v160Z\"/>\n",
              "  </svg>\n",
              "    </button>\n",
              "\n",
              "  <style>\n",
              "    .colab-df-container {\n",
              "      display:flex;\n",
              "      gap: 12px;\n",
              "    }\n",
              "\n",
              "    .colab-df-convert {\n",
              "      background-color: #E8F0FE;\n",
              "      border: none;\n",
              "      border-radius: 50%;\n",
              "      cursor: pointer;\n",
              "      display: none;\n",
              "      fill: #1967D2;\n",
              "      height: 32px;\n",
              "      padding: 0 0 0 0;\n",
              "      width: 32px;\n",
              "    }\n",
              "\n",
              "    .colab-df-convert:hover {\n",
              "      background-color: #E2EBFA;\n",
              "      box-shadow: 0px 1px 2px rgba(60, 64, 67, 0.3), 0px 1px 3px 1px rgba(60, 64, 67, 0.15);\n",
              "      fill: #174EA6;\n",
              "    }\n",
              "\n",
              "    .colab-df-buttons div {\n",
              "      margin-bottom: 4px;\n",
              "    }\n",
              "\n",
              "    [theme=dark] .colab-df-convert {\n",
              "      background-color: #3B4455;\n",
              "      fill: #D2E3FC;\n",
              "    }\n",
              "\n",
              "    [theme=dark] .colab-df-convert:hover {\n",
              "      background-color: #434B5C;\n",
              "      box-shadow: 0px 1px 3px 1px rgba(0, 0, 0, 0.15);\n",
              "      filter: drop-shadow(0px 1px 2px rgba(0, 0, 0, 0.3));\n",
              "      fill: #FFFFFF;\n",
              "    }\n",
              "  </style>\n",
              "\n",
              "    <script>\n",
              "      const buttonEl =\n",
              "        document.querySelector('#df-dff03416-c879-4712-b785-dc2d61bfbb32 button.colab-df-convert');\n",
              "      buttonEl.style.display =\n",
              "        google.colab.kernel.accessAllowed ? 'block' : 'none';\n",
              "\n",
              "      async function convertToInteractive(key) {\n",
              "        const element = document.querySelector('#df-dff03416-c879-4712-b785-dc2d61bfbb32');\n",
              "        const dataTable =\n",
              "          await google.colab.kernel.invokeFunction('convertToInteractive',\n",
              "                                                    [key], {});\n",
              "        if (!dataTable) return;\n",
              "\n",
              "        const docLinkHtml = 'Like what you see? Visit the ' +\n",
              "          '<a target=\"_blank\" href=https://colab.research.google.com/notebooks/data_table.ipynb>data table notebook</a>'\n",
              "          + ' to learn more about interactive tables.';\n",
              "        element.innerHTML = '';\n",
              "        dataTable['output_type'] = 'display_data';\n",
              "        await google.colab.output.renderOutput(dataTable, element);\n",
              "        const docLink = document.createElement('div');\n",
              "        docLink.innerHTML = docLinkHtml;\n",
              "        element.appendChild(docLink);\n",
              "      }\n",
              "    </script>\n",
              "  </div>\n",
              "\n",
              "\n",
              "<div id=\"df-cacd53bf-ef83-4df1-b9af-2e90a738f749\">\n",
              "  <button class=\"colab-df-quickchart\" onclick=\"quickchart('df-cacd53bf-ef83-4df1-b9af-2e90a738f749')\"\n",
              "            title=\"Suggest charts\"\n",
              "            style=\"display:none;\">\n",
              "\n",
              "<svg xmlns=\"http://www.w3.org/2000/svg\" height=\"24px\"viewBox=\"0 0 24 24\"\n",
              "     width=\"24px\">\n",
              "    <g>\n",
              "        <path d=\"M19 3H5c-1.1 0-2 .9-2 2v14c0 1.1.9 2 2 2h14c1.1 0 2-.9 2-2V5c0-1.1-.9-2-2-2zM9 17H7v-7h2v7zm4 0h-2V7h2v10zm4 0h-2v-4h2v4z\"/>\n",
              "    </g>\n",
              "</svg>\n",
              "  </button>\n",
              "\n",
              "<style>\n",
              "  .colab-df-quickchart {\n",
              "      --bg-color: #E8F0FE;\n",
              "      --fill-color: #1967D2;\n",
              "      --hover-bg-color: #E2EBFA;\n",
              "      --hover-fill-color: #174EA6;\n",
              "      --disabled-fill-color: #AAA;\n",
              "      --disabled-bg-color: #DDD;\n",
              "  }\n",
              "\n",
              "  [theme=dark] .colab-df-quickchart {\n",
              "      --bg-color: #3B4455;\n",
              "      --fill-color: #D2E3FC;\n",
              "      --hover-bg-color: #434B5C;\n",
              "      --hover-fill-color: #FFFFFF;\n",
              "      --disabled-bg-color: #3B4455;\n",
              "      --disabled-fill-color: #666;\n",
              "  }\n",
              "\n",
              "  .colab-df-quickchart {\n",
              "    background-color: var(--bg-color);\n",
              "    border: none;\n",
              "    border-radius: 50%;\n",
              "    cursor: pointer;\n",
              "    display: none;\n",
              "    fill: var(--fill-color);\n",
              "    height: 32px;\n",
              "    padding: 0;\n",
              "    width: 32px;\n",
              "  }\n",
              "\n",
              "  .colab-df-quickchart:hover {\n",
              "    background-color: var(--hover-bg-color);\n",
              "    box-shadow: 0 1px 2px rgba(60, 64, 67, 0.3), 0 1px 3px 1px rgba(60, 64, 67, 0.15);\n",
              "    fill: var(--button-hover-fill-color);\n",
              "  }\n",
              "\n",
              "  .colab-df-quickchart-complete:disabled,\n",
              "  .colab-df-quickchart-complete:disabled:hover {\n",
              "    background-color: var(--disabled-bg-color);\n",
              "    fill: var(--disabled-fill-color);\n",
              "    box-shadow: none;\n",
              "  }\n",
              "\n",
              "  .colab-df-spinner {\n",
              "    border: 2px solid var(--fill-color);\n",
              "    border-color: transparent;\n",
              "    border-bottom-color: var(--fill-color);\n",
              "    animation:\n",
              "      spin 1s steps(1) infinite;\n",
              "  }\n",
              "\n",
              "  @keyframes spin {\n",
              "    0% {\n",
              "      border-color: transparent;\n",
              "      border-bottom-color: var(--fill-color);\n",
              "      border-left-color: var(--fill-color);\n",
              "    }\n",
              "    20% {\n",
              "      border-color: transparent;\n",
              "      border-left-color: var(--fill-color);\n",
              "      border-top-color: var(--fill-color);\n",
              "    }\n",
              "    30% {\n",
              "      border-color: transparent;\n",
              "      border-left-color: var(--fill-color);\n",
              "      border-top-color: var(--fill-color);\n",
              "      border-right-color: var(--fill-color);\n",
              "    }\n",
              "    40% {\n",
              "      border-color: transparent;\n",
              "      border-right-color: var(--fill-color);\n",
              "      border-top-color: var(--fill-color);\n",
              "    }\n",
              "    60% {\n",
              "      border-color: transparent;\n",
              "      border-right-color: var(--fill-color);\n",
              "    }\n",
              "    80% {\n",
              "      border-color: transparent;\n",
              "      border-right-color: var(--fill-color);\n",
              "      border-bottom-color: var(--fill-color);\n",
              "    }\n",
              "    90% {\n",
              "      border-color: transparent;\n",
              "      border-bottom-color: var(--fill-color);\n",
              "    }\n",
              "  }\n",
              "</style>\n",
              "\n",
              "  <script>\n",
              "    async function quickchart(key) {\n",
              "      const quickchartButtonEl =\n",
              "        document.querySelector('#' + key + ' button');\n",
              "      quickchartButtonEl.disabled = true;  // To prevent multiple clicks.\n",
              "      quickchartButtonEl.classList.add('colab-df-spinner');\n",
              "      try {\n",
              "        const charts = await google.colab.kernel.invokeFunction(\n",
              "            'suggestCharts', [key], {});\n",
              "      } catch (error) {\n",
              "        console.error('Error during call to suggestCharts:', error);\n",
              "      }\n",
              "      quickchartButtonEl.classList.remove('colab-df-spinner');\n",
              "      quickchartButtonEl.classList.add('colab-df-quickchart-complete');\n",
              "    }\n",
              "    (() => {\n",
              "      let quickchartButtonEl =\n",
              "        document.querySelector('#df-cacd53bf-ef83-4df1-b9af-2e90a738f749 button');\n",
              "      quickchartButtonEl.style.display =\n",
              "        google.colab.kernel.accessAllowed ? 'block' : 'none';\n",
              "    })();\n",
              "  </script>\n",
              "</div>\n",
              "\n",
              "    </div>\n",
              "  </div>\n"
            ],
            "application/vnd.google.colaboratory.intrinsic+json": {
              "type": "dataframe",
              "variable_name": "housing",
              "summary": "{\n  \"name\": \"housing\",\n  \"rows\": 20640,\n  \"fields\": [\n    {\n      \"column\": \"longitude\",\n      \"properties\": {\n        \"dtype\": \"number\",\n        \"std\": 2.003531723502581,\n        \"min\": -124.35,\n        \"max\": -114.31,\n        \"num_unique_values\": 844,\n        \"samples\": [\n          -118.63,\n          -119.86,\n          -121.26\n        ],\n        \"semantic_type\": \"\",\n        \"description\": \"\"\n      }\n    },\n    {\n      \"column\": \"latitude\",\n      \"properties\": {\n        \"dtype\": \"number\",\n        \"std\": 2.1359523974571117,\n        \"min\": 32.54,\n        \"max\": 41.95,\n        \"num_unique_values\": 862,\n        \"samples\": [\n          33.7,\n          34.41,\n          38.24\n        ],\n        \"semantic_type\": \"\",\n        \"description\": \"\"\n      }\n    },\n    {\n      \"column\": \"housing_median_age\",\n      \"properties\": {\n        \"dtype\": \"number\",\n        \"std\": 12.585557612111637,\n        \"min\": 1.0,\n        \"max\": 52.0,\n        \"num_unique_values\": 52,\n        \"samples\": [\n          35.0,\n          25.0,\n          7.0\n        ],\n        \"semantic_type\": \"\",\n        \"description\": \"\"\n      }\n    },\n    {\n      \"column\": \"total_rooms\",\n      \"properties\": {\n        \"dtype\": \"number\",\n        \"std\": 2181.615251582787,\n        \"min\": 2.0,\n        \"max\": 39320.0,\n        \"num_unique_values\": 5926,\n        \"samples\": [\n          699.0,\n          1544.0,\n          3966.0\n        ],\n        \"semantic_type\": \"\",\n        \"description\": \"\"\n      }\n    },\n    {\n      \"column\": \"total_bedrooms\",\n      \"properties\": {\n        \"dtype\": \"number\",\n        \"std\": 421.3850700740322,\n        \"min\": 1.0,\n        \"max\": 6445.0,\n        \"num_unique_values\": 1923,\n        \"samples\": [\n          1538.0,\n          1298.0,\n          1578.0\n        ],\n        \"semantic_type\": \"\",\n        \"description\": \"\"\n      }\n    },\n    {\n      \"column\": \"population\",\n      \"properties\": {\n        \"dtype\": \"number\",\n        \"std\": 1132.4621217653375,\n        \"min\": 3.0,\n        \"max\": 35682.0,\n        \"num_unique_values\": 3888,\n        \"samples\": [\n          4169.0,\n          636.0,\n          3367.0\n        ],\n        \"semantic_type\": \"\",\n        \"description\": \"\"\n      }\n    },\n    {\n      \"column\": \"households\",\n      \"properties\": {\n        \"dtype\": \"number\",\n        \"std\": 382.3297528316099,\n        \"min\": 1.0,\n        \"max\": 6082.0,\n        \"num_unique_values\": 1815,\n        \"samples\": [\n          21.0,\n          750.0,\n          1447.0\n        ],\n        \"semantic_type\": \"\",\n        \"description\": \"\"\n      }\n    },\n    {\n      \"column\": \"median_income\",\n      \"properties\": {\n        \"dtype\": \"number\",\n        \"std\": 1.8998217179452732,\n        \"min\": 0.4999,\n        \"max\": 15.0001,\n        \"num_unique_values\": 12928,\n        \"samples\": [\n          5.0286,\n          2.0433,\n          6.1228\n        ],\n        \"semantic_type\": \"\",\n        \"description\": \"\"\n      }\n    },\n    {\n      \"column\": \"median_house_value\",\n      \"properties\": {\n        \"dtype\": \"number\",\n        \"std\": 115395.6158744132,\n        \"min\": 14999.0,\n        \"max\": 500001.0,\n        \"num_unique_values\": 3842,\n        \"samples\": [\n          194300.0,\n          379000.0,\n          230100.0\n        ],\n        \"semantic_type\": \"\",\n        \"description\": \"\"\n      }\n    },\n    {\n      \"column\": \"ocean_proximity\",\n      \"properties\": {\n        \"dtype\": \"category\",\n        \"num_unique_values\": 5,\n        \"samples\": [\n          \"<1H OCEAN\",\n          \"ISLAND\",\n          \"INLAND\"\n        ],\n        \"semantic_type\": \"\",\n        \"description\": \"\"\n      }\n    }\n  ]\n}"
            }
          },
          "metadata": {},
          "execution_count": 3
        }
      ],
      "source": [
        "housing.head()"
      ]
    },
    {
      "cell_type": "markdown",
      "metadata": {
        "id": "ZKYisri1w723"
      },
      "source": [
        "Prosseguiremos com a tradução das colunas do *DataFrame* `housing` para o português, para facilitar a compreensão e análise dos dados."
      ]
    },
    {
      "cell_type": "code",
      "execution_count": 4,
      "metadata": {
        "id": "SHF457tku1Tg"
      },
      "outputs": [],
      "source": [
        "housing = housing.rename(columns={\n",
        "    'housing_median_age': 'idade_média_moradias',\n",
        "    'total_rooms': 'total_cômodos',\n",
        "    'total_bedrooms': 'total_quartos',\n",
        "    'population': 'população',\n",
        "    'households': 'domicílios',\n",
        "    'median_income': 'renda_mediana',\n",
        "    'median_house_value': 'valor_mediano_casas',\n",
        "    'ocean_proximity': 'proximidade_ao_oceano'\n",
        "})"
      ]
    },
    {
      "cell_type": "markdown",
      "metadata": {
        "id": "lYwVWCdCyIIZ"
      },
      "source": [
        "E agora com a tradução dos valores da coluna `proximidade_ao_oceano`."
      ]
    },
    {
      "cell_type": "code",
      "execution_count": 5,
      "metadata": {
        "id": "j1Azh0J4xG92"
      },
      "outputs": [],
      "source": [
        "# Substituindo os valores de 'proximidade_ao_oceano' por descrições em português\n",
        "housing['proximidade_ao_oceano'] = housing['proximidade_ao_oceano'].replace({\n",
        "    'NEAR BAY': 'PERTO DA BAÍA',\n",
        "    '<1H OCEAN': 'MENOS DE 1H DO OCEANO',\n",
        "    'INLAND': 'INTERIOR',\n",
        "    'NEAR OCEAN': 'PERTO DO OCEANO',\n",
        "    'ISLAND': 'ILHA'\n",
        "})"
      ]
    },
    {
      "cell_type": "markdown",
      "metadata": {
        "id": "LJxNlZbpyVJQ"
      },
      "source": [
        "Para apresentar o *DataFrame* `housing` traduzido para o português, vamos exibir agora as 5 últimas linhas usando o método `tail()`"
      ]
    },
    {
      "cell_type": "code",
      "execution_count": 6,
      "metadata": {
        "colab": {
          "base_uri": "https://localhost:8080/",
          "height": 206
        },
        "id": "ZOFWw319xs1r",
        "outputId": "58bc9d05-8dd1-42b7-e6fa-595bee3214be"
      },
      "outputs": [
        {
          "output_type": "execute_result",
          "data": {
            "text/plain": [
              "       longitude  latitude  idade_média_moradias  total_cômodos  \\\n",
              "20635    -121.09     39.48                  25.0         1665.0   \n",
              "20636    -121.21     39.49                  18.0          697.0   \n",
              "20637    -121.22     39.43                  17.0         2254.0   \n",
              "20638    -121.32     39.43                  18.0         1860.0   \n",
              "20639    -121.24     39.37                  16.0         2785.0   \n",
              "\n",
              "       total_quartos  população  domicílios  renda_mediana  \\\n",
              "20635          374.0      845.0       330.0         1.5603   \n",
              "20636          150.0      356.0       114.0         2.5568   \n",
              "20637          485.0     1007.0       433.0         1.7000   \n",
              "20638          409.0      741.0       349.0         1.8672   \n",
              "20639          616.0     1387.0       530.0         2.3886   \n",
              "\n",
              "       valor_mediano_casas proximidade_ao_oceano  \n",
              "20635              78100.0              INTERIOR  \n",
              "20636              77100.0              INTERIOR  \n",
              "20637              92300.0              INTERIOR  \n",
              "20638              84700.0              INTERIOR  \n",
              "20639              89400.0              INTERIOR  "
            ],
            "text/html": [
              "\n",
              "  <div id=\"df-406496f3-5066-4520-afdd-b4d24269eae5\" class=\"colab-df-container\">\n",
              "    <div>\n",
              "<style scoped>\n",
              "    .dataframe tbody tr th:only-of-type {\n",
              "        vertical-align: middle;\n",
              "    }\n",
              "\n",
              "    .dataframe tbody tr th {\n",
              "        vertical-align: top;\n",
              "    }\n",
              "\n",
              "    .dataframe thead th {\n",
              "        text-align: right;\n",
              "    }\n",
              "</style>\n",
              "<table border=\"1\" class=\"dataframe\">\n",
              "  <thead>\n",
              "    <tr style=\"text-align: right;\">\n",
              "      <th></th>\n",
              "      <th>longitude</th>\n",
              "      <th>latitude</th>\n",
              "      <th>idade_média_moradias</th>\n",
              "      <th>total_cômodos</th>\n",
              "      <th>total_quartos</th>\n",
              "      <th>população</th>\n",
              "      <th>domicílios</th>\n",
              "      <th>renda_mediana</th>\n",
              "      <th>valor_mediano_casas</th>\n",
              "      <th>proximidade_ao_oceano</th>\n",
              "    </tr>\n",
              "  </thead>\n",
              "  <tbody>\n",
              "    <tr>\n",
              "      <th>20635</th>\n",
              "      <td>-121.09</td>\n",
              "      <td>39.48</td>\n",
              "      <td>25.0</td>\n",
              "      <td>1665.0</td>\n",
              "      <td>374.0</td>\n",
              "      <td>845.0</td>\n",
              "      <td>330.0</td>\n",
              "      <td>1.5603</td>\n",
              "      <td>78100.0</td>\n",
              "      <td>INTERIOR</td>\n",
              "    </tr>\n",
              "    <tr>\n",
              "      <th>20636</th>\n",
              "      <td>-121.21</td>\n",
              "      <td>39.49</td>\n",
              "      <td>18.0</td>\n",
              "      <td>697.0</td>\n",
              "      <td>150.0</td>\n",
              "      <td>356.0</td>\n",
              "      <td>114.0</td>\n",
              "      <td>2.5568</td>\n",
              "      <td>77100.0</td>\n",
              "      <td>INTERIOR</td>\n",
              "    </tr>\n",
              "    <tr>\n",
              "      <th>20637</th>\n",
              "      <td>-121.22</td>\n",
              "      <td>39.43</td>\n",
              "      <td>17.0</td>\n",
              "      <td>2254.0</td>\n",
              "      <td>485.0</td>\n",
              "      <td>1007.0</td>\n",
              "      <td>433.0</td>\n",
              "      <td>1.7000</td>\n",
              "      <td>92300.0</td>\n",
              "      <td>INTERIOR</td>\n",
              "    </tr>\n",
              "    <tr>\n",
              "      <th>20638</th>\n",
              "      <td>-121.32</td>\n",
              "      <td>39.43</td>\n",
              "      <td>18.0</td>\n",
              "      <td>1860.0</td>\n",
              "      <td>409.0</td>\n",
              "      <td>741.0</td>\n",
              "      <td>349.0</td>\n",
              "      <td>1.8672</td>\n",
              "      <td>84700.0</td>\n",
              "      <td>INTERIOR</td>\n",
              "    </tr>\n",
              "    <tr>\n",
              "      <th>20639</th>\n",
              "      <td>-121.24</td>\n",
              "      <td>39.37</td>\n",
              "      <td>16.0</td>\n",
              "      <td>2785.0</td>\n",
              "      <td>616.0</td>\n",
              "      <td>1387.0</td>\n",
              "      <td>530.0</td>\n",
              "      <td>2.3886</td>\n",
              "      <td>89400.0</td>\n",
              "      <td>INTERIOR</td>\n",
              "    </tr>\n",
              "  </tbody>\n",
              "</table>\n",
              "</div>\n",
              "    <div class=\"colab-df-buttons\">\n",
              "\n",
              "  <div class=\"colab-df-container\">\n",
              "    <button class=\"colab-df-convert\" onclick=\"convertToInteractive('df-406496f3-5066-4520-afdd-b4d24269eae5')\"\n",
              "            title=\"Convert this dataframe to an interactive table.\"\n",
              "            style=\"display:none;\">\n",
              "\n",
              "  <svg xmlns=\"http://www.w3.org/2000/svg\" height=\"24px\" viewBox=\"0 -960 960 960\">\n",
              "    <path d=\"M120-120v-720h720v720H120Zm60-500h600v-160H180v160Zm220 220h160v-160H400v160Zm0 220h160v-160H400v160ZM180-400h160v-160H180v160Zm440 0h160v-160H620v160ZM180-180h160v-160H180v160Zm440 0h160v-160H620v160Z\"/>\n",
              "  </svg>\n",
              "    </button>\n",
              "\n",
              "  <style>\n",
              "    .colab-df-container {\n",
              "      display:flex;\n",
              "      gap: 12px;\n",
              "    }\n",
              "\n",
              "    .colab-df-convert {\n",
              "      background-color: #E8F0FE;\n",
              "      border: none;\n",
              "      border-radius: 50%;\n",
              "      cursor: pointer;\n",
              "      display: none;\n",
              "      fill: #1967D2;\n",
              "      height: 32px;\n",
              "      padding: 0 0 0 0;\n",
              "      width: 32px;\n",
              "    }\n",
              "\n",
              "    .colab-df-convert:hover {\n",
              "      background-color: #E2EBFA;\n",
              "      box-shadow: 0px 1px 2px rgba(60, 64, 67, 0.3), 0px 1px 3px 1px rgba(60, 64, 67, 0.15);\n",
              "      fill: #174EA6;\n",
              "    }\n",
              "\n",
              "    .colab-df-buttons div {\n",
              "      margin-bottom: 4px;\n",
              "    }\n",
              "\n",
              "    [theme=dark] .colab-df-convert {\n",
              "      background-color: #3B4455;\n",
              "      fill: #D2E3FC;\n",
              "    }\n",
              "\n",
              "    [theme=dark] .colab-df-convert:hover {\n",
              "      background-color: #434B5C;\n",
              "      box-shadow: 0px 1px 3px 1px rgba(0, 0, 0, 0.15);\n",
              "      filter: drop-shadow(0px 1px 2px rgba(0, 0, 0, 0.3));\n",
              "      fill: #FFFFFF;\n",
              "    }\n",
              "  </style>\n",
              "\n",
              "    <script>\n",
              "      const buttonEl =\n",
              "        document.querySelector('#df-406496f3-5066-4520-afdd-b4d24269eae5 button.colab-df-convert');\n",
              "      buttonEl.style.display =\n",
              "        google.colab.kernel.accessAllowed ? 'block' : 'none';\n",
              "\n",
              "      async function convertToInteractive(key) {\n",
              "        const element = document.querySelector('#df-406496f3-5066-4520-afdd-b4d24269eae5');\n",
              "        const dataTable =\n",
              "          await google.colab.kernel.invokeFunction('convertToInteractive',\n",
              "                                                    [key], {});\n",
              "        if (!dataTable) return;\n",
              "\n",
              "        const docLinkHtml = 'Like what you see? Visit the ' +\n",
              "          '<a target=\"_blank\" href=https://colab.research.google.com/notebooks/data_table.ipynb>data table notebook</a>'\n",
              "          + ' to learn more about interactive tables.';\n",
              "        element.innerHTML = '';\n",
              "        dataTable['output_type'] = 'display_data';\n",
              "        await google.colab.output.renderOutput(dataTable, element);\n",
              "        const docLink = document.createElement('div');\n",
              "        docLink.innerHTML = docLinkHtml;\n",
              "        element.appendChild(docLink);\n",
              "      }\n",
              "    </script>\n",
              "  </div>\n",
              "\n",
              "\n",
              "<div id=\"df-d74b2fe7-4066-403f-afb5-47f499c757ef\">\n",
              "  <button class=\"colab-df-quickchart\" onclick=\"quickchart('df-d74b2fe7-4066-403f-afb5-47f499c757ef')\"\n",
              "            title=\"Suggest charts\"\n",
              "            style=\"display:none;\">\n",
              "\n",
              "<svg xmlns=\"http://www.w3.org/2000/svg\" height=\"24px\"viewBox=\"0 0 24 24\"\n",
              "     width=\"24px\">\n",
              "    <g>\n",
              "        <path d=\"M19 3H5c-1.1 0-2 .9-2 2v14c0 1.1.9 2 2 2h14c1.1 0 2-.9 2-2V5c0-1.1-.9-2-2-2zM9 17H7v-7h2v7zm4 0h-2V7h2v10zm4 0h-2v-4h2v4z\"/>\n",
              "    </g>\n",
              "</svg>\n",
              "  </button>\n",
              "\n",
              "<style>\n",
              "  .colab-df-quickchart {\n",
              "      --bg-color: #E8F0FE;\n",
              "      --fill-color: #1967D2;\n",
              "      --hover-bg-color: #E2EBFA;\n",
              "      --hover-fill-color: #174EA6;\n",
              "      --disabled-fill-color: #AAA;\n",
              "      --disabled-bg-color: #DDD;\n",
              "  }\n",
              "\n",
              "  [theme=dark] .colab-df-quickchart {\n",
              "      --bg-color: #3B4455;\n",
              "      --fill-color: #D2E3FC;\n",
              "      --hover-bg-color: #434B5C;\n",
              "      --hover-fill-color: #FFFFFF;\n",
              "      --disabled-bg-color: #3B4455;\n",
              "      --disabled-fill-color: #666;\n",
              "  }\n",
              "\n",
              "  .colab-df-quickchart {\n",
              "    background-color: var(--bg-color);\n",
              "    border: none;\n",
              "    border-radius: 50%;\n",
              "    cursor: pointer;\n",
              "    display: none;\n",
              "    fill: var(--fill-color);\n",
              "    height: 32px;\n",
              "    padding: 0;\n",
              "    width: 32px;\n",
              "  }\n",
              "\n",
              "  .colab-df-quickchart:hover {\n",
              "    background-color: var(--hover-bg-color);\n",
              "    box-shadow: 0 1px 2px rgba(60, 64, 67, 0.3), 0 1px 3px 1px rgba(60, 64, 67, 0.15);\n",
              "    fill: var(--button-hover-fill-color);\n",
              "  }\n",
              "\n",
              "  .colab-df-quickchart-complete:disabled,\n",
              "  .colab-df-quickchart-complete:disabled:hover {\n",
              "    background-color: var(--disabled-bg-color);\n",
              "    fill: var(--disabled-fill-color);\n",
              "    box-shadow: none;\n",
              "  }\n",
              "\n",
              "  .colab-df-spinner {\n",
              "    border: 2px solid var(--fill-color);\n",
              "    border-color: transparent;\n",
              "    border-bottom-color: var(--fill-color);\n",
              "    animation:\n",
              "      spin 1s steps(1) infinite;\n",
              "  }\n",
              "\n",
              "  @keyframes spin {\n",
              "    0% {\n",
              "      border-color: transparent;\n",
              "      border-bottom-color: var(--fill-color);\n",
              "      border-left-color: var(--fill-color);\n",
              "    }\n",
              "    20% {\n",
              "      border-color: transparent;\n",
              "      border-left-color: var(--fill-color);\n",
              "      border-top-color: var(--fill-color);\n",
              "    }\n",
              "    30% {\n",
              "      border-color: transparent;\n",
              "      border-left-color: var(--fill-color);\n",
              "      border-top-color: var(--fill-color);\n",
              "      border-right-color: var(--fill-color);\n",
              "    }\n",
              "    40% {\n",
              "      border-color: transparent;\n",
              "      border-right-color: var(--fill-color);\n",
              "      border-top-color: var(--fill-color);\n",
              "    }\n",
              "    60% {\n",
              "      border-color: transparent;\n",
              "      border-right-color: var(--fill-color);\n",
              "    }\n",
              "    80% {\n",
              "      border-color: transparent;\n",
              "      border-right-color: var(--fill-color);\n",
              "      border-bottom-color: var(--fill-color);\n",
              "    }\n",
              "    90% {\n",
              "      border-color: transparent;\n",
              "      border-bottom-color: var(--fill-color);\n",
              "    }\n",
              "  }\n",
              "</style>\n",
              "\n",
              "  <script>\n",
              "    async function quickchart(key) {\n",
              "      const quickchartButtonEl =\n",
              "        document.querySelector('#' + key + ' button');\n",
              "      quickchartButtonEl.disabled = true;  // To prevent multiple clicks.\n",
              "      quickchartButtonEl.classList.add('colab-df-spinner');\n",
              "      try {\n",
              "        const charts = await google.colab.kernel.invokeFunction(\n",
              "            'suggestCharts', [key], {});\n",
              "      } catch (error) {\n",
              "        console.error('Error during call to suggestCharts:', error);\n",
              "      }\n",
              "      quickchartButtonEl.classList.remove('colab-df-spinner');\n",
              "      quickchartButtonEl.classList.add('colab-df-quickchart-complete');\n",
              "    }\n",
              "    (() => {\n",
              "      let quickchartButtonEl =\n",
              "        document.querySelector('#df-d74b2fe7-4066-403f-afb5-47f499c757ef button');\n",
              "      quickchartButtonEl.style.display =\n",
              "        google.colab.kernel.accessAllowed ? 'block' : 'none';\n",
              "    })();\n",
              "  </script>\n",
              "</div>\n",
              "\n",
              "    </div>\n",
              "  </div>\n"
            ],
            "application/vnd.google.colaboratory.intrinsic+json": {
              "type": "dataframe",
              "summary": "{\n  \"name\": \"housing\",\n  \"rows\": 5,\n  \"fields\": [\n    {\n      \"column\": \"longitude\",\n      \"properties\": {\n        \"dtype\": \"number\",\n        \"std\": 0.08264381404557382,\n        \"min\": -121.32,\n        \"max\": -121.09,\n        \"num_unique_values\": 5,\n        \"samples\": [\n          -121.21,\n          -121.24,\n          -121.22\n        ],\n        \"semantic_type\": \"\",\n        \"description\": \"\"\n      }\n    },\n    {\n      \"column\": \"latitude\",\n      \"properties\": {\n        \"dtype\": \"number\",\n        \"std\": 0.047958315233128025,\n        \"min\": 39.37,\n        \"max\": 39.49,\n        \"num_unique_values\": 4,\n        \"samples\": [\n          39.49,\n          39.37,\n          39.48\n        ],\n        \"semantic_type\": \"\",\n        \"description\": \"\"\n      }\n    },\n    {\n      \"column\": \"idade_m\\u00e9dia_moradias\",\n      \"properties\": {\n        \"dtype\": \"number\",\n        \"std\": 3.5637059362410923,\n        \"min\": 16.0,\n        \"max\": 25.0,\n        \"num_unique_values\": 4,\n        \"samples\": [\n          18.0,\n          16.0,\n          25.0\n        ],\n        \"semantic_type\": \"\",\n        \"description\": \"\"\n      }\n    },\n    {\n      \"column\": \"total_c\\u00f4modos\",\n      \"properties\": {\n        \"dtype\": \"number\",\n        \"std\": 774.7823565363373,\n        \"min\": 697.0,\n        \"max\": 2785.0,\n        \"num_unique_values\": 5,\n        \"samples\": [\n          697.0,\n          2785.0,\n          2254.0\n        ],\n        \"semantic_type\": \"\",\n        \"description\": \"\"\n      }\n    },\n    {\n      \"column\": \"total_quartos\",\n      \"properties\": {\n        \"dtype\": \"number\",\n        \"std\": 170.95818202121828,\n        \"min\": 150.0,\n        \"max\": 616.0,\n        \"num_unique_values\": 5,\n        \"samples\": [\n          150.0,\n          616.0,\n          485.0\n        ],\n        \"semantic_type\": \"\",\n        \"description\": \"\"\n      }\n    },\n    {\n      \"column\": \"popula\\u00e7\\u00e3o\",\n      \"properties\": {\n        \"dtype\": \"number\",\n        \"std\": 376.6566075352987,\n        \"min\": 356.0,\n        \"max\": 1387.0,\n        \"num_unique_values\": 5,\n        \"samples\": [\n          356.0,\n          1387.0,\n          1007.0\n        ],\n        \"semantic_type\": \"\",\n        \"description\": \"\"\n      }\n    },\n    {\n      \"column\": \"domic\\u00edlios\",\n      \"properties\": {\n        \"dtype\": \"number\",\n        \"std\": 154.41729177783168,\n        \"min\": 114.0,\n        \"max\": 530.0,\n        \"num_unique_values\": 5,\n        \"samples\": [\n          114.0,\n          530.0,\n          433.0\n        ],\n        \"semantic_type\": \"\",\n        \"description\": \"\"\n      }\n    },\n    {\n      \"column\": \"renda_mediana\",\n      \"properties\": {\n        \"dtype\": \"number\",\n        \"std\": 0.43616087857578417,\n        \"min\": 1.5603,\n        \"max\": 2.5568,\n        \"num_unique_values\": 5,\n        \"samples\": [\n          2.5568,\n          2.3886,\n          1.7\n        ],\n        \"semantic_type\": \"\",\n        \"description\": \"\"\n      }\n    },\n    {\n      \"column\": \"valor_mediano_casas\",\n      \"properties\": {\n        \"dtype\": \"number\",\n        \"std\": 6716.546731766258,\n        \"min\": 77100.0,\n        \"max\": 92300.0,\n        \"num_unique_values\": 5,\n        \"samples\": [\n          77100.0,\n          89400.0,\n          92300.0\n        ],\n        \"semantic_type\": \"\",\n        \"description\": \"\"\n      }\n    },\n    {\n      \"column\": \"proximidade_ao_oceano\",\n      \"properties\": {\n        \"dtype\": \"category\",\n        \"num_unique_values\": 1,\n        \"samples\": [\n          \"INTERIOR\"\n        ],\n        \"semantic_type\": \"\",\n        \"description\": \"\"\n      }\n    }\n  ]\n}"
            }
          },
          "metadata": {},
          "execution_count": 6
        }
      ],
      "source": [
        "housing.tail()"
      ]
    },
    {
      "cell_type": "markdown",
      "metadata": {
        "id": "inIi7RR93_Sy"
      },
      "source": [
        "Em seguida, será feita a análise do número de linhas, colunas, tipos de dados e a quantidade de valores nulos, utilizando o método `info()`."
      ]
    },
    {
      "cell_type": "code",
      "execution_count": 7,
      "metadata": {
        "colab": {
          "base_uri": "https://localhost:8080/"
        },
        "id": "jsoOjXh_2SzC",
        "outputId": "f5ba6de4-44c1-4474-e486-1a5e50040834"
      },
      "outputs": [
        {
          "output_type": "stream",
          "name": "stdout",
          "text": [
            "<class 'pandas.core.frame.DataFrame'>\n",
            "RangeIndex: 20640 entries, 0 to 20639\n",
            "Data columns (total 10 columns):\n",
            " #   Column                 Non-Null Count  Dtype  \n",
            "---  ------                 --------------  -----  \n",
            " 0   longitude              20640 non-null  float64\n",
            " 1   latitude               20640 non-null  float64\n",
            " 2   idade_média_moradias   20640 non-null  float64\n",
            " 3   total_cômodos          20640 non-null  float64\n",
            " 4   total_quartos          20433 non-null  float64\n",
            " 5   população              20640 non-null  float64\n",
            " 6   domicílios             20640 non-null  float64\n",
            " 7   renda_mediana          20640 non-null  float64\n",
            " 8   valor_mediano_casas    20640 non-null  float64\n",
            " 9   proximidade_ao_oceano  20640 non-null  object \n",
            "dtypes: float64(9), object(1)\n",
            "memory usage: 1.6+ MB\n"
          ]
        }
      ],
      "source": [
        "housing.info()"
      ]
    },
    {
      "cell_type": "markdown",
      "metadata": {
        "id": "i4SVUIbUzLZ4"
      },
      "source": [
        "**Observações Gerais:**\n",
        "\n",
        "- O *dataset* contém informações sobre 20.640 imóveis na Califórnia;\n",
        "- A coluna `total_quartos` possui cerca de 200 valores ausentes;\n",
        "- A coluna `proximidade_ao_oceano` não é numérica."
      ]
    },
    {
      "cell_type": "code",
      "execution_count": 8,
      "metadata": {
        "colab": {
          "base_uri": "https://localhost:8080/",
          "height": 272
        },
        "id": "-mtJUEue26UQ",
        "outputId": "f577998b-a5d5-451c-f2ef-71be3fb7d7a6"
      },
      "outputs": [
        {
          "output_type": "execute_result",
          "data": {
            "text/plain": [
              "proximidade_ao_oceano\n",
              "MENOS DE 1H DO OCEANO    9136\n",
              "INTERIOR                 6551\n",
              "PERTO DO OCEANO          2658\n",
              "PERTO DA BAÍA            2290\n",
              "ILHA                        5\n",
              "Name: count, dtype: int64"
            ],
            "text/html": [
              "<div>\n",
              "<style scoped>\n",
              "    .dataframe tbody tr th:only-of-type {\n",
              "        vertical-align: middle;\n",
              "    }\n",
              "\n",
              "    .dataframe tbody tr th {\n",
              "        vertical-align: top;\n",
              "    }\n",
              "\n",
              "    .dataframe thead th {\n",
              "        text-align: right;\n",
              "    }\n",
              "</style>\n",
              "<table border=\"1\" class=\"dataframe\">\n",
              "  <thead>\n",
              "    <tr style=\"text-align: right;\">\n",
              "      <th></th>\n",
              "      <th>count</th>\n",
              "    </tr>\n",
              "    <tr>\n",
              "      <th>proximidade_ao_oceano</th>\n",
              "      <th></th>\n",
              "    </tr>\n",
              "  </thead>\n",
              "  <tbody>\n",
              "    <tr>\n",
              "      <th>MENOS DE 1H DO OCEANO</th>\n",
              "      <td>9136</td>\n",
              "    </tr>\n",
              "    <tr>\n",
              "      <th>INTERIOR</th>\n",
              "      <td>6551</td>\n",
              "    </tr>\n",
              "    <tr>\n",
              "      <th>PERTO DO OCEANO</th>\n",
              "      <td>2658</td>\n",
              "    </tr>\n",
              "    <tr>\n",
              "      <th>PERTO DA BAÍA</th>\n",
              "      <td>2290</td>\n",
              "    </tr>\n",
              "    <tr>\n",
              "      <th>ILHA</th>\n",
              "      <td>5</td>\n",
              "    </tr>\n",
              "  </tbody>\n",
              "</table>\n",
              "</div><br><label><b>dtype:</b> int64</label>"
            ]
          },
          "metadata": {},
          "execution_count": 8
        }
      ],
      "source": [
        "housing[\"proximidade_ao_oceano\"].value_counts()"
      ]
    },
    {
      "cell_type": "markdown",
      "source": [
        "### **Salvar o DataFrame em um Novo Arquivo CSV**"
      ],
      "metadata": {
        "id": "xRVZq6VEho9T"
      }
    },
    {
      "cell_type": "markdown",
      "source": [
        "Após carregar e preparar os dados, é importante salvar uma cópia local do DataFrame para preservar o estado atual das informações. Isso facilita o reuso em futuras análises, além de garantir segurança caso alterações posteriores precisem ser revertidas."
      ],
      "metadata": {
        "id": "o9KtSubBis7z"
      }
    },
    {
      "cell_type": "code",
      "source": [
        "# Caminho para salvar o novo arquivo CSV\n",
        "caminho_csv_copia = CAMINHO_DADOS_IMOVEIS / \"housing_semana_03.csv\"\n",
        "\n",
        "# Salvar o DataFrame em CSV\n",
        "housing.to_csv(caminho_csv_copia, index=False)\n",
        "\n",
        "print(f\"📁 Arquivo salvo em: {caminho_csv_copia}\")"
      ],
      "metadata": {
        "colab": {
          "base_uri": "https://localhost:8080/"
        },
        "id": "xKl5gzWdixKP",
        "outputId": "dc6587e6-de52-4443-87c9-37ac37d5cb79"
      },
      "execution_count": 9,
      "outputs": [
        {
          "output_type": "stream",
          "name": "stdout",
          "text": [
            "📁 Arquivo salvo em: datasets/housing/housing_semana_03.csv\n"
          ]
        }
      ]
    },
    {
      "cell_type": "markdown",
      "source": [
        "## **Medidas de Tendência Central**"
      ],
      "metadata": {
        "id": "2Z9QlNhzWbBb"
      }
    },
    {
      "cell_type": "markdown",
      "source": [
        "As medidas de tendência central resumem um conjunto de dados em um único valor representativo."
      ],
      "metadata": {
        "id": "-7Dt00I_Wgpu"
      }
    },
    {
      "cell_type": "markdown",
      "source": [
        "### **Média Aritmética**"
      ],
      "metadata": {
        "id": "WgRYRhWhWlSN"
      }
    },
    {
      "cell_type": "markdown",
      "source": [
        "Representa o valor médio de um conjunto de dados. É calculada somando todos os valores e dividindo pelo número total de observações.\n",
        "\n",
        "**Fórmula**:\n",
        "$$\n",
        "\\bar{x} = \\frac{1}{n} \\sum_{i=0}^{n-1} x_i\n",
        "$$\n",
        "Onde:\n",
        "- $\\bar{x}$: Média\n",
        "- $x_i$: Cada valor no conjunto\n",
        "- $n$: Número de observações\n",
        "\n",
        "> A média é útil para entender o \"centro\" dos dados, mas pode ser sensível a valores extremos (*outliers*).\n"
      ],
      "metadata": {
        "id": "IExyKtmoWo_k"
      }
    },
    {
      "cell_type": "code",
      "source": [
        "# Calculando a média da idade média das moradias\n",
        "mean_houseval = housing['idade_média_moradias'].mean()\n",
        "\n",
        "# Exibindo o resultado formatado com duas casas decimais\n",
        "print(f\"Média da idade média das moradias: {mean_houseval:.2f} anos\")"
      ],
      "metadata": {
        "colab": {
          "base_uri": "https://localhost:8080/"
        },
        "id": "sDKYLoAsYvxA",
        "outputId": "3c097e68-159f-4abb-96ee-d8d6f55e61a4"
      },
      "execution_count": 10,
      "outputs": [
        {
          "output_type": "stream",
          "name": "stdout",
          "text": [
            "Média da idade média das moradias: 28.64 anos\n"
          ]
        }
      ]
    },
    {
      "cell_type": "markdown",
      "source": [
        "A média da idade média das moradias indica, em média, há quantos anos as casas foram construídas"
      ],
      "metadata": {
        "id": "Oi2MgfCUZ0Y9"
      }
    },
    {
      "cell_type": "markdown",
      "source": [
        "### **Mediana**"
      ],
      "metadata": {
        "id": "0pmhqJcrXFLu"
      }
    },
    {
      "cell_type": "markdown",
      "source": [
        "É o valor que ocupa a posição central em um conjunto de dados **ordenado**. Ela divide o conjunto ao meio, de forma que:\n",
        "\n",
        "- 50% dos valores estão **abaixo** da mediana\n",
        "- 50% estão **acima**\n",
        "\n",
        "A mediana é especialmente útil quando os dados possuem **outliers** ou estão **assimétricos**, pois não é afetada por valores extremos.\n",
        "\n",
        "**Como calcular:**\n",
        "- Se o número de observações ($n$) for **ímpar**, a mediana é o valor do meio ($\\frac{n+1}{2}$).\n",
        "- Se $n$ for **par**, a mediana é a média dos dois valores centrais ($\\frac{n}{2}$  e $\\frac{n}{2}+1$).\n"
      ],
      "metadata": {
        "id": "4zvJo6AgXcRD"
      }
    },
    {
      "cell_type": "code",
      "source": [
        "# Calculando a mediana da idade média das moradias\n",
        "median_houseval = housing['idade_média_moradias'].median()\n",
        "\n",
        "# Exibindo o resultado formatado com duas casas decimais\n",
        "print(f\"Mediana da idade média das moradias: {median_houseval:.2f} anos\")"
      ],
      "metadata": {
        "colab": {
          "base_uri": "https://localhost:8080/"
        },
        "id": "JJHOyibNZTxX",
        "outputId": "4226a323-1dd4-4902-ab29-1aa7c9ba2f1d"
      },
      "execution_count": 11,
      "outputs": [
        {
          "output_type": "stream",
          "name": "stdout",
          "text": [
            "Mediana da idade média das moradias: 29.00 anos\n"
          ]
        }
      ]
    },
    {
      "cell_type": "markdown",
      "source": [
        "A mediana representa a idade central das moradias: metade tem idade menor e metade tem idade maior que este valor\n"
      ],
      "metadata": {
        "id": "P3sq4lQYZubH"
      }
    },
    {
      "cell_type": "markdown",
      "source": [
        "### **Moda**"
      ],
      "metadata": {
        "id": "2WzPo48zYjfi"
      }
    },
    {
      "cell_type": "markdown",
      "source": [
        "A moda é o valor (ou valores) que aparece com maior frequência."
      ],
      "metadata": {
        "id": "fYi0GFKLYmKl"
      }
    },
    {
      "cell_type": "code",
      "source": [
        "# Calculando a moda da coluna de proximidade ao oceano\n",
        "mode_ocean_proximity = housing['proximidade_ao_oceano'].mode()[0]\n",
        "\n",
        "# Exibindo o resultado\n",
        "print(f\"Moda da proximidade ao oceano: {mode_ocean_proximity}\")"
      ],
      "metadata": {
        "colab": {
          "base_uri": "https://localhost:8080/"
        },
        "id": "MrajLGpMZkxC",
        "outputId": "76e3e0fa-5a9d-4b87-eccb-728954e7174a"
      },
      "execution_count": 12,
      "outputs": [
        {
          "output_type": "stream",
          "name": "stdout",
          "text": [
            "Moda da proximidade ao oceano: MENOS DE 1H DO OCEANO\n"
          ]
        }
      ]
    },
    {
      "cell_type": "markdown",
      "source": [
        "A moda representa o valor mais frequente na coluna — ou seja, o tipo de proximidade ao oceano mais comum entre as moradias\n"
      ],
      "metadata": {
        "id": "9jlfuwomZpCP"
      }
    },
    {
      "cell_type": "markdown",
      "source": [
        "## **Medidas de Dispersão**"
      ],
      "metadata": {
        "id": "5oKvkEkCZ_mT"
      }
    },
    {
      "cell_type": "markdown",
      "source": [
        "As medidas de dispersão indicam o quão espalhados estão os dados em relação à tendência central."
      ],
      "metadata": {
        "id": "RfoK2ED7aD_b"
      }
    },
    {
      "cell_type": "markdown",
      "source": [
        "### **Amplitude**"
      ],
      "metadata": {
        "id": "Et73zMv7aJIc"
      }
    },
    {
      "cell_type": "markdown",
      "source": [
        "É uma medida simples de dispersão que indica a diferença entre o maior e o menor valor de um conjunto de dados. Ela mostra o **intervalo total de variação** dos dados, ou seja, o quão \"espalhados\" estão os valores em relação aos extremos.\n",
        "\n",
        "**Fórmula**:\n",
        "$$\n",
        "\\text{Amplitude} = \\max(x_i) - \\min(x_i)\n",
        "$$\n",
        "\n",
        "Onde:\n",
        "- $\\max(x_i)$ é o maior valor observado  \n",
        "- $\\min(x_i)$ é o menor valor observado  \n",
        "\n",
        "> A amplitude é sensível a outliers, pois considera apenas os valores extremos.\n"
      ],
      "metadata": {
        "id": "dZtM4keiaLZc"
      }
    },
    {
      "cell_type": "code",
      "source": [
        "# Exemplo de cálculo da amplitude\n",
        "amplitude_total_comodos = housing['total_cômodos'].max() - housing['total_cômodos'].min()\n",
        "\n",
        "# Exibindo o resultado\n",
        "print(f\"Amplitude do total de cômodos: {amplitude_total_comodos}\")"
      ],
      "metadata": {
        "colab": {
          "base_uri": "https://localhost:8080/"
        },
        "id": "jAs8ebkDaSnt",
        "outputId": "4e83b78c-5d89-4f5a-8f0f-09bf9929e8d3"
      },
      "execution_count": 13,
      "outputs": [
        {
          "output_type": "stream",
          "name": "stdout",
          "text": [
            "Amplitude do total de cômodos: 39318.0\n"
          ]
        }
      ]
    },
    {
      "cell_type": "markdown",
      "source": [
        "A amplitude é a diferença entre o maior e o menor valor na coluna 'total_cômodos', indicando a variação total entre os extremos\n"
      ],
      "metadata": {
        "id": "ixVnrRT1bQUZ"
      }
    },
    {
      "cell_type": "markdown",
      "source": [
        "### **Variância**"
      ],
      "metadata": {
        "id": "xhJG5gB-bWkv"
      }
    },
    {
      "cell_type": "markdown",
      "source": [
        "É uma medida de dispersão que indica o quanto os valores de um conjunto de dados se afastam da **média**.\n",
        "\n",
        "- A **variância populacional** é usada quando queremos medir a dispersão de toda a população de dados.  \n",
        "- A **variância amostral** é usada quando estamos calculando a dispersão de uma amostra da população.\n",
        "\n"
      ],
      "metadata": {
        "id": "jkwPfGozbZEu"
      }
    },
    {
      "cell_type": "markdown",
      "source": [
        "#### **Fórmula para a variância populacional**"
      ],
      "metadata": {
        "id": "zbKPPbyecGqK"
      }
    },
    {
      "cell_type": "markdown",
      "source": [
        "$$\n",
        "\\sigma^2 = \\frac{1}{n} \\sum_{i=1}^{n} (x_i - \\bar{x})^2\n",
        "$$\n",
        "\n",
        "Onde:\n",
        "- $\\sigma^2$ é a variância populacional\n",
        "- $x_i$ é cada valor do conjunto\n",
        "- $\\bar{x}$ é a média dos dados\n",
        "- $n$ é o número total de observações"
      ],
      "metadata": {
        "id": "ywImHFCRcJ_o"
      }
    },
    {
      "cell_type": "code",
      "source": [
        "# Exemplo de cálculo da variância populacional\n",
        "\n",
        "# Variância populacional\n",
        "variancia_populacional = housing['total_cômodos'].var(ddof=0)\n",
        "\n",
        "# Exibindo o resultado\n",
        "print(f\"Variância populacional do total de cômodos: {variancia_populacional:.2f}\")"
      ],
      "metadata": {
        "colab": {
          "base_uri": "https://localhost:8080/"
        },
        "id": "AXFW_eHCco1b",
        "outputId": "89dd86b1-22cf-4424-864e-7464a9104915"
      },
      "execution_count": 14,
      "outputs": [
        {
          "output_type": "stream",
          "name": "stdout",
          "text": [
            "Variância populacional do total de cômodos: 4759214.51\n"
          ]
        }
      ]
    },
    {
      "cell_type": "markdown",
      "source": [
        "Para variância populacional, usamos o parâmetro `ddof=0`, que divide por $n$."
      ],
      "metadata": {
        "id": "xSW8t6h1c_Cs"
      }
    },
    {
      "cell_type": "markdown",
      "source": [
        "#### **Fórmula para a variância amostral**"
      ],
      "metadata": {
        "id": "ubtfgcBccL2W"
      }
    },
    {
      "cell_type": "markdown",
      "source": [
        "$$\n",
        "s^2 = \\frac{1}{n-1} \\sum_{i=1}^{n} (x_i - \\bar{x})^2\n",
        "$$\n",
        "\n",
        "Onde:\n",
        "- $s^2$ é a variância amostral\n",
        "- A diferença é o divisor $n-1$ (graus de liberdade) para corrigir o viés quando calculamos a variância a partir de uma amostra."
      ],
      "metadata": {
        "id": "iM-4pbiwcY7N"
      }
    },
    {
      "cell_type": "code",
      "source": [
        "# Exemplo de cálculo da variância amostral\n",
        "\n",
        "# Variância amostral\n",
        "variancia_amostral = housing['total_cômodos'].var(ddof=1)\n",
        "\n",
        "# Exibindo o resultado\n",
        "print(f\"Variância amostral do total de cômodos: {variancia_amostral:.2f}\")"
      ],
      "metadata": {
        "colab": {
          "base_uri": "https://localhost:8080/"
        },
        "id": "7b6T-BF1cvcM",
        "outputId": "4b8e948e-b655-46ed-cd60-c2d248be312b"
      },
      "execution_count": 15,
      "outputs": [
        {
          "output_type": "stream",
          "name": "stdout",
          "text": [
            "Variância amostral do total de cômodos: 4759445.11\n"
          ]
        }
      ]
    },
    {
      "cell_type": "markdown",
      "source": [
        "Para variância amostral, usamos o parâmetro `ddof=1`, que divide por $n-1$, ajustando a estimativa."
      ],
      "metadata": {
        "id": "nmnR1ybzdCui"
      }
    },
    {
      "cell_type": "markdown",
      "source": [
        "### **Desvio Padrão**"
      ],
      "metadata": {
        "id": "UR9sxU52dTUz"
      }
    },
    {
      "cell_type": "markdown",
      "source": [
        "É a raiz quadrada da **variância**, e é uma medida que indica o quanto os dados estão dispersos em relação à média, mas agora na **mesma unidade** dos dados originais. Isso o torna mais intuitivo, pois a variância está em unidades ao quadrado."
      ],
      "metadata": {
        "id": "nbQ4zpUWdVnS"
      }
    },
    {
      "cell_type": "markdown",
      "source": [
        "#### **Fórmulas**\n"
      ],
      "metadata": {
        "id": "OmcuqY25dy4U"
      }
    },
    {
      "cell_type": "markdown",
      "source": [
        "- Para a **população**:\n",
        "$$\n",
        "\\sigma = \\sqrt{\\sigma^2}\n",
        "$$\n",
        "\n",
        "- Para a **amostra**:\n",
        "$$\n",
        "s = \\sqrt{s^2}\n",
        "$$\n",
        "\n",
        "Onde:\n",
        "- $\\sigma$ é o desvio padrão populacional\n",
        "- $s$ é o desvio padrão amostral\n",
        "- $\\sigma^2$ e $s^2$ são, respectivamente, as variâncias populacional e amostral\n"
      ],
      "metadata": {
        "id": "7Kxcu4Rdd1f5"
      }
    },
    {
      "cell_type": "code",
      "source": [
        "# Exemplo de cálculo do desvio padrão\n",
        "\n",
        "# Desvio padrão populacional\n",
        "desvio_padrao_populacional = housing['total_cômodos'].std(ddof=0)\n",
        "\n",
        "# Desvio padrão amostral\n",
        "desvio_padrao_amostral = housing['total_cômodos'].std(ddof=1)\n",
        "\n",
        "# Exibindo os resultados\n",
        "print(f\"Desvio padrão populacional do total de cômodos: {desvio_padrao_populacional:.2f}\")\n",
        "print(f\"Desvio padrão amostral do total de cômodos: {desvio_padrao_amostral:.2f}\")"
      ],
      "metadata": {
        "colab": {
          "base_uri": "https://localhost:8080/"
        },
        "id": "L9p8Trjwd3m1",
        "outputId": "b8645d2c-b648-4ddd-9a24-1832d54f3f00"
      },
      "execution_count": 16,
      "outputs": [
        {
          "output_type": "stream",
          "name": "stdout",
          "text": [
            "Desvio padrão populacional do total de cômodos: 2181.56\n",
            "Desvio padrão amostral do total de cômodos: 2181.62\n"
          ]
        }
      ]
    },
    {
      "cell_type": "markdown",
      "source": [
        "### **Percentis e Intervalo Interquartil (IQR)**"
      ],
      "metadata": {
        "id": "DJZtRGRoepar"
      }
    },
    {
      "cell_type": "markdown",
      "source": [
        "- **Percentis**: São pontos que dividem os dados em 100 partes iguais. O $p$-ésimo percentil é o valor abaixo do qual $p$% dos dados se encontram. Por exemplo, o 50º percentil corresponde à mediana.\n",
        "  \n",
        "- **Quartis**: São percentis especiais que dividem os dados em 4 partes iguais:\n",
        "  - **Q1 (25%)**: O primeiro quartil, que representa o valor abaixo do qual 25% dos dados estão.\n",
        "  - **Q2 (50%)**: O segundo quartil, que é a **mediana** e divide os dados ao meio.\n",
        "  - **Q3 (75%)**: O terceiro quartil, que representa o valor abaixo do qual 75% dos dados estão.\n",
        "\n",
        "- **Intervalo Interquartil (IQR)**: O **IQR** é a diferença entre o terceiro quartil (Q3) e o primeiro quartil (Q1). Ele indica a amplitude da parte central dos dados e é útil para identificar **outliers**.\n"
      ],
      "metadata": {
        "id": "7te5yDyxerkN"
      }
    },
    {
      "cell_type": "markdown",
      "source": [
        "#### **Fórmula para o IQR**"
      ],
      "metadata": {
        "id": "S9DMDGBYe5oh"
      }
    },
    {
      "cell_type": "markdown",
      "source": [
        "$$\n",
        "\\text{IQR} = Q3 - Q1\n",
        "$$\n",
        "\n",
        "Onde:\n",
        "- **Q1** é o primeiro quartil (25%)\n",
        "- **Q3** é o terceiro quartil (75%)"
      ],
      "metadata": {
        "id": "GpBSr4G0e7rS"
      }
    },
    {
      "cell_type": "markdown",
      "source": [
        "## **Resumo Estatístico**"
      ],
      "metadata": {
        "id": "bsePnHgufNiY"
      }
    },
    {
      "cell_type": "markdown",
      "source": [
        "Até agora, exploramos medidas de tendência central e dispersão individualmente, obtendo *insights* valiosos sobre cada variável. No entanto, o método `describe()` do Pandas nos permite ter uma visão panorâmica e concisa de todas as variáveis numéricas simultaneamente. Vamos analisar os resultados e contextualizá-los com o mercado imobiliário da Califórnia:"
      ],
      "metadata": {
        "id": "e3mdQdeqgPrl"
      }
    },
    {
      "cell_type": "code",
      "execution_count": 17,
      "metadata": {
        "colab": {
          "base_uri": "https://localhost:8080/",
          "height": 300
        },
        "id": "omakuK3L3FTW",
        "outputId": "af81c369-c7e9-4286-f9ce-160a1582fde8"
      },
      "outputs": [
        {
          "output_type": "execute_result",
          "data": {
            "text/plain": [
              "          longitude      latitude  idade_média_moradias  total_cômodos  \\\n",
              "count  20640.000000  20640.000000          20640.000000   20640.000000   \n",
              "mean    -119.569704     35.631861             28.639486    2635.763081   \n",
              "std        2.003532      2.135952             12.585558    2181.615252   \n",
              "min     -124.350000     32.540000              1.000000       2.000000   \n",
              "25%     -121.800000     33.930000             18.000000    1447.750000   \n",
              "50%     -118.490000     34.260000             29.000000    2127.000000   \n",
              "75%     -118.010000     37.710000             37.000000    3148.000000   \n",
              "max     -114.310000     41.950000             52.000000   39320.000000   \n",
              "\n",
              "       total_quartos     população    domicílios  renda_mediana  \\\n",
              "count   20433.000000  20640.000000  20640.000000   20640.000000   \n",
              "mean      537.870553   1425.476744    499.539680       3.870671   \n",
              "std       421.385070   1132.462122    382.329753       1.899822   \n",
              "min         1.000000      3.000000      1.000000       0.499900   \n",
              "25%       296.000000    787.000000    280.000000       2.563400   \n",
              "50%       435.000000   1166.000000    409.000000       3.534800   \n",
              "75%       647.000000   1725.000000    605.000000       4.743250   \n",
              "max      6445.000000  35682.000000   6082.000000      15.000100   \n",
              "\n",
              "       valor_mediano_casas  \n",
              "count         20640.000000  \n",
              "mean         206855.816909  \n",
              "std          115395.615874  \n",
              "min           14999.000000  \n",
              "25%          119600.000000  \n",
              "50%          179700.000000  \n",
              "75%          264725.000000  \n",
              "max          500001.000000  "
            ],
            "text/html": [
              "\n",
              "  <div id=\"df-cd42b7a3-d0e7-45eb-ab73-f3782c7175e7\" class=\"colab-df-container\">\n",
              "    <div>\n",
              "<style scoped>\n",
              "    .dataframe tbody tr th:only-of-type {\n",
              "        vertical-align: middle;\n",
              "    }\n",
              "\n",
              "    .dataframe tbody tr th {\n",
              "        vertical-align: top;\n",
              "    }\n",
              "\n",
              "    .dataframe thead th {\n",
              "        text-align: right;\n",
              "    }\n",
              "</style>\n",
              "<table border=\"1\" class=\"dataframe\">\n",
              "  <thead>\n",
              "    <tr style=\"text-align: right;\">\n",
              "      <th></th>\n",
              "      <th>longitude</th>\n",
              "      <th>latitude</th>\n",
              "      <th>idade_média_moradias</th>\n",
              "      <th>total_cômodos</th>\n",
              "      <th>total_quartos</th>\n",
              "      <th>população</th>\n",
              "      <th>domicílios</th>\n",
              "      <th>renda_mediana</th>\n",
              "      <th>valor_mediano_casas</th>\n",
              "    </tr>\n",
              "  </thead>\n",
              "  <tbody>\n",
              "    <tr>\n",
              "      <th>count</th>\n",
              "      <td>20640.000000</td>\n",
              "      <td>20640.000000</td>\n",
              "      <td>20640.000000</td>\n",
              "      <td>20640.000000</td>\n",
              "      <td>20433.000000</td>\n",
              "      <td>20640.000000</td>\n",
              "      <td>20640.000000</td>\n",
              "      <td>20640.000000</td>\n",
              "      <td>20640.000000</td>\n",
              "    </tr>\n",
              "    <tr>\n",
              "      <th>mean</th>\n",
              "      <td>-119.569704</td>\n",
              "      <td>35.631861</td>\n",
              "      <td>28.639486</td>\n",
              "      <td>2635.763081</td>\n",
              "      <td>537.870553</td>\n",
              "      <td>1425.476744</td>\n",
              "      <td>499.539680</td>\n",
              "      <td>3.870671</td>\n",
              "      <td>206855.816909</td>\n",
              "    </tr>\n",
              "    <tr>\n",
              "      <th>std</th>\n",
              "      <td>2.003532</td>\n",
              "      <td>2.135952</td>\n",
              "      <td>12.585558</td>\n",
              "      <td>2181.615252</td>\n",
              "      <td>421.385070</td>\n",
              "      <td>1132.462122</td>\n",
              "      <td>382.329753</td>\n",
              "      <td>1.899822</td>\n",
              "      <td>115395.615874</td>\n",
              "    </tr>\n",
              "    <tr>\n",
              "      <th>min</th>\n",
              "      <td>-124.350000</td>\n",
              "      <td>32.540000</td>\n",
              "      <td>1.000000</td>\n",
              "      <td>2.000000</td>\n",
              "      <td>1.000000</td>\n",
              "      <td>3.000000</td>\n",
              "      <td>1.000000</td>\n",
              "      <td>0.499900</td>\n",
              "      <td>14999.000000</td>\n",
              "    </tr>\n",
              "    <tr>\n",
              "      <th>25%</th>\n",
              "      <td>-121.800000</td>\n",
              "      <td>33.930000</td>\n",
              "      <td>18.000000</td>\n",
              "      <td>1447.750000</td>\n",
              "      <td>296.000000</td>\n",
              "      <td>787.000000</td>\n",
              "      <td>280.000000</td>\n",
              "      <td>2.563400</td>\n",
              "      <td>119600.000000</td>\n",
              "    </tr>\n",
              "    <tr>\n",
              "      <th>50%</th>\n",
              "      <td>-118.490000</td>\n",
              "      <td>34.260000</td>\n",
              "      <td>29.000000</td>\n",
              "      <td>2127.000000</td>\n",
              "      <td>435.000000</td>\n",
              "      <td>1166.000000</td>\n",
              "      <td>409.000000</td>\n",
              "      <td>3.534800</td>\n",
              "      <td>179700.000000</td>\n",
              "    </tr>\n",
              "    <tr>\n",
              "      <th>75%</th>\n",
              "      <td>-118.010000</td>\n",
              "      <td>37.710000</td>\n",
              "      <td>37.000000</td>\n",
              "      <td>3148.000000</td>\n",
              "      <td>647.000000</td>\n",
              "      <td>1725.000000</td>\n",
              "      <td>605.000000</td>\n",
              "      <td>4.743250</td>\n",
              "      <td>264725.000000</td>\n",
              "    </tr>\n",
              "    <tr>\n",
              "      <th>max</th>\n",
              "      <td>-114.310000</td>\n",
              "      <td>41.950000</td>\n",
              "      <td>52.000000</td>\n",
              "      <td>39320.000000</td>\n",
              "      <td>6445.000000</td>\n",
              "      <td>35682.000000</td>\n",
              "      <td>6082.000000</td>\n",
              "      <td>15.000100</td>\n",
              "      <td>500001.000000</td>\n",
              "    </tr>\n",
              "  </tbody>\n",
              "</table>\n",
              "</div>\n",
              "    <div class=\"colab-df-buttons\">\n",
              "\n",
              "  <div class=\"colab-df-container\">\n",
              "    <button class=\"colab-df-convert\" onclick=\"convertToInteractive('df-cd42b7a3-d0e7-45eb-ab73-f3782c7175e7')\"\n",
              "            title=\"Convert this dataframe to an interactive table.\"\n",
              "            style=\"display:none;\">\n",
              "\n",
              "  <svg xmlns=\"http://www.w3.org/2000/svg\" height=\"24px\" viewBox=\"0 -960 960 960\">\n",
              "    <path d=\"M120-120v-720h720v720H120Zm60-500h600v-160H180v160Zm220 220h160v-160H400v160Zm0 220h160v-160H400v160ZM180-400h160v-160H180v160Zm440 0h160v-160H620v160ZM180-180h160v-160H180v160Zm440 0h160v-160H620v160Z\"/>\n",
              "  </svg>\n",
              "    </button>\n",
              "\n",
              "  <style>\n",
              "    .colab-df-container {\n",
              "      display:flex;\n",
              "      gap: 12px;\n",
              "    }\n",
              "\n",
              "    .colab-df-convert {\n",
              "      background-color: #E8F0FE;\n",
              "      border: none;\n",
              "      border-radius: 50%;\n",
              "      cursor: pointer;\n",
              "      display: none;\n",
              "      fill: #1967D2;\n",
              "      height: 32px;\n",
              "      padding: 0 0 0 0;\n",
              "      width: 32px;\n",
              "    }\n",
              "\n",
              "    .colab-df-convert:hover {\n",
              "      background-color: #E2EBFA;\n",
              "      box-shadow: 0px 1px 2px rgba(60, 64, 67, 0.3), 0px 1px 3px 1px rgba(60, 64, 67, 0.15);\n",
              "      fill: #174EA6;\n",
              "    }\n",
              "\n",
              "    .colab-df-buttons div {\n",
              "      margin-bottom: 4px;\n",
              "    }\n",
              "\n",
              "    [theme=dark] .colab-df-convert {\n",
              "      background-color: #3B4455;\n",
              "      fill: #D2E3FC;\n",
              "    }\n",
              "\n",
              "    [theme=dark] .colab-df-convert:hover {\n",
              "      background-color: #434B5C;\n",
              "      box-shadow: 0px 1px 3px 1px rgba(0, 0, 0, 0.15);\n",
              "      filter: drop-shadow(0px 1px 2px rgba(0, 0, 0, 0.3));\n",
              "      fill: #FFFFFF;\n",
              "    }\n",
              "  </style>\n",
              "\n",
              "    <script>\n",
              "      const buttonEl =\n",
              "        document.querySelector('#df-cd42b7a3-d0e7-45eb-ab73-f3782c7175e7 button.colab-df-convert');\n",
              "      buttonEl.style.display =\n",
              "        google.colab.kernel.accessAllowed ? 'block' : 'none';\n",
              "\n",
              "      async function convertToInteractive(key) {\n",
              "        const element = document.querySelector('#df-cd42b7a3-d0e7-45eb-ab73-f3782c7175e7');\n",
              "        const dataTable =\n",
              "          await google.colab.kernel.invokeFunction('convertToInteractive',\n",
              "                                                    [key], {});\n",
              "        if (!dataTable) return;\n",
              "\n",
              "        const docLinkHtml = 'Like what you see? Visit the ' +\n",
              "          '<a target=\"_blank\" href=https://colab.research.google.com/notebooks/data_table.ipynb>data table notebook</a>'\n",
              "          + ' to learn more about interactive tables.';\n",
              "        element.innerHTML = '';\n",
              "        dataTable['output_type'] = 'display_data';\n",
              "        await google.colab.output.renderOutput(dataTable, element);\n",
              "        const docLink = document.createElement('div');\n",
              "        docLink.innerHTML = docLinkHtml;\n",
              "        element.appendChild(docLink);\n",
              "      }\n",
              "    </script>\n",
              "  </div>\n",
              "\n",
              "\n",
              "<div id=\"df-44a9df6a-012e-4d66-b185-1f895e7685dc\">\n",
              "  <button class=\"colab-df-quickchart\" onclick=\"quickchart('df-44a9df6a-012e-4d66-b185-1f895e7685dc')\"\n",
              "            title=\"Suggest charts\"\n",
              "            style=\"display:none;\">\n",
              "\n",
              "<svg xmlns=\"http://www.w3.org/2000/svg\" height=\"24px\"viewBox=\"0 0 24 24\"\n",
              "     width=\"24px\">\n",
              "    <g>\n",
              "        <path d=\"M19 3H5c-1.1 0-2 .9-2 2v14c0 1.1.9 2 2 2h14c1.1 0 2-.9 2-2V5c0-1.1-.9-2-2-2zM9 17H7v-7h2v7zm4 0h-2V7h2v10zm4 0h-2v-4h2v4z\"/>\n",
              "    </g>\n",
              "</svg>\n",
              "  </button>\n",
              "\n",
              "<style>\n",
              "  .colab-df-quickchart {\n",
              "      --bg-color: #E8F0FE;\n",
              "      --fill-color: #1967D2;\n",
              "      --hover-bg-color: #E2EBFA;\n",
              "      --hover-fill-color: #174EA6;\n",
              "      --disabled-fill-color: #AAA;\n",
              "      --disabled-bg-color: #DDD;\n",
              "  }\n",
              "\n",
              "  [theme=dark] .colab-df-quickchart {\n",
              "      --bg-color: #3B4455;\n",
              "      --fill-color: #D2E3FC;\n",
              "      --hover-bg-color: #434B5C;\n",
              "      --hover-fill-color: #FFFFFF;\n",
              "      --disabled-bg-color: #3B4455;\n",
              "      --disabled-fill-color: #666;\n",
              "  }\n",
              "\n",
              "  .colab-df-quickchart {\n",
              "    background-color: var(--bg-color);\n",
              "    border: none;\n",
              "    border-radius: 50%;\n",
              "    cursor: pointer;\n",
              "    display: none;\n",
              "    fill: var(--fill-color);\n",
              "    height: 32px;\n",
              "    padding: 0;\n",
              "    width: 32px;\n",
              "  }\n",
              "\n",
              "  .colab-df-quickchart:hover {\n",
              "    background-color: var(--hover-bg-color);\n",
              "    box-shadow: 0 1px 2px rgba(60, 64, 67, 0.3), 0 1px 3px 1px rgba(60, 64, 67, 0.15);\n",
              "    fill: var(--button-hover-fill-color);\n",
              "  }\n",
              "\n",
              "  .colab-df-quickchart-complete:disabled,\n",
              "  .colab-df-quickchart-complete:disabled:hover {\n",
              "    background-color: var(--disabled-bg-color);\n",
              "    fill: var(--disabled-fill-color);\n",
              "    box-shadow: none;\n",
              "  }\n",
              "\n",
              "  .colab-df-spinner {\n",
              "    border: 2px solid var(--fill-color);\n",
              "    border-color: transparent;\n",
              "    border-bottom-color: var(--fill-color);\n",
              "    animation:\n",
              "      spin 1s steps(1) infinite;\n",
              "  }\n",
              "\n",
              "  @keyframes spin {\n",
              "    0% {\n",
              "      border-color: transparent;\n",
              "      border-bottom-color: var(--fill-color);\n",
              "      border-left-color: var(--fill-color);\n",
              "    }\n",
              "    20% {\n",
              "      border-color: transparent;\n",
              "      border-left-color: var(--fill-color);\n",
              "      border-top-color: var(--fill-color);\n",
              "    }\n",
              "    30% {\n",
              "      border-color: transparent;\n",
              "      border-left-color: var(--fill-color);\n",
              "      border-top-color: var(--fill-color);\n",
              "      border-right-color: var(--fill-color);\n",
              "    }\n",
              "    40% {\n",
              "      border-color: transparent;\n",
              "      border-right-color: var(--fill-color);\n",
              "      border-top-color: var(--fill-color);\n",
              "    }\n",
              "    60% {\n",
              "      border-color: transparent;\n",
              "      border-right-color: var(--fill-color);\n",
              "    }\n",
              "    80% {\n",
              "      border-color: transparent;\n",
              "      border-right-color: var(--fill-color);\n",
              "      border-bottom-color: var(--fill-color);\n",
              "    }\n",
              "    90% {\n",
              "      border-color: transparent;\n",
              "      border-bottom-color: var(--fill-color);\n",
              "    }\n",
              "  }\n",
              "</style>\n",
              "\n",
              "  <script>\n",
              "    async function quickchart(key) {\n",
              "      const quickchartButtonEl =\n",
              "        document.querySelector('#' + key + ' button');\n",
              "      quickchartButtonEl.disabled = true;  // To prevent multiple clicks.\n",
              "      quickchartButtonEl.classList.add('colab-df-spinner');\n",
              "      try {\n",
              "        const charts = await google.colab.kernel.invokeFunction(\n",
              "            'suggestCharts', [key], {});\n",
              "      } catch (error) {\n",
              "        console.error('Error during call to suggestCharts:', error);\n",
              "      }\n",
              "      quickchartButtonEl.classList.remove('colab-df-spinner');\n",
              "      quickchartButtonEl.classList.add('colab-df-quickchart-complete');\n",
              "    }\n",
              "    (() => {\n",
              "      let quickchartButtonEl =\n",
              "        document.querySelector('#df-44a9df6a-012e-4d66-b185-1f895e7685dc button');\n",
              "      quickchartButtonEl.style.display =\n",
              "        google.colab.kernel.accessAllowed ? 'block' : 'none';\n",
              "    })();\n",
              "  </script>\n",
              "</div>\n",
              "\n",
              "    </div>\n",
              "  </div>\n"
            ],
            "application/vnd.google.colaboratory.intrinsic+json": {
              "type": "dataframe",
              "summary": "{\n  \"name\": \"housing\",\n  \"rows\": 8,\n  \"fields\": [\n    {\n      \"column\": \"longitude\",\n      \"properties\": {\n        \"dtype\": \"number\",\n        \"std\": 7333.554670164394,\n        \"min\": -124.35,\n        \"max\": 20640.0,\n        \"num_unique_values\": 8,\n        \"samples\": [\n          -119.56970445736432,\n          -118.49,\n          20640.0\n        ],\n        \"semantic_type\": \"\",\n        \"description\": \"\"\n      }\n    },\n    {\n      \"column\": \"latitude\",\n      \"properties\": {\n        \"dtype\": \"number\",\n        \"std\": 7286.333552413666,\n        \"min\": 2.1359523974571117,\n        \"max\": 20640.0,\n        \"num_unique_values\": 8,\n        \"samples\": [\n          35.63186143410853,\n          34.26,\n          20640.0\n        ],\n        \"semantic_type\": \"\",\n        \"description\": \"\"\n      }\n    },\n    {\n      \"column\": \"idade_m\\u00e9dia_moradias\",\n      \"properties\": {\n        \"dtype\": \"number\",\n        \"std\": 7288.35672120143,\n        \"min\": 1.0,\n        \"max\": 20640.0,\n        \"num_unique_values\": 8,\n        \"samples\": [\n          28.639486434108527,\n          29.0,\n          20640.0\n        ],\n        \"semantic_type\": \"\",\n        \"description\": \"\"\n      }\n    },\n    {\n      \"column\": \"total_c\\u00f4modos\",\n      \"properties\": {\n        \"dtype\": \"number\",\n        \"std\": 13944.990983306392,\n        \"min\": 2.0,\n        \"max\": 39320.0,\n        \"num_unique_values\": 8,\n        \"samples\": [\n          2635.7630813953488,\n          2127.0,\n          20640.0\n        ],\n        \"semantic_type\": \"\",\n        \"description\": \"\"\n      }\n    },\n    {\n      \"column\": \"total_quartos\",\n      \"properties\": {\n        \"dtype\": \"number\",\n        \"std\": 7106.427031043755,\n        \"min\": 1.0,\n        \"max\": 20433.0,\n        \"num_unique_values\": 8,\n        \"samples\": [\n          537.8705525375618,\n          435.0,\n          20433.0\n        ],\n        \"semantic_type\": \"\",\n        \"description\": \"\"\n      }\n    },\n    {\n      \"column\": \"popula\\u00e7\\u00e3o\",\n      \"properties\": {\n        \"dtype\": \"number\",\n        \"std\": 13192.258841737372,\n        \"min\": 3.0,\n        \"max\": 35682.0,\n        \"num_unique_values\": 8,\n        \"samples\": [\n          1425.4767441860465,\n          1166.0,\n          20640.0\n        ],\n        \"semantic_type\": \"\",\n        \"description\": \"\"\n      }\n    },\n    {\n      \"column\": \"domic\\u00edlios\",\n      \"properties\": {\n        \"dtype\": \"number\",\n        \"std\": 7167.532601135343,\n        \"min\": 1.0,\n        \"max\": 20640.0,\n        \"num_unique_values\": 8,\n        \"samples\": [\n          499.5396802325581,\n          409.0,\n          20640.0\n        ],\n        \"semantic_type\": \"\",\n        \"description\": \"\"\n      }\n    },\n    {\n      \"column\": \"renda_mediana\",\n      \"properties\": {\n        \"dtype\": \"number\",\n        \"std\": 7295.721435853639,\n        \"min\": 0.4999,\n        \"max\": 20640.0,\n        \"num_unique_values\": 8,\n        \"samples\": [\n          3.8706710029069766,\n          3.5347999999999997,\n          20640.0\n        ],\n        \"semantic_type\": \"\",\n        \"description\": \"\"\n      }\n    },\n    {\n      \"column\": \"valor_mediano_casas\",\n      \"properties\": {\n        \"dtype\": \"number\",\n        \"std\": 156160.28379826449,\n        \"min\": 14999.0,\n        \"max\": 500001.0,\n        \"num_unique_values\": 8,\n        \"samples\": [\n          206855.81690891474,\n          179700.0,\n          20640.0\n        ],\n        \"semantic_type\": \"\",\n        \"description\": \"\"\n      }\n    }\n  ]\n}"
            }
          },
          "metadata": {},
          "execution_count": 17
        }
      ],
      "source": [
        "housing.describe()"
      ]
    },
    {
      "cell_type": "markdown",
      "metadata": {
        "id": "2nTy_kNa3dAe"
      },
      "source": [
        "Essa análise estatística é um bom ponto de partida para entender a distribuição dos dados e detectar outliers ou padrões incomuns.\n",
        "\n",
        "- A distribuição geográfica dos imóveis, representada por longitude e latitude, abrange uma área considerável da Califórnia.\n",
        "- A `idade_média_moradias` varia de 1 a 52 anos, com uma média de 28.6 anos, sugerindo uma mistura de imóveis novos e antigos.\n",
        "- O número de cômodos (`total_cômodos`) e quartos (`total_quartos`) apresentam alta variabilidade, com valores máximos muito distantes das médias, indicando a presença de imóveis de grande porte.\n",
        "- As colunas `população` e `domicílios` também exibem grande variação, refletindo a diversidade de densidade populacional.\n",
        "- O `valor_mediano_casas` também apresenta alta variabilidade, com valores máximos muito acima da média."
      ]
    }
  ],
  "metadata": {
    "colab": {
      "provenance": [],
      "authorship_tag": "ABX9TyNSk/BMVKrCZde5N29MpcHO",
      "include_colab_link": true
    },
    "kernelspec": {
      "display_name": "Python 3",
      "name": "python3"
    },
    "language_info": {
      "name": "python"
    }
  },
  "nbformat": 4,
  "nbformat_minor": 0
}