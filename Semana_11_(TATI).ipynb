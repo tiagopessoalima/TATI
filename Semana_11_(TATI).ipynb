{
  "nbformat": 4,
  "nbformat_minor": 0,
  "metadata": {
    "colab": {
      "provenance": [],
      "authorship_tag": "ABX9TyN7+vEZDY4iBf+Q4X6fKDm0",
      "include_colab_link": true
    },
    "kernelspec": {
      "name": "python3",
      "display_name": "Python 3"
    },
    "language_info": {
      "name": "python"
    }
  },
  "cells": [
    {
      "cell_type": "markdown",
      "metadata": {
        "id": "view-in-github",
        "colab_type": "text"
      },
      "source": [
        "<a href=\"https://colab.research.google.com/github/tiagopessoalima/TATI/blob/main/Semana_11_(TATI).ipynb\" target=\"_parent\"><img src=\"https://colab.research.google.com/assets/colab-badge.svg\" alt=\"Open In Colab\"/></a>"
      ]
    },
    {
      "cell_type": "markdown",
      "source": [
        "# **Banco de Dados e SQL**"
      ],
      "metadata": {
        "id": "Ir1-kTVqO7fj"
      }
    },
    {
      "cell_type": "markdown",
      "source": [
        "Este notebook tem como objetivo apresentar os fundamentos da manipulação e consulta de dados utilizando **SQL** em conjunto com a biblioteca **pandas**. Serão abordados os princípios básicos de bancos de dados relacionais, a sintaxe SQL para operações de consulta (`SELECT`, `WHERE`, `JOIN`, entre outras) e, principalmente, a integração desses recursos ao pandas, permitindo a extração, transformação e análise de dados de forma eficiente e escalável."
      ],
      "metadata": {
        "id": "UTQYfX-3PEo7"
      }
    },
    {
      "cell_type": "markdown",
      "source": [
        "## **O que é um Banco de Dados e SQL?**"
      ],
      "metadata": {
        "id": "xue8hcQGP6GO"
      }
    },
    {
      "cell_type": "markdown",
      "source": [
        "* **Banco de Dados Relacional:** Sistema estruturado para armazenamento, organização e gerenciamento de dados, baseado no modelo relacional. Representa os dados em tabelas (relações) compostas por linhas (tuplas) e colunas (atributos), permitindo integridade, consistência e acesso eficiente.\n",
        "\n",
        "* **SQL (Structured Query Language):** Linguagem declarativa padrão para interação com bancos de dados relacionais. Permite realizar operações como consulta (`SELECT`), inserção (`INSERT`), atualização (`UPDATE`) e remoção (`DELETE`) de dados, além de manipulação de estruturas e controle de permissões.\n",
        "\n",
        "* **Integração Pandas + SQL:** A combinação de SQL com a biblioteca pandas oferece uma abordagem robusta para análise de dados. O SQL é responsável pela extração eficiente dos dados diretamente da base, aplicando filtros, junções e agregações no servidor de dados. O pandas complementa essa etapa ao possibilitar manipulações avançadas, transformações, análises estatísticas e visualizações diretamente na memória, maximizando a produtividade na análise de dados.\n"
      ],
      "metadata": {
        "id": "JdZN68x5P9Rq"
      }
    },
    {
      "cell_type": "markdown",
      "source": [
        "## **Preparando o Ambiente**"
      ],
      "metadata": {
        "id": "rPJEUjMZQWIJ"
      }
    },
    {
      "cell_type": "markdown",
      "source": [
        "O **SQLite** é uma solução leve, que não requer a configuração de um servidor dedicado, armazenando os dados em um único arquivo local ou diretamente na memória. Por essas características, é utilizado em ambientes de desenvolvimento, prototipagem, testes e aplicações embarcadas. Inicialmente, realizaremos a importação das bibliotecas necessárias e criaremos uma instância de banco de dados **em memória** (`:memory:`), que reside na RAM e não persiste após o encerramento da sessão."
      ],
      "metadata": {
        "id": "rGON9oBVQZAT"
      }
    },
    {
      "cell_type": "code",
      "source": [
        "import pandas as pd\n",
        "import sqlite3\n",
        "\n",
        "# Criando uma conexão com um banco de dados SQLite em memória\n",
        "# Isso significa que o banco de dados existirá apenas enquanto o script estiver rodando\n",
        "conn = sqlite3.connect(':memory:')\n",
        "\n",
        "# Para confirmar que a conexão foi criada\n",
        "print(\"Conexão com o banco de dados SQLite criada com sucesso!\")"
      ],
      "metadata": {
        "colab": {
          "base_uri": "https://localhost:8080/"
        },
        "id": "iimG8-x0Q7_k",
        "outputId": "03ef2f30-063e-435a-c925-fbb982d14e04"
      },
      "execution_count": null,
      "outputs": [
        {
          "output_type": "stream",
          "name": "stdout",
          "text": [
            "Conexão com o banco de dados SQLite criada com sucesso!\n"
          ]
        }
      ]
    },
    {
      "cell_type": "markdown",
      "source": [
        "Agora, vamos criar alguns DataFrames com o pandas e carregá-los como tabelas no nosso banco de dados."
      ],
      "metadata": {
        "id": "XDQHnG1pRDhe"
      }
    },
    {
      "cell_type": "code",
      "source": [
        "# Criando DataFrame de funcionários\n",
        "df_funcionarios = pd.DataFrame({\n",
        "    'id_funcionario': [1, 2, 3, 4, 5, 6, 7],\n",
        "    'nome': ['Ana', 'Bruno', 'Carla', 'Daniel', 'Eva', 'Fábio', 'Gisele'],\n",
        "    'id_departamento': [1, 2, 1, 3, 2, 1, 3],\n",
        "    'salario': [7000, 8200, 6500, 9500, 11000, 5800, 12000]\n",
        "})\n",
        "\n",
        "# Criando DataFrame de departamentos\n",
        "df_departamentos = pd.DataFrame({\n",
        "    'id_departamento': [1, 2, 3],\n",
        "    'nome_departamento': ['TI', 'Marketing', 'Vendas']\n",
        "})\n",
        "\n",
        "# Usando a função to_sql para enviar os dados dos DataFrames para o banco de dados\n",
        "df_funcionarios.to_sql('funcionarios', conn, index=False, if_exists='replace')\n",
        "df_departamentos.to_sql('departamentos', conn, index=False, if_exists='replace')\n",
        "\n",
        "print(\"Tabelas 'funcionarios' e 'departamentos' criadas no banco de dados.\")"
      ],
      "metadata": {
        "colab": {
          "base_uri": "https://localhost:8080/"
        },
        "id": "vNwlDXriRGv3",
        "outputId": "df1d301f-cfec-48bb-e2ae-d23b7852f9ad"
      },
      "execution_count": null,
      "outputs": [
        {
          "output_type": "stream",
          "name": "stdout",
          "text": [
            "Tabelas 'funcionarios' e 'departamentos' criadas no banco de dados.\n"
          ]
        }
      ]
    },
    {
      "cell_type": "markdown",
      "source": [
        "## **Consultas Básicas com SQL**"
      ],
      "metadata": {
        "id": "L6xMjLLtROxv"
      }
    },
    {
      "cell_type": "markdown",
      "source": [
        "A principal forma de ler dados de um banco SQL com pandas é usando a função `pd.read_sql_query()`."
      ],
      "metadata": {
        "id": "Q_9o0ylFRUFH"
      }
    },
    {
      "cell_type": "markdown",
      "source": [
        "### **SELECT - Selecionando Colunas**"
      ],
      "metadata": {
        "id": "x0iaAk-7Rbh5"
      }
    },
    {
      "cell_type": "markdown",
      "source": [
        "Para selecionar todas as colunas de uma tabela, usamos *."
      ],
      "metadata": {
        "id": "QUau0bZFRgIA"
      }
    },
    {
      "cell_type": "code",
      "source": [
        "# Consulta SQL para selecionar tudo da tabela de funcionários\n",
        "query_todos_funcionarios = \"SELECT * FROM funcionarios;\"\n",
        "\n",
        "# Executando a consulta e carregando o resultado em um DataFrame\n",
        "df_resultado = pd.read_sql_query(query_todos_funcionarios, conn)\n",
        "\n",
        "print(\"Todos os funcionários:\")\n",
        "print(df_resultado)"
      ],
      "metadata": {
        "colab": {
          "base_uri": "https://localhost:8080/"
        },
        "id": "2Juvf3ULRhoU",
        "outputId": "eb21b564-975c-41f8-b972-0a390089de9a"
      },
      "execution_count": null,
      "outputs": [
        {
          "output_type": "stream",
          "name": "stdout",
          "text": [
            "Todos os funcionários:\n",
            "   id_funcionario    nome  id_departamento  salario\n",
            "0               1     Ana                1     7000\n",
            "1               2   Bruno                2     8200\n",
            "2               3   Carla                1     6500\n",
            "3               4  Daniel                3     9500\n",
            "4               5     Eva                2    11000\n",
            "5               6   Fábio                1     5800\n",
            "6               7  Gisele                3    12000\n"
          ]
        }
      ]
    },
    {
      "cell_type": "markdown",
      "source": [
        "Para selecionar colunas específicas, basta listá-las."
      ],
      "metadata": {
        "id": "Ji4VjCtQRt28"
      }
    },
    {
      "cell_type": "code",
      "source": [
        "# Selecionando apenas nome e salário\n",
        "query_nome_salario = \"SELECT nome, salario FROM funcionarios;\"\n",
        "\n",
        "df_resultado = pd.read_sql_query(query_nome_salario, conn)\n",
        "\n",
        "print(\"Nome e salário dos funcionários:\")\n",
        "print(df_resultado)"
      ],
      "metadata": {
        "colab": {
          "base_uri": "https://localhost:8080/"
        },
        "id": "vtSltgkmRuq4",
        "outputId": "66aa5067-16fa-4805-d15e-3510b858bd7b"
      },
      "execution_count": null,
      "outputs": [
        {
          "output_type": "stream",
          "name": "stdout",
          "text": [
            "Nome e salário dos funcionários:\n",
            "     nome  salario\n",
            "0     Ana     7000\n",
            "1   Bruno     8200\n",
            "2   Carla     6500\n",
            "3  Daniel     9500\n",
            "4     Eva    11000\n",
            "5   Fábio     5800\n",
            "6  Gisele    12000\n"
          ]
        }
      ]
    },
    {
      "cell_type": "markdown",
      "source": [
        "## **WHERE - Filtrando Dados**"
      ],
      "metadata": {
        "id": "nfHjbyS8RyL0"
      }
    },
    {
      "cell_type": "markdown",
      "source": [
        "A cláusula `WHERE` é usada para filtrar registros com base em uma condição."
      ],
      "metadata": {
        "id": "yRcHdK5kR335"
      }
    },
    {
      "cell_type": "code",
      "source": [
        "# Encontrar funcionários com salário maior que 8000\n",
        "query_salario_alto = \"SELECT * FROM funcionarios WHERE salario > 8000;\"\n",
        "\n",
        "df_resultado = pd.read_sql_query(query_salario_alto, conn)\n",
        "\n",
        "print(\"Funcionários com salário acima de 8000:\")\n",
        "print(df_resultado)"
      ],
      "metadata": {
        "colab": {
          "base_uri": "https://localhost:8080/"
        },
        "id": "CjlhCedTR-M5",
        "outputId": "cb62d8a0-9f4d-4409-9ba7-5a443fff33a8"
      },
      "execution_count": null,
      "outputs": [
        {
          "output_type": "stream",
          "name": "stdout",
          "text": [
            "Funcionários com salário acima de 8000:\n",
            "   id_funcionario    nome  id_departamento  salario\n",
            "0               2   Bruno                2     8200\n",
            "1               4  Daniel                3     9500\n",
            "2               5     Eva                2    11000\n",
            "3               7  Gisele                3    12000\n"
          ]
        }
      ]
    },
    {
      "cell_type": "markdown",
      "source": [
        "## **LIMIT - Limitando o Número de Resultados**"
      ],
      "metadata": {
        "id": "Y-DmMhcWSGeY"
      }
    },
    {
      "cell_type": "markdown",
      "source": [
        "Se a tabela for muito grande, podemos querer ver apenas as primeiras linhas."
      ],
      "metadata": {
        "id": "IMc-HQTZSKcJ"
      }
    },
    {
      "cell_type": "code",
      "source": [
        "# Selecionar os 3 primeiros funcionários\n",
        "query_limit = \"SELECT * FROM funcionarios LIMIT 3;\"\n",
        "\n",
        "df_resultado = pd.read_sql_query(query_limit, conn)\n",
        "\n",
        "print(\"Os 3 primeiros funcionários da tabela:\")\n",
        "print(df_resultado)"
      ],
      "metadata": {
        "colab": {
          "base_uri": "https://localhost:8080/"
        },
        "id": "sLB_dn8FSNCW",
        "outputId": "606f76d2-f016-461a-8eb0-0acadf222dd7"
      },
      "execution_count": null,
      "outputs": [
        {
          "output_type": "stream",
          "name": "stdout",
          "text": [
            "Os 3 primeiros funcionários da tabela:\n",
            "   id_funcionario   nome  id_departamento  salario\n",
            "0               1    Ana                1     7000\n",
            "1               2  Bruno                2     8200\n",
            "2               3  Carla                1     6500\n"
          ]
        }
      ]
    },
    {
      "cell_type": "markdown",
      "source": [
        "## **Consultas Avançadas com SQL**"
      ],
      "metadata": {
        "id": "VaclajUdST2T"
      }
    },
    {
      "cell_type": "markdown",
      "source": [
        "Agora vamos explorar algumas funcionalidades mais poderosas do SQL."
      ],
      "metadata": {
        "id": "0J7qHYosSQ0A"
      }
    },
    {
      "cell_type": "markdown",
      "source": [
        "### **JOIN - Combinando Tabelas**"
      ],
      "metadata": {
        "id": "b1VznCWkSbVk"
      }
    },
    {
      "cell_type": "markdown",
      "source": [
        "`JOIN` é usado para combinar linhas de duas ou more tabelas com base em uma coluna relacionada. Vamos juntar funcionarios com departamentos para ver o nome do departamento de cada funcionário."
      ],
      "metadata": {
        "id": "F9rupYlmSe0Y"
      }
    },
    {
      "cell_type": "code",
      "source": [
        "# Usando INNER JOIN para combinar as tabelas\n",
        "query_join = \"\"\"\n",
        "SELECT\n",
        "    f.nome,\n",
        "    f.salario,\n",
        "    d.nome_departamento\n",
        "FROM\n",
        "    funcionarios AS f\n",
        "INNER JOIN\n",
        "    departamentos AS d ON f.id_departamento = d.id_departamento;\n",
        "\"\"\"\n",
        "\n",
        "df_join = pd.read_sql_query(query_join, conn)\n",
        "\n",
        "print(\"Funcionários com seus respectivos departamentos:\")\n",
        "print(df_join)"
      ],
      "metadata": {
        "id": "RkysQaJ6Skcq"
      },
      "execution_count": null,
      "outputs": []
    },
    {
      "cell_type": "markdown",
      "source": [
        "> **INNER JOIN:** Retorna apenas os registros que têm valores correspondentes em ambas as tabelas.\n",
        "\n",
        "> **LEFT JOIN:** Retorna todos os registros da tabela da esquerda (funcionarios) e os registros correspondentes da tabela da direita (departamentos). Se não houver correspondência, o resultado é NULL no lado direito."
      ],
      "metadata": {
        "id": "eAcvX7EHSx4P"
      }
    },
    {
      "cell_type": "markdown",
      "source": [
        "### **GROUP BY - Agrupando Dados**"
      ],
      "metadata": {
        "id": "RH6kqmfATOgU"
      }
    },
    {
      "cell_type": "markdown",
      "source": [
        "A cláusula `GROUP BY` é utilizada para agrupar registros que compartilham o mesmo valor em um ou mais atributos, produzindo uma tupla de saída para cada grupo distinto. Essa operação é essencial em consultas que envolvem **funções de agregação** — como `COUNT()`, `AVG()`, `SUM()`, `MIN()`, `MAX()` — permitindo calcular métricas resumidas por categorias específicas. No exemplo a seguir, aplicaremos a cláusula `GROUP BY` para calcular a **média salarial por departamento**.\n"
      ],
      "metadata": {
        "id": "WUOcPUzTTS8c"
      }
    },
    {
      "cell_type": "code",
      "source": [
        "# Calcular salário médio e número de funcionários por departamento\n",
        "query_group_by = \"\"\"\n",
        "SELECT\n",
        "    d.nome_departamento,\n",
        "    COUNT(f.id_funcionario) AS numero_de_funcionarios,\n",
        "    AVG(f.salario) AS salario_medio\n",
        "FROM\n",
        "    funcionarios AS f\n",
        "INNER JOIN\n",
        "    departamentos AS d ON f.id_departamento = d.id_departamento\n",
        "GROUP BY\n",
        "    d.nome_departamento;\n",
        "\"\"\"\n",
        "\n",
        "df_agregado = pd.read_sql_query(query_group_by, conn)\n",
        "\n",
        "print(\"Análise de salários por departamento:\")\n",
        "print(df_agregado)"
      ],
      "metadata": {
        "colab": {
          "base_uri": "https://localhost:8080/"
        },
        "id": "K0D6FrEMT7-j",
        "outputId": "7baa7795-84e9-48cf-af17-eb54c726951c"
      },
      "execution_count": null,
      "outputs": [
        {
          "output_type": "stream",
          "name": "stdout",
          "text": [
            "Análise de salários por departamento:\n",
            "  nome_departamento  numero_de_funcionarios  salario_medio\n",
            "0         Marketing                       2    9600.000000\n",
            "1                TI                       3    6433.333333\n",
            "2            Vendas                       2   10750.000000\n"
          ]
        }
      ]
    },
    {
      "cell_type": "markdown",
      "source": [
        "## **ORDER BY - Ordenando os Resultados**"
      ],
      "metadata": {
        "id": "D3dXpU46UFb6"
      }
    },
    {
      "cell_type": "markdown",
      "source": [
        "Podemos ordenar os resultados de uma consulta em ordem ascendente (ASC) ou descendente (DESC)."
      ],
      "metadata": {
        "id": "llt_fpAsUIX2"
      }
    },
    {
      "cell_type": "code",
      "source": [
        "# Listar funcionários do mais bem pago para o menos bem pago\n",
        "query_order_by = \"SELECT nome, salario FROM funcionarios ORDER BY salario DESC;\"\n",
        "\n",
        "df_ordenado = pd.read_sql_query(query_order_by, conn)\n",
        "\n",
        "print(\"Funcionários ordenados por salário (do maior para o menor):\")\n",
        "print(df_ordenado)"
      ],
      "metadata": {
        "colab": {
          "base_uri": "https://localhost:8080/"
        },
        "id": "7rPuSqJtUNWO",
        "outputId": "ba33647c-d16b-4c22-c0d1-d9158ba262e4"
      },
      "execution_count": null,
      "outputs": [
        {
          "output_type": "stream",
          "name": "stdout",
          "text": [
            "Funcionários ordenados por salário (do maior para o menor):\n",
            "     nome  salario\n",
            "0  Gisele    12000\n",
            "1     Eva    11000\n",
            "2  Daniel     9500\n",
            "3   Bruno     8200\n",
            "4     Ana     7000\n",
            "5   Carla     6500\n",
            "6   Fábio     5800\n"
          ]
        }
      ]
    },
    {
      "cell_type": "markdown",
      "source": [
        "## **HAVING - Filtrando Grupos**"
      ],
      "metadata": {
        "id": "NmZuP0OiUWem"
      }
    },
    {
      "cell_type": "markdown",
      "source": [
        "A cláusula **`WHERE`** aplica filtros sobre as tuplas da tabela **antes da execução da agregação**, restringindo o conjunto de dados que será processado. Por outro lado, a cláusula **`HAVING`** atua **após a etapa de agrupamento**, permitindo impor condições sobre os grupos resultantes de um `GROUP BY`. No exemplo a seguir, utilizaremos `HAVING` para restringir a saída aos departamentos cuja **média salarial (`AVG`) excede 9000**, ou seja, o filtro é aplicado sobre o resultado da função de agregação calculada por grupo.\n"
      ],
      "metadata": {
        "id": "9aXsUXANUYg4"
      }
    },
    {
      "cell_type": "code",
      "source": [
        "# Usando HAVING para filtrar os resultados do GROUP BY\n",
        "query_having = \"\"\"\n",
        "SELECT\n",
        "    d.nome_departamento,\n",
        "    AVG(f.salario) AS salario_medio\n",
        "FROM\n",
        "    funcionarios AS f\n",
        "INNER JOIN\n",
        "    departamentos AS d ON f.id_departamento = d.id_departamento\n",
        "GROUP BY\n",
        "    d.nome_departamento\n",
        "HAVING\n",
        "    AVG(f.salario) > 9000;\n",
        "\"\"\"\n",
        "\n",
        "df_filtrado_grupo = pd.read_sql_query(query_having, conn)\n",
        "\n",
        "print(\"Departamentos com salário médio acima de 9000:\")\n",
        "print(df_filtrado_grupo)"
      ],
      "metadata": {
        "colab": {
          "base_uri": "https://localhost:8080/"
        },
        "id": "BueymFzUUucs",
        "outputId": "8369a892-8800-450d-df57-e553f0e8e352"
      },
      "execution_count": null,
      "outputs": [
        {
          "output_type": "stream",
          "name": "stdout",
          "text": [
            "Departamentos com salário médio acima de 9000:\n",
            "  nome_departamento  salario_medio\n",
            "0         Marketing         9600.0\n",
            "1            Vendas        10750.0\n"
          ]
        }
      ]
    },
    {
      "cell_type": "markdown",
      "source": [
        "A consulta a seguir demonstra o uso da cláusula **`WHERE`** para aplicar filtros no nível das tuplas individuais, antes da etapa de agrupamento. Diferentemente da cláusula **`HAVING`**, que filtra grupos pós-agregação, o **`WHERE`** restringe o conjunto de dados brutos, selecionando somente os registros cujo atributo `salario` excede 9000. Como consequência, a função agregada `AVG` calculará a média apenas sobre esse subconjunto pré-filtrado, o que pode resultar em valores distintos em comparação à filtragem realizada após o agrupamento."
      ],
      "metadata": {
        "id": "icS_gNegVBKj"
      }
    },
    {
      "cell_type": "code",
      "source": [
        "query_where = \"\"\"\n",
        "SELECT\n",
        "    d.nome_departamento,\n",
        "    AVG(f.salario) AS salario_medio\n",
        "FROM\n",
        "    funcionarios AS f\n",
        "INNER JOIN\n",
        "    departamentos AS d ON f.id_departamento = d.id_departamento\n",
        "WHERE\n",
        "    f.salario > 9000\n",
        "GROUP BY\n",
        "    d.nome_departamento;\n",
        "\"\"\"\n",
        "\n",
        "df_filtrado_where = pd.read_sql_query(query_where, conn)\n",
        "\n",
        "print(\"Salário médio considerando apenas funcionários com salário > 9000:\")\n",
        "print(df_filtrado_where)\n"
      ],
      "metadata": {
        "colab": {
          "base_uri": "https://localhost:8080/"
        },
        "id": "FN6vYqPzVbz4",
        "outputId": "b958f321-a288-48b9-842d-2cdd279d9bda"
      },
      "execution_count": null,
      "outputs": [
        {
          "output_type": "stream",
          "name": "stdout",
          "text": [
            "Salário médio considerando apenas funcionários com salário > 9000:\n",
            "  nome_departamento  salario_medio\n",
            "0         Marketing        11000.0\n",
            "1            Vendas        10750.0\n"
          ]
        }
      ]
    },
    {
      "cell_type": "markdown",
      "source": [
        "## **Conclusão**"
      ],
      "metadata": {
        "id": "6-fOh0llWgba"
      }
    },
    {
      "cell_type": "markdown",
      "source": [
        "Nesta aula, demonstramos como a biblioteca **pandas** pode ser utilizada como uma interface eficiente para interação com bancos de dados relacionais via SQL.\n",
        "Abordamos a criação de bancos de dados e tabelas a partir de estruturas **DataFrame**, possibilitando a persistência de dados. Executamos consultas SQL tanto básicas (`SELECT`, `WHERE`) quanto avançadas (`JOIN`, `GROUP BY`, `ORDER BY`), ilustrando diferentes níveis de manipulação e extração de dados. Os resultados das consultas foram carregados diretamente em DataFrames, facilitando a análise exploratória e manipulação posterior dos dados. Essa abordagem integra a performance e expressividade do SQL para extração precisa de dados com a versatilidade do pandas para análises estatísticas, transformações e visualizações detalhadas. Por fim, é recomendada a correta finalização da sessão com o fechamento da conexão ao banco de dados:"
      ],
      "metadata": {
        "id": "mNIsuCM7Wnbt"
      }
    },
    {
      "cell_type": "code",
      "source": [
        "conn.close()\n",
        "print(\"Conexão com o banco de dados fechada.\")"
      ],
      "metadata": {
        "colab": {
          "base_uri": "https://localhost:8080/"
        },
        "id": "PW8U6DFZWpl_",
        "outputId": "630aa71f-09b2-4f8e-b80a-6b90d7e4c310"
      },
      "execution_count": null,
      "outputs": [
        {
          "output_type": "stream",
          "name": "stdout",
          "text": [
            "Conexão com o banco de dados fechada.\n"
          ]
        }
      ]
    },
    {
      "cell_type": "markdown",
      "source": [
        "## **Quiz: Agrupando e Filtrando com SQL**"
      ],
      "metadata": {
        "id": "eUk4EiZtYVmF"
      }
    },
    {
      "cell_type": "markdown",
      "source": [
        "Teste seus conhecimentos e pratique os conceitos abordados nesta aula!\n",
        "\n",
        "https://g.co/gemini/share/7cb1c52af389\n",
        "\n",
        "\n",
        "\n",
        "\n",
        "\n",
        "\n",
        "\n",
        "\n"
      ],
      "metadata": {
        "id": "rHJmUKg6YpNC"
      }
    },
    {
      "cell_type": "markdown",
      "source": [
        "## **Exercícios Práticos**"
      ],
      "metadata": {
        "id": "wATKy5Y-XFNo"
      }
    },
    {
      "cell_type": "markdown",
      "source": [
        "**Exercício 1: Funcionários de Marketing**"
      ],
      "metadata": {
        "id": "WPTF1KkqXIhD"
      }
    },
    {
      "cell_type": "markdown",
      "source": [
        "Selecione o nome e o salário de todos os funcionários que trabalham no departamento de 'Marketing'."
      ],
      "metadata": {
        "id": "FsidReaEXOGU"
      }
    },
    {
      "cell_type": "code",
      "source": [],
      "metadata": {
        "id": "RdBfnykUXPXI"
      },
      "execution_count": null,
      "outputs": []
    },
    {
      "cell_type": "markdown",
      "source": [
        "**Exercício 2: O Funcionário Mais Antigo (por ID)**"
      ],
      "metadata": {
        "id": "2cH9LCvZXg2y"
      }
    },
    {
      "cell_type": "markdown",
      "source": [
        "Encontre o nome do funcionário com o menor id_funcionario, assumindo que IDs menores são mais antigos."
      ],
      "metadata": {
        "id": "vyog7TACXiZ-"
      }
    },
    {
      "cell_type": "code",
      "source": [],
      "metadata": {
        "id": "zbvfouJ0XlXR"
      },
      "execution_count": null,
      "outputs": []
    },
    {
      "cell_type": "markdown",
      "source": [
        "**Exercício 3: Departamentos com Poucos Funcionários**"
      ],
      "metadata": {
        "id": "5ZNgYj-qXoJL"
      }
    },
    {
      "cell_type": "markdown",
      "source": [
        "Liste os nomes dos departamentos que têm 2 ou menos funcionários."
      ],
      "metadata": {
        "id": "MVm3mnneXpsW"
      }
    },
    {
      "cell_type": "code",
      "source": [],
      "metadata": {
        "id": "3A79LQouXtUh"
      },
      "execution_count": null,
      "outputs": []
    }
  ]
}